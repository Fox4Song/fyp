{
  "cells": [
    {
      "cell_type": "code",
      "execution_count": 1,
      "metadata": {
        "id": "21ZXg5oftdXb"
      },
      "outputs": [],
      "source": [
        "import os\n",
        "os.chdir(\"drive/MyDrive/fyp/src\")"
      ]
    },
    {
      "cell_type": "code",
      "execution_count": 2,
      "metadata": {
        "id": "Z1pJYNovuUeT"
      },
      "outputs": [],
      "source": [
        "from data import PolygonSentenceReader, Polygon\n",
        "from modules import NLLLoss, ELBOLoss\n",
        "from neural_process.models.np import CNP, LNP\n",
        "from neural_process.models.attnnp import AttnCNP, AttnLNP\n",
        "from utils import plot_polygon\n",
        "\n",
        "import datetime\n",
        "import random\n",
        "from tqdm import tqdm\n",
        "import torch\n",
        "import torch.nn as nn\n",
        "from torch.distributions.kl import kl_divergence"
      ]
    },
    {
      "cell_type": "code",
      "execution_count": 3,
      "metadata": {
        "id": "EpvLDqnPucpc"
      },
      "outputs": [],
      "source": [
        "TRAINING_ITERATIONS = int(2e5)\n",
        "PLOT_AFTER = int(1e4)\n",
        "BATCH_SIZE = 64\n",
        "MAX_CONTEXT_POINTS = 10\n",
        "MAX_SEQ_LEN = 5 + 4 * 8\n",
        "torch.manual_seed(0)\n",
        "\n",
        "criterion = ELBOLoss()\n",
        "\n",
        "# Instantiate a polygon generator.\n",
        "# (For example, polygons with between 3 and 8 sides.)\n",
        "polygon_generator_train = PolygonSentenceReader(\n",
        "    batch_size=BATCH_SIZE,\n",
        "    max_num_context=MAX_CONTEXT_POINTS,\n",
        "    max_seq_len=MAX_SEQ_LEN,\n",
        "    min_num_sides=3,\n",
        "    max_num_sides=8,\n",
        "    center=(5, 5),\n",
        "    radius=3,\n",
        "    testing=False,\n",
        ")\n",
        "\n",
        "polygon_generator_test = PolygonSentenceReader(\n",
        "    batch_size=100,\n",
        "    max_num_context=MAX_CONTEXT_POINTS,\n",
        "    max_seq_len=MAX_SEQ_LEN,\n",
        "    min_num_sides=4,\n",
        "    max_num_sides=4,\n",
        "    center=(5, 5),\n",
        "    radius=3,\n",
        "    testing=True,\n",
        ")"
      ]
    },
    {
      "cell_type": "code",
      "execution_count": 4,
      "metadata": {
        "colab": {
          "base_uri": "https://localhost:8080/"
        },
        "id": "pV1sgDM6ud2j",
        "outputId": "3ff76048-9884-4807-a370-c15bd69c123b"
      },
      "outputs": [
        {
          "output_type": "stream",
          "name": "stderr",
          "text": [
            "Training:   0%|          | 4/200001 [00:01<11:58:39,  4.64iter/s, Iteration=0, Train Loss=765430720.0000, LR=0.000100]"
          ]
        },
        {
          "output_type": "stream",
          "name": "stdout",
          "text": [
            "2025-04-26 15:47:31: Iteration: 0, Train Loss: 765430720.0000\n",
            "2025-04-26 15:47:31: Iteration: 0, Test Loss: 765430720.0000\n",
            "True Polygon:  Polygon(n=4, vertices=[(7.89, 5.81), (3.54, 7.62), (2.03, 5.44), (4.77, 2.01)], lengths=[4.711539026687564, 2.651886121235224, 4.390045557850169, 4.916746892000848], angles=[73.20400494066425, 102.11701644627829, 106.67213898839545, 78.00683962466204])\n",
            "Predicted Polygon Vertices:  Polygon(n=4, vertices=[(7.89, 5.81), (3.54, 7.62), (2.03, 5.44), (4.77, 2.01)], lengths=[4.711539026687564, 2.651886121235224, 4.390045557850169, 4.916746892000848], angles=[12.446619033813477, -16.73868179321289, 13.744227409362793, 3.5979905128479004])\n"
          ]
        },
        {
          "output_type": "stream",
          "name": "stderr",
          "text": [
            "Training:   1%|          | 1007/200001 [00:34<1:50:08, 30.11iter/s, Iteration=1000, Train Loss=2118067.0000, LR=0.000100]"
          ]
        },
        {
          "output_type": "stream",
          "name": "stdout",
          "text": [
            "2025-04-26 15:48:05: Iteration: 1000, Train Loss: 2118067.0000\n"
          ]
        },
        {
          "output_type": "stream",
          "name": "stderr",
          "text": [
            "Training:   1%|          | 2005/200001 [01:08<1:49:54, 30.03iter/s, Iteration=2000, Train Loss=532405.7500, LR=0.000100]"
          ]
        },
        {
          "output_type": "stream",
          "name": "stdout",
          "text": [
            "2025-04-26 15:48:38: Iteration: 2000, Train Loss: 532405.7500\n"
          ]
        },
        {
          "output_type": "stream",
          "name": "stderr",
          "text": [
            "Training:   2%|▏         | 3006/200001 [01:41<1:50:45, 29.64iter/s, Iteration=3000, Train Loss=81435.8516, LR=0.000100]"
          ]
        },
        {
          "output_type": "stream",
          "name": "stdout",
          "text": [
            "2025-04-26 15:49:11: Iteration: 3000, Train Loss: 81435.8516\n"
          ]
        },
        {
          "output_type": "stream",
          "name": "stderr",
          "text": [
            "Training:   2%|▏         | 4003/200001 [02:14<1:48:07, 30.21iter/s, Iteration=4000, Train Loss=802285.6250, LR=0.000100]"
          ]
        },
        {
          "output_type": "stream",
          "name": "stdout",
          "text": [
            "2025-04-26 15:49:44: Iteration: 4000, Train Loss: 802285.6250\n"
          ]
        },
        {
          "output_type": "stream",
          "name": "stderr",
          "text": [
            "Training:   3%|▎         | 5004/200001 [02:47<1:47:21, 30.27iter/s, Iteration=5000, Train Loss=138036.9844, LR=0.000100]"
          ]
        },
        {
          "output_type": "stream",
          "name": "stdout",
          "text": [
            "2025-04-26 15:50:18: Iteration: 5000, Train Loss: 138036.9844\n"
          ]
        },
        {
          "output_type": "stream",
          "name": "stderr",
          "text": [
            "Training:   3%|▎         | 6003/200001 [03:20<1:47:12, 30.16iter/s, Iteration=6000, Train Loss=231529.5312, LR=0.000100]"
          ]
        },
        {
          "output_type": "stream",
          "name": "stdout",
          "text": [
            "2025-04-26 15:50:51: Iteration: 6000, Train Loss: 231529.5312\n"
          ]
        },
        {
          "output_type": "stream",
          "name": "stderr",
          "text": [
            "Training:   4%|▎         | 7006/200001 [03:54<1:49:19, 29.42iter/s, Iteration=7000, Train Loss=1456.7841, LR=0.000100]"
          ]
        },
        {
          "output_type": "stream",
          "name": "stdout",
          "text": [
            "2025-04-26 15:51:24: Iteration: 7000, Train Loss: 1456.7841\n"
          ]
        },
        {
          "output_type": "stream",
          "name": "stderr",
          "text": [
            "Training:   4%|▍         | 8003/200001 [04:27<1:40:05, 31.97iter/s, Iteration=8000, Train Loss=1812.1392, LR=0.000100]"
          ]
        },
        {
          "output_type": "stream",
          "name": "stdout",
          "text": [
            "2025-04-26 15:51:57: Iteration: 8000, Train Loss: 1812.1392\n"
          ]
        },
        {
          "output_type": "stream",
          "name": "stderr",
          "text": [
            "Training:   5%|▍         | 9004/200001 [05:00<1:48:45, 29.27iter/s, Iteration=9000, Train Loss=643.6068, LR=0.000100]"
          ]
        },
        {
          "output_type": "stream",
          "name": "stdout",
          "text": [
            "2025-04-26 15:52:30: Iteration: 9000, Train Loss: 643.6068\n"
          ]
        },
        {
          "output_type": "stream",
          "name": "stderr",
          "text": [
            "Training:   5%|▌         | 10005/200001 [05:33<1:58:54, 26.63iter/s, Iteration=1e+4, Train Loss=1201.3947, LR=0.000099]"
          ]
        },
        {
          "output_type": "stream",
          "name": "stdout",
          "text": [
            "2025-04-26 15:53:03: Iteration: 10000, Train Loss: 1201.3947\n",
            "2025-04-26 15:53:03: Iteration: 10000, Test Loss: 1201.3947\n",
            "True Polygon:  Polygon(n=4, vertices=[(7.45, 6.73), (6.18, 2.24), (6.41, 2.35), (6.64, 2.49)], lengths=[4.666154733825273, 0.2549509756796396, 0.26925824035672485, 4.316676962664684], angles=[4.978254625094408, 48.6464378112963, 174.23127230401943, 132.14403525958994])\n",
            "Predicted Polygon Vertices:  Polygon(n=4, vertices=[(7.45, 6.73), (6.18, 2.24), (6.41, 2.35), (6.64, 2.49)], lengths=[4.666154733825273, 0.2549509756796396, 0.26925824035672485, 4.316676962664684], angles=[46.10673141479492, 60.833011627197266, -7.789690017700195, 56.70126724243164])\n"
          ]
        },
        {
          "output_type": "stream",
          "name": "stderr",
          "text": [
            "Training:   6%|▌         | 11004/200001 [06:06<1:46:48, 29.49iter/s, Iteration=11000, Train Loss=1354.1796, LR=0.000099]"
          ]
        },
        {
          "output_type": "stream",
          "name": "stdout",
          "text": [
            "2025-04-26 15:53:37: Iteration: 11000, Train Loss: 1354.1796\n"
          ]
        },
        {
          "output_type": "stream",
          "name": "stderr",
          "text": [
            "Training:   6%|▌         | 12006/200001 [06:40<1:53:27, 27.62iter/s, Iteration=12000, Train Loss=761.0668, LR=0.000099]"
          ]
        },
        {
          "output_type": "stream",
          "name": "stdout",
          "text": [
            "2025-04-26 15:54:10: Iteration: 12000, Train Loss: 761.0668\n"
          ]
        },
        {
          "output_type": "stream",
          "name": "stderr",
          "text": [
            "Training:   7%|▋         | 13005/200001 [07:13<1:40:23, 31.04iter/s, Iteration=13000, Train Loss=540.2866, LR=0.000099]"
          ]
        },
        {
          "output_type": "stream",
          "name": "stdout",
          "text": [
            "2025-04-26 15:54:44: Iteration: 13000, Train Loss: 540.2866\n"
          ]
        },
        {
          "output_type": "stream",
          "name": "stderr",
          "text": [
            "Training:   7%|▋         | 14005/200001 [07:47<1:42:54, 30.13iter/s, Iteration=14000, Train Loss=369.8195, LR=0.000099]"
          ]
        },
        {
          "output_type": "stream",
          "name": "stdout",
          "text": [
            "2025-04-26 15:55:17: Iteration: 14000, Train Loss: 369.8195\n"
          ]
        },
        {
          "output_type": "stream",
          "name": "stderr",
          "text": [
            "Training:   8%|▊         | 15005/200001 [08:19<1:39:09, 31.10iter/s, Iteration=15000, Train Loss=474.4939, LR=0.000099]"
          ]
        },
        {
          "output_type": "stream",
          "name": "stdout",
          "text": [
            "2025-04-26 15:55:50: Iteration: 15000, Train Loss: 474.4939\n"
          ]
        },
        {
          "output_type": "stream",
          "name": "stderr",
          "text": [
            "Training:   8%|▊         | 16006/200001 [08:52<1:39:16, 30.89iter/s, Iteration=16000, Train Loss=258.2548, LR=0.000098]"
          ]
        },
        {
          "output_type": "stream",
          "name": "stdout",
          "text": [
            "2025-04-26 15:56:23: Iteration: 16000, Train Loss: 258.2548\n"
          ]
        },
        {
          "output_type": "stream",
          "name": "stderr",
          "text": [
            "Training:   9%|▊         | 17005/200001 [09:26<1:42:46, 29.67iter/s, Iteration=17000, Train Loss=261.5161, LR=0.000098]"
          ]
        },
        {
          "output_type": "stream",
          "name": "stdout",
          "text": [
            "2025-04-26 15:56:56: Iteration: 17000, Train Loss: 261.5161\n"
          ]
        },
        {
          "output_type": "stream",
          "name": "stderr",
          "text": [
            "Training:   9%|▉         | 18003/200001 [09:59<1:50:17, 27.50iter/s, Iteration=18000, Train Loss=346.2015, LR=0.000098]"
          ]
        },
        {
          "output_type": "stream",
          "name": "stdout",
          "text": [
            "2025-04-26 15:57:29: Iteration: 18000, Train Loss: 346.2015\n"
          ]
        },
        {
          "output_type": "stream",
          "name": "stderr",
          "text": [
            "Training:  10%|▉         | 19006/200001 [10:32<1:38:22, 30.67iter/s, Iteration=19000, Train Loss=286.3116, LR=0.000098]"
          ]
        },
        {
          "output_type": "stream",
          "name": "stdout",
          "text": [
            "2025-04-26 15:58:03: Iteration: 19000, Train Loss: 286.3116\n"
          ]
        },
        {
          "output_type": "stream",
          "name": "stderr",
          "text": [
            "Training:  10%|█         | 20003/200001 [11:05<1:40:23, 29.88iter/s, Iteration=2e+4, Train Loss=305.8935, LR=0.000098]"
          ]
        },
        {
          "output_type": "stream",
          "name": "stdout",
          "text": [
            "2025-04-26 15:58:36: Iteration: 20000, Train Loss: 305.8935\n",
            "2025-04-26 15:58:36: Iteration: 20000, Test Loss: 305.8935\n",
            "True Polygon:  Polygon(n=4, vertices=[(7.75, 6.2), (2.85, 7.09), (5.02, 2.0), (6.32, 2.31)], lengths=[4.980170679806065, 5.5332630517624946, 1.336450522840259, 4.144514446832101], angles=[80.11066141111432, 56.615625321061565, 99.67746075847948, 123.59625250934465])\n",
            "Predicted Polygon Vertices:  Polygon(n=4, vertices=[(7.75, 6.2), (2.85, 7.09), (5.02, 2.0), (6.32, 2.31)], lengths=[4.980170679806065, 5.5332630517624946, 1.336450522840259, 4.144514446832101], angles=[59.82686996459961, 85.72980499267578, 3.2760891914367676, 65.99884796142578])\n"
          ]
        },
        {
          "output_type": "stream",
          "name": "stderr",
          "text": [
            "Training:  11%|█         | 21004/200001 [11:38<1:45:32, 28.27iter/s, Iteration=21000, Train Loss=307.4964, LR=0.000097]"
          ]
        },
        {
          "output_type": "stream",
          "name": "stdout",
          "text": [
            "2025-04-26 15:59:09: Iteration: 21000, Train Loss: 307.4964\n"
          ]
        },
        {
          "output_type": "stream",
          "name": "stderr",
          "text": [
            "Training:  11%|█         | 22004/200001 [12:12<1:46:21, 27.89iter/s, Iteration=22000, Train Loss=254.4476, LR=0.000097]"
          ]
        },
        {
          "output_type": "stream",
          "name": "stdout",
          "text": [
            "2025-04-26 15:59:42: Iteration: 22000, Train Loss: 254.4476\n"
          ]
        },
        {
          "output_type": "stream",
          "name": "stderr",
          "text": [
            "Training:  12%|█▏        | 23003/200001 [12:46<1:39:30, 29.65iter/s, Iteration=23000, Train Loss=270.9498, LR=0.000097]"
          ]
        },
        {
          "output_type": "stream",
          "name": "stdout",
          "text": [
            "2025-04-26 16:00:16: Iteration: 23000, Train Loss: 270.9498\n"
          ]
        },
        {
          "output_type": "stream",
          "name": "stderr",
          "text": [
            "Training:  12%|█▏        | 24002/200001 [13:19<1:35:43, 30.64iter/s, Iteration=24000, Train Loss=299.9043, LR=0.000097]"
          ]
        },
        {
          "output_type": "stream",
          "name": "stdout",
          "text": [
            "2025-04-26 16:00:50: Iteration: 24000, Train Loss: 299.9043\n"
          ]
        },
        {
          "output_type": "stream",
          "name": "stderr",
          "text": [
            "Training:  13%|█▎        | 25005/200001 [13:53<1:37:58, 29.77iter/s, Iteration=25000, Train Loss=236.5605, LR=0.000096]"
          ]
        },
        {
          "output_type": "stream",
          "name": "stdout",
          "text": [
            "2025-04-26 16:01:23: Iteration: 25000, Train Loss: 236.5605\n"
          ]
        },
        {
          "output_type": "stream",
          "name": "stderr",
          "text": [
            "Training:  13%|█▎        | 26005/200001 [14:26<1:37:03, 29.88iter/s, Iteration=26000, Train Loss=227.7662, LR=0.000096]"
          ]
        },
        {
          "output_type": "stream",
          "name": "stdout",
          "text": [
            "2025-04-26 16:01:56: Iteration: 26000, Train Loss: 227.7662\n"
          ]
        },
        {
          "output_type": "stream",
          "name": "stderr",
          "text": [
            "Training:  14%|█▎        | 27004/200001 [14:59<1:38:25, 29.30iter/s, Iteration=27000, Train Loss=206.1330, LR=0.000096]"
          ]
        },
        {
          "output_type": "stream",
          "name": "stdout",
          "text": [
            "2025-04-26 16:02:30: Iteration: 27000, Train Loss: 206.1330\n"
          ]
        },
        {
          "output_type": "stream",
          "name": "stderr",
          "text": [
            "Training:  14%|█▍        | 28003/200001 [15:33<1:46:19, 26.96iter/s, Iteration=28000, Train Loss=184.1525, LR=0.000095]"
          ]
        },
        {
          "output_type": "stream",
          "name": "stdout",
          "text": [
            "2025-04-26 16:03:03: Iteration: 28000, Train Loss: 184.1525\n"
          ]
        },
        {
          "output_type": "stream",
          "name": "stderr",
          "text": [
            "Training:  15%|█▍        | 29006/200001 [16:06<1:33:07, 30.60iter/s, Iteration=29000, Train Loss=199.8486, LR=0.000095]"
          ]
        },
        {
          "output_type": "stream",
          "name": "stdout",
          "text": [
            "2025-04-26 16:03:36: Iteration: 29000, Train Loss: 199.8486\n"
          ]
        },
        {
          "output_type": "stream",
          "name": "stderr",
          "text": [
            "Training:  15%|█▌        | 30002/200001 [16:39<1:42:18, 27.69iter/s, Iteration=3e+4, Train Loss=174.7731, LR=0.000095]"
          ]
        },
        {
          "output_type": "stream",
          "name": "stdout",
          "text": [
            "2025-04-26 16:04:10: Iteration: 30000, Train Loss: 174.7731\n",
            "2025-04-26 16:04:10: Iteration: 30000, Test Loss: 174.7731\n",
            "True Polygon:  Polygon(n=4, vertices=[(6.36, 7.67), (3.57, 7.64), (4.07, 2.15), (6.81, 2.61)], lengths=[2.7901612856607416, 5.512721650872644, 2.778344831010002, 5.07997047235513], angles=[94.46604449974068, 85.41222128166329, 85.67371079413601, 94.44802342446005])\n",
            "Predicted Polygon Vertices:  Polygon(n=4, vertices=[(6.36, 7.67), (3.57, 7.64), (4.07, 2.15), (6.81, 2.61)], lengths=[2.7901612856607416, 5.512721650872644, 2.778344831010002, 5.07997047235513], angles=[68.02914428710938, 103.59479522705078, 28.52103614807129, 65.061279296875])\n"
          ]
        },
        {
          "output_type": "stream",
          "name": "stderr",
          "text": [
            "Training:  16%|█▌        | 31006/200001 [17:12<1:39:06, 28.42iter/s, Iteration=31000, Train Loss=198.5300, LR=0.000094]"
          ]
        },
        {
          "output_type": "stream",
          "name": "stdout",
          "text": [
            "2025-04-26 16:04:43: Iteration: 31000, Train Loss: 198.5300\n"
          ]
        },
        {
          "output_type": "stream",
          "name": "stderr",
          "text": [
            "Training:  16%|█▌        | 32005/200001 [17:45<1:35:41, 29.26iter/s, Iteration=32000, Train Loss=188.8906, LR=0.000094]"
          ]
        },
        {
          "output_type": "stream",
          "name": "stdout",
          "text": [
            "2025-04-26 16:05:16: Iteration: 32000, Train Loss: 188.8906\n"
          ]
        },
        {
          "output_type": "stream",
          "name": "stderr",
          "text": [
            "Training:  17%|█▋        | 33007/200001 [18:19<1:32:40, 30.03iter/s, Iteration=33000, Train Loss=123.9044, LR=0.000093]"
          ]
        },
        {
          "output_type": "stream",
          "name": "stdout",
          "text": [
            "2025-04-26 16:05:49: Iteration: 33000, Train Loss: 123.9044\n"
          ]
        },
        {
          "output_type": "stream",
          "name": "stderr",
          "text": [
            "Training:  17%|█▋        | 34005/200001 [18:52<1:32:13, 30.00iter/s, Iteration=34000, Train Loss=132.4530, LR=0.000093]"
          ]
        },
        {
          "output_type": "stream",
          "name": "stdout",
          "text": [
            "2025-04-26 16:06:23: Iteration: 34000, Train Loss: 132.4530\n"
          ]
        },
        {
          "output_type": "stream",
          "name": "stderr",
          "text": [
            "Training:  18%|█▊        | 35005/200001 [19:26<1:32:12, 29.83iter/s, Iteration=35000, Train Loss=118.4945, LR=0.000093]"
          ]
        },
        {
          "output_type": "stream",
          "name": "stdout",
          "text": [
            "2025-04-26 16:06:56: Iteration: 35000, Train Loss: 118.4945\n"
          ]
        },
        {
          "output_type": "stream",
          "name": "stderr",
          "text": [
            "Training:  18%|█▊        | 36004/200001 [19:59<1:37:39, 27.99iter/s, Iteration=36000, Train Loss=103.2283, LR=0.000092]"
          ]
        },
        {
          "output_type": "stream",
          "name": "stdout",
          "text": [
            "2025-04-26 16:07:29: Iteration: 36000, Train Loss: 103.2283\n"
          ]
        },
        {
          "output_type": "stream",
          "name": "stderr",
          "text": [
            "Training:  19%|█▊        | 37005/200001 [20:32<1:27:49, 30.93iter/s, Iteration=37000, Train Loss=92.4998, LR=0.000092]"
          ]
        },
        {
          "output_type": "stream",
          "name": "stdout",
          "text": [
            "2025-04-26 16:08:02: Iteration: 37000, Train Loss: 92.4998\n"
          ]
        },
        {
          "output_type": "stream",
          "name": "stderr",
          "text": [
            "Training:  19%|█▉        | 38007/200001 [21:05<1:27:05, 31.00iter/s, Iteration=38000, Train Loss=102.1955, LR=0.000091]"
          ]
        },
        {
          "output_type": "stream",
          "name": "stdout",
          "text": [
            "2025-04-26 16:08:36: Iteration: 38000, Train Loss: 102.1955\n"
          ]
        },
        {
          "output_type": "stream",
          "name": "stderr",
          "text": [
            "Training:  20%|█▉        | 39003/200001 [21:38<1:27:55, 30.52iter/s, Iteration=39000, Train Loss=79.4757, LR=0.000091]"
          ]
        },
        {
          "output_type": "stream",
          "name": "stdout",
          "text": [
            "2025-04-26 16:09:09: Iteration: 39000, Train Loss: 79.4757\n"
          ]
        },
        {
          "output_type": "stream",
          "name": "stderr",
          "text": [
            "Training:  20%|██        | 40003/200001 [22:12<1:31:17, 29.21iter/s, Iteration=4e+4, Train Loss=80.5247, LR=0.000091]"
          ]
        },
        {
          "output_type": "stream",
          "name": "stdout",
          "text": [
            "2025-04-26 16:09:42: Iteration: 40000, Train Loss: 80.5247\n",
            "2025-04-26 16:09:42: Iteration: 40000, Test Loss: 80.5247\n",
            "True Polygon:  Polygon(n=4, vertices=[(3.03, 7.26), (2.39, 6.49), (3.84, 2.23), (5.17, 2.0)], lengths=[1.0012492197250387, 4.500011111097393, 1.3497407158413797, 5.678661814195313], angles=[61.870962888262085, 121.47037645688039, 118.60857753915992, 58.05008311569765])\n",
            "Predicted Polygon Vertices:  Polygon(n=4, vertices=[(3.03, 7.26), (2.39, 6.49), (3.84, 2.23), (5.17, 2.0)], lengths=[1.0012492197250387, 4.500011111097393, 1.3497407158413797, 5.678661814195313], angles=[66.02873992919922, 97.8930435180664, 57.963077545166016, 64.24722290039062])\n"
          ]
        },
        {
          "output_type": "stream",
          "name": "stderr",
          "text": [
            "Training:  21%|██        | 41005/200001 [22:45<1:22:41, 32.05iter/s, Iteration=41000, Train Loss=74.4537, LR=0.000090]"
          ]
        },
        {
          "output_type": "stream",
          "name": "stdout",
          "text": [
            "2025-04-26 16:10:15: Iteration: 41000, Train Loss: 74.4537\n"
          ]
        },
        {
          "output_type": "stream",
          "name": "stderr",
          "text": [
            "Training:  21%|██        | 42005/200001 [23:18<1:31:09, 28.89iter/s, Iteration=42000, Train Loss=78.2722, LR=0.000090]"
          ]
        },
        {
          "output_type": "stream",
          "name": "stdout",
          "text": [
            "2025-04-26 16:10:49: Iteration: 42000, Train Loss: 78.2722\n"
          ]
        },
        {
          "output_type": "stream",
          "name": "stderr",
          "text": [
            "Training:  22%|██▏       | 43006/200001 [23:52<1:24:50, 30.84iter/s, Iteration=43000, Train Loss=56.6898, LR=0.000089]"
          ]
        },
        {
          "output_type": "stream",
          "name": "stdout",
          "text": [
            "2025-04-26 16:11:22: Iteration: 43000, Train Loss: 56.6898\n"
          ]
        },
        {
          "output_type": "stream",
          "name": "stderr",
          "text": [
            "Training:  22%|██▏       | 44006/200001 [24:24<1:19:03, 32.89iter/s, Iteration=44000, Train Loss=53.9352, LR=0.000089]"
          ]
        },
        {
          "output_type": "stream",
          "name": "stdout",
          "text": [
            "2025-04-26 16:11:55: Iteration: 44000, Train Loss: 53.9352\n"
          ]
        },
        {
          "output_type": "stream",
          "name": "stderr",
          "text": [
            "Training:  23%|██▎       | 45004/200001 [24:58<1:23:41, 30.87iter/s, Iteration=45000, Train Loss=55.3374, LR=0.000088]"
          ]
        },
        {
          "output_type": "stream",
          "name": "stdout",
          "text": [
            "2025-04-26 16:12:28: Iteration: 45000, Train Loss: 55.3374\n"
          ]
        },
        {
          "output_type": "stream",
          "name": "stderr",
          "text": [
            "Training:  23%|██▎       | 46004/200001 [25:31<1:19:22, 32.34iter/s, Iteration=46000, Train Loss=71.9806, LR=0.000088]"
          ]
        },
        {
          "output_type": "stream",
          "name": "stdout",
          "text": [
            "2025-04-26 16:13:01: Iteration: 46000, Train Loss: 71.9806\n"
          ]
        },
        {
          "output_type": "stream",
          "name": "stderr",
          "text": [
            "Training:  24%|██▎       | 47004/200001 [26:04<1:26:23, 29.52iter/s, Iteration=47000, Train Loss=42.0558, LR=0.000087]"
          ]
        },
        {
          "output_type": "stream",
          "name": "stdout",
          "text": [
            "2025-04-26 16:13:34: Iteration: 47000, Train Loss: 42.0558\n"
          ]
        },
        {
          "output_type": "stream",
          "name": "stderr",
          "text": [
            "Training:  24%|██▍       | 48004/200001 [26:37<1:32:59, 27.24iter/s, Iteration=48000, Train Loss=49.4978, LR=0.000087]"
          ]
        },
        {
          "output_type": "stream",
          "name": "stdout",
          "text": [
            "2025-04-26 16:14:08: Iteration: 48000, Train Loss: 49.4978\n"
          ]
        },
        {
          "output_type": "stream",
          "name": "stderr",
          "text": [
            "Training:  25%|██▍       | 49005/200001 [27:10<1:22:20, 30.57iter/s, Iteration=49000, Train Loss=55.8770, LR=0.000086]"
          ]
        },
        {
          "output_type": "stream",
          "name": "stdout",
          "text": [
            "2025-04-26 16:14:41: Iteration: 49000, Train Loss: 55.8770\n"
          ]
        },
        {
          "output_type": "stream",
          "name": "stderr",
          "text": [
            "Training:  25%|██▌       | 50004/200001 [27:44<1:28:13, 28.33iter/s, Iteration=5e+4, Train Loss=53.3424, LR=0.000086]"
          ]
        },
        {
          "output_type": "stream",
          "name": "stdout",
          "text": [
            "2025-04-26 16:15:14: Iteration: 50000, Train Loss: 53.3424\n",
            "2025-04-26 16:15:14: Iteration: 50000, Test Loss: 53.3424\n",
            "True Polygon:  Polygon(n=4, vertices=[(7.99, 5.21), (5.13, 8.0), (2.1, 5.78), (7.35, 3.13)], lengths=[3.9954599234631303, 3.756234816941028, 5.880901291468851, 2.176235281397671], angles=[117.18744813275744, 99.48058618092234, 63.01214151944299, 80.31982416687724])\n",
            "Predicted Polygon Vertices:  Polygon(n=4, vertices=[(7.99, 5.21), (5.13, 8.0), (2.1, 5.78), (7.35, 3.13)], lengths=[3.9954599234631303, 3.756234816941028, 5.880901291468851, 2.176235281397671], angles=[67.8486557006836, 100.89856719970703, 77.1994400024414, 67.57682037353516])\n"
          ]
        },
        {
          "output_type": "stream",
          "name": "stderr",
          "text": [
            "Training:  26%|██▌       | 51004/200001 [28:17<1:17:55, 31.87iter/s, Iteration=51000, Train Loss=62.4773, LR=0.000085]"
          ]
        },
        {
          "output_type": "stream",
          "name": "stdout",
          "text": [
            "2025-04-26 16:15:48: Iteration: 51000, Train Loss: 62.4773\n"
          ]
        },
        {
          "output_type": "stream",
          "name": "stderr",
          "text": [
            "Training:  26%|██▌       | 52004/200001 [28:50<1:25:47, 28.75iter/s, Iteration=52000, Train Loss=64.5808, LR=0.000084]"
          ]
        },
        {
          "output_type": "stream",
          "name": "stdout",
          "text": [
            "2025-04-26 16:16:21: Iteration: 52000, Train Loss: 64.5808\n"
          ]
        },
        {
          "output_type": "stream",
          "name": "stderr",
          "text": [
            "Training:  27%|██▋       | 53005/200001 [29:24<1:19:54, 30.66iter/s, Iteration=53000, Train Loss=44.5044, LR=0.000084]"
          ]
        },
        {
          "output_type": "stream",
          "name": "stdout",
          "text": [
            "2025-04-26 16:16:54: Iteration: 53000, Train Loss: 44.5044\n"
          ]
        },
        {
          "output_type": "stream",
          "name": "stderr",
          "text": [
            "Training:  27%|██▋       | 54007/200001 [29:57<1:20:55, 30.07iter/s, Iteration=54000, Train Loss=20.7880, LR=0.000083]"
          ]
        },
        {
          "output_type": "stream",
          "name": "stdout",
          "text": [
            "2025-04-26 16:17:27: Iteration: 54000, Train Loss: 20.7880\n"
          ]
        },
        {
          "output_type": "stream",
          "name": "stderr",
          "text": [
            "Training:  28%|██▊       | 55004/200001 [30:30<1:20:19, 30.09iter/s, Iteration=55000, Train Loss=44.2621, LR=0.000083]"
          ]
        },
        {
          "output_type": "stream",
          "name": "stdout",
          "text": [
            "2025-04-26 16:18:01: Iteration: 55000, Train Loss: 44.2621\n"
          ]
        },
        {
          "output_type": "stream",
          "name": "stderr",
          "text": [
            "Training:  28%|██▊       | 56004/200001 [31:04<1:20:12, 29.92iter/s, Iteration=56000, Train Loss=51.3631, LR=0.000082]"
          ]
        },
        {
          "output_type": "stream",
          "name": "stdout",
          "text": [
            "2025-04-26 16:18:34: Iteration: 56000, Train Loss: 51.3631\n"
          ]
        },
        {
          "output_type": "stream",
          "name": "stderr",
          "text": [
            "Training:  29%|██▊       | 57005/200001 [31:37<1:17:35, 30.72iter/s, Iteration=57000, Train Loss=37.7847, LR=0.000081]"
          ]
        },
        {
          "output_type": "stream",
          "name": "stdout",
          "text": [
            "2025-04-26 16:19:07: Iteration: 57000, Train Loss: 37.7847\n"
          ]
        },
        {
          "output_type": "stream",
          "name": "stderr",
          "text": [
            "Training:  29%|██▉       | 58006/200001 [32:10<1:17:11, 30.66iter/s, Iteration=58000, Train Loss=37.2067, LR=0.000081]"
          ]
        },
        {
          "output_type": "stream",
          "name": "stdout",
          "text": [
            "2025-04-26 16:19:41: Iteration: 58000, Train Loss: 37.2067\n"
          ]
        },
        {
          "output_type": "stream",
          "name": "stderr",
          "text": [
            "Training:  30%|██▉       | 59006/200001 [32:43<1:17:49, 30.20iter/s, Iteration=59000, Train Loss=45.3502, LR=0.000080]"
          ]
        },
        {
          "output_type": "stream",
          "name": "stdout",
          "text": [
            "2025-04-26 16:20:14: Iteration: 59000, Train Loss: 45.3502\n"
          ]
        },
        {
          "output_type": "stream",
          "name": "stderr",
          "text": [
            "Training:  30%|███       | 60005/200001 [33:17<1:16:49, 30.37iter/s, Iteration=6e+4, Train Loss=31.9134, LR=0.000080]"
          ]
        },
        {
          "output_type": "stream",
          "name": "stdout",
          "text": [
            "2025-04-26 16:20:47: Iteration: 60000, Train Loss: 31.9134\n",
            "2025-04-26 16:20:47: Iteration: 60000, Test Loss: 31.9134\n",
            "True Polygon:  Polygon(n=4, vertices=[(7.9, 5.79), (2.01, 4.75), (2.61, 3.19), (7.19, 2.95)], lengths=[5.981111936755574, 1.6714065932620945, 4.58628389875725, 2.9274049941885387], angles=[65.95022750260952, 78.97601800404219, 114.03716633191783, 101.03658816143047])\n",
            "Predicted Polygon Vertices:  Polygon(n=4, vertices=[(7.9, 5.79), (2.01, 4.75), (2.61, 3.19), (7.19, 2.95)], lengths=[5.981111936755574, 1.6714065932620945, 4.58628389875725, 2.9274049941885387], angles=[68.09657287597656, 102.09042358398438, 90.33141326904297, 68.45358276367188])\n"
          ]
        },
        {
          "output_type": "stream",
          "name": "stderr",
          "text": [
            "Training:  31%|███       | 61005/200001 [33:50<1:17:22, 29.94iter/s, Iteration=61000, Train Loss=46.5300, LR=0.000079]"
          ]
        },
        {
          "output_type": "stream",
          "name": "stdout",
          "text": [
            "2025-04-26 16:21:20: Iteration: 61000, Train Loss: 46.5300\n"
          ]
        },
        {
          "output_type": "stream",
          "name": "stderr",
          "text": [
            "Training:  31%|███       | 62007/200001 [34:23<1:17:11, 29.79iter/s, Iteration=62000, Train Loss=36.0861, LR=0.000078]"
          ]
        },
        {
          "output_type": "stream",
          "name": "stdout",
          "text": [
            "2025-04-26 16:21:54: Iteration: 62000, Train Loss: 36.0861\n"
          ]
        },
        {
          "output_type": "stream",
          "name": "stderr",
          "text": [
            "Training:  32%|███▏      | 63006/200001 [34:57<1:19:26, 28.74iter/s, Iteration=63000, Train Loss=42.0103, LR=0.000078]"
          ]
        },
        {
          "output_type": "stream",
          "name": "stdout",
          "text": [
            "2025-04-26 16:22:27: Iteration: 63000, Train Loss: 42.0103\n"
          ]
        },
        {
          "output_type": "stream",
          "name": "stderr",
          "text": [
            "Training:  32%|███▏      | 64006/200001 [35:30<1:12:07, 31.42iter/s, Iteration=64000, Train Loss=33.0218, LR=0.000077]"
          ]
        },
        {
          "output_type": "stream",
          "name": "stdout",
          "text": [
            "2025-04-26 16:23:01: Iteration: 64000, Train Loss: 33.0218\n"
          ]
        },
        {
          "output_type": "stream",
          "name": "stderr",
          "text": [
            "Training:  33%|███▎      | 65006/200001 [36:04<1:15:38, 29.74iter/s, Iteration=65000, Train Loss=35.3040, LR=0.000076]"
          ]
        },
        {
          "output_type": "stream",
          "name": "stdout",
          "text": [
            "2025-04-26 16:23:34: Iteration: 65000, Train Loss: 35.3040\n"
          ]
        },
        {
          "output_type": "stream",
          "name": "stderr",
          "text": [
            "Training:  33%|███▎      | 66007/200001 [36:37<1:10:44, 31.57iter/s, Iteration=66000, Train Loss=41.1381, LR=0.000076]"
          ]
        },
        {
          "output_type": "stream",
          "name": "stdout",
          "text": [
            "2025-04-26 16:24:07: Iteration: 66000, Train Loss: 41.1381\n"
          ]
        },
        {
          "output_type": "stream",
          "name": "stderr",
          "text": [
            "Training:  34%|███▎      | 67004/200001 [37:10<1:18:15, 28.32iter/s, Iteration=67000, Train Loss=22.5819, LR=0.000075]"
          ]
        },
        {
          "output_type": "stream",
          "name": "stdout",
          "text": [
            "2025-04-26 16:24:41: Iteration: 67000, Train Loss: 22.5819\n"
          ]
        },
        {
          "output_type": "stream",
          "name": "stderr",
          "text": [
            "Training:  34%|███▍      | 68006/200001 [37:44<1:11:24, 30.81iter/s, Iteration=68000, Train Loss=16.6146, LR=0.000074]"
          ]
        },
        {
          "output_type": "stream",
          "name": "stdout",
          "text": [
            "2025-04-26 16:25:14: Iteration: 68000, Train Loss: 16.6146\n"
          ]
        },
        {
          "output_type": "stream",
          "name": "stderr",
          "text": [
            "Training:  35%|███▍      | 69006/200001 [38:17<1:09:11, 31.55iter/s, Iteration=69000, Train Loss=36.5104, LR=0.000074]"
          ]
        },
        {
          "output_type": "stream",
          "name": "stdout",
          "text": [
            "2025-04-26 16:25:47: Iteration: 69000, Train Loss: 36.5104\n"
          ]
        },
        {
          "output_type": "stream",
          "name": "stderr",
          "text": [
            "Training:  35%|███▌      | 70003/200001 [38:50<1:21:46, 26.50iter/s, Iteration=7e+4, Train Loss=29.0094, LR=0.000073]"
          ]
        },
        {
          "output_type": "stream",
          "name": "stdout",
          "text": [
            "2025-04-26 16:26:21: Iteration: 70000, Train Loss: 29.0094\n",
            "2025-04-26 16:26:21: Iteration: 70000, Test Loss: 29.0094\n",
            "True Polygon:  Polygon(n=4, vertices=[(4.3, 7.92), (3.99, 7.82), (2.0, 5.13), (2.13, 4.13)], lengths=[0.3257299494980461, 3.3460723243827237, 1.0084145972763385, 4.367264590106718], angles=[42.327604357445104, 144.37187906370988, 136.0999054036362, 37.20061117520883])\n",
            "Predicted Polygon Vertices:  Polygon(n=4, vertices=[(4.3, 7.92), (3.99, 7.82), (2.0, 5.13), (2.13, 4.13)], lengths=[0.3257299494980461, 3.3460723243827237, 1.0084145972763385, 4.367264590106718], angles=[68.14061737060547, 102.67556762695312, 98.01152801513672, 68.46942138671875])\n"
          ]
        },
        {
          "output_type": "stream",
          "name": "stderr",
          "text": [
            "Training:  36%|███▌      | 71007/200001 [39:24<1:08:06, 31.56iter/s, Iteration=71000, Train Loss=25.3064, LR=0.000072]"
          ]
        },
        {
          "output_type": "stream",
          "name": "stdout",
          "text": [
            "2025-04-26 16:26:54: Iteration: 71000, Train Loss: 25.3064\n"
          ]
        },
        {
          "output_type": "stream",
          "name": "stderr",
          "text": [
            "Training:  36%|███▌      | 72006/200001 [39:57<1:13:44, 28.93iter/s, Iteration=72000, Train Loss=13.8697, LR=0.000072]"
          ]
        },
        {
          "output_type": "stream",
          "name": "stdout",
          "text": [
            "2025-04-26 16:27:27: Iteration: 72000, Train Loss: 13.8697\n"
          ]
        },
        {
          "output_type": "stream",
          "name": "stderr",
          "text": [
            "Training:  37%|███▋      | 73006/200001 [40:30<1:10:37, 29.97iter/s, Iteration=73000, Train Loss=17.7966, LR=0.000071]"
          ]
        },
        {
          "output_type": "stream",
          "name": "stdout",
          "text": [
            "2025-04-26 16:28:00: Iteration: 73000, Train Loss: 17.7966\n"
          ]
        },
        {
          "output_type": "stream",
          "name": "stderr",
          "text": [
            "Training:  37%|███▋      | 74004/200001 [41:03<1:15:57, 27.64iter/s, Iteration=74000, Train Loss=19.4229, LR=0.000070]"
          ]
        },
        {
          "output_type": "stream",
          "name": "stdout",
          "text": [
            "2025-04-26 16:28:34: Iteration: 74000, Train Loss: 19.4229\n"
          ]
        },
        {
          "output_type": "stream",
          "name": "stderr",
          "text": [
            "Training:  38%|███▊      | 75004/200001 [41:36<1:09:13, 30.10iter/s, Iteration=75000, Train Loss=9.7022, LR=0.000069]"
          ]
        },
        {
          "output_type": "stream",
          "name": "stdout",
          "text": [
            "2025-04-26 16:29:07: Iteration: 75000, Train Loss: 9.7022\n"
          ]
        },
        {
          "output_type": "stream",
          "name": "stderr",
          "text": [
            "Training:  38%|███▊      | 76005/200001 [42:10<1:12:56, 28.33iter/s, Iteration=76000, Train Loss=22.8490, LR=0.000069]"
          ]
        },
        {
          "output_type": "stream",
          "name": "stdout",
          "text": [
            "2025-04-26 16:29:40: Iteration: 76000, Train Loss: 22.8490\n"
          ]
        },
        {
          "output_type": "stream",
          "name": "stderr",
          "text": [
            "Training:  39%|███▊      | 77006/200001 [42:43<1:10:14, 29.18iter/s, Iteration=77000, Train Loss=37.2803, LR=0.000068]"
          ]
        },
        {
          "output_type": "stream",
          "name": "stdout",
          "text": [
            "2025-04-26 16:30:13: Iteration: 77000, Train Loss: 37.2803\n"
          ]
        },
        {
          "output_type": "stream",
          "name": "stderr",
          "text": [
            "Training:  39%|███▉      | 78003/200001 [43:16<1:09:27, 29.27iter/s, Iteration=78000, Train Loss=44.9597, LR=0.000067]"
          ]
        },
        {
          "output_type": "stream",
          "name": "stdout",
          "text": [
            "2025-04-26 16:30:46: Iteration: 78000, Train Loss: 44.9597\n"
          ]
        },
        {
          "output_type": "stream",
          "name": "stderr",
          "text": [
            "Training:  40%|███▉      | 79005/200001 [43:50<1:07:23, 29.92iter/s, Iteration=79000, Train Loss=19.9107, LR=0.000067]"
          ]
        },
        {
          "output_type": "stream",
          "name": "stdout",
          "text": [
            "2025-04-26 16:31:20: Iteration: 79000, Train Loss: 19.9107\n"
          ]
        },
        {
          "output_type": "stream",
          "name": "stderr",
          "text": [
            "Training:  40%|████      | 80004/200001 [44:23<1:12:18, 27.66iter/s, Iteration=8e+4, Train Loss=24.1029, LR=0.000066]"
          ]
        },
        {
          "output_type": "stream",
          "name": "stdout",
          "text": [
            "2025-04-26 16:31:54: Iteration: 80000, Train Loss: 24.1029\n",
            "2025-04-26 16:31:54: Iteration: 80000, Test Loss: 24.1029\n",
            "True Polygon:  Polygon(n=4, vertices=[(4.49, 7.96), (6.15, 2.23), (6.17, 2.24), (7.55, 3.42)], lengths=[5.96560977604134, 0.02236067977499762, 1.8157092278225606, 5.474961187077037], angles=[17.823839502526084, 79.59142653936037, 166.03221023846828, 96.55252371964525])\n",
            "Predicted Polygon Vertices:  Polygon(n=4, vertices=[(4.49, 7.96), (6.15, 2.23), (6.17, 2.24), (7.55, 3.42)], lengths=[5.96560977604134, 0.02236067977499762, 1.8157092278225606, 5.474961187077037], angles=[67.84410858154297, 102.50444793701172, 102.03359985351562, 68.21497344970703])\n"
          ]
        },
        {
          "output_type": "stream",
          "name": "stderr",
          "text": [
            "Training:  41%|████      | 81006/200001 [44:57<1:02:14, 31.86iter/s, Iteration=81000, Train Loss=10.5262, LR=0.000065]"
          ]
        },
        {
          "output_type": "stream",
          "name": "stdout",
          "text": [
            "2025-04-26 16:32:27: Iteration: 81000, Train Loss: 10.5262\n"
          ]
        },
        {
          "output_type": "stream",
          "name": "stderr",
          "text": [
            "Training:  41%|████      | 82005/200001 [45:30<1:04:46, 30.36iter/s, Iteration=82000, Train Loss=6.6846, LR=0.000064]"
          ]
        },
        {
          "output_type": "stream",
          "name": "stdout",
          "text": [
            "2025-04-26 16:33:00: Iteration: 82000, Train Loss: 6.6846\n"
          ]
        },
        {
          "output_type": "stream",
          "name": "stderr",
          "text": [
            "Training:  42%|████▏     | 83004/200001 [46:03<1:02:32, 31.18iter/s, Iteration=83000, Train Loss=12.7735, LR=0.000064]"
          ]
        },
        {
          "output_type": "stream",
          "name": "stdout",
          "text": [
            "2025-04-26 16:33:33: Iteration: 83000, Train Loss: 12.7735\n"
          ]
        },
        {
          "output_type": "stream",
          "name": "stderr",
          "text": [
            "Training:  42%|████▏     | 84004/200001 [46:36<1:04:44, 29.86iter/s, Iteration=84000, Train Loss=29.1530, LR=0.000063]"
          ]
        },
        {
          "output_type": "stream",
          "name": "stdout",
          "text": [
            "2025-04-26 16:34:06: Iteration: 84000, Train Loss: 29.1530\n"
          ]
        },
        {
          "output_type": "stream",
          "name": "stderr",
          "text": [
            "Training:  43%|████▎     | 85005/200001 [47:09<1:07:33, 28.37iter/s, Iteration=85000, Train Loss=6.7055, LR=0.000062]"
          ]
        },
        {
          "output_type": "stream",
          "name": "stdout",
          "text": [
            "2025-04-26 16:34:40: Iteration: 85000, Train Loss: 6.7055\n"
          ]
        },
        {
          "output_type": "stream",
          "name": "stderr",
          "text": [
            "Training:  43%|████▎     | 86005/200001 [47:43<1:03:33, 29.89iter/s, Iteration=86000, Train Loss=30.1213, LR=0.000061]"
          ]
        },
        {
          "output_type": "stream",
          "name": "stdout",
          "text": [
            "2025-04-26 16:35:13: Iteration: 86000, Train Loss: 30.1213\n"
          ]
        },
        {
          "output_type": "stream",
          "name": "stderr",
          "text": [
            "Training:  44%|████▎     | 87004/200001 [48:16<57:07, 32.97iter/s, Iteration=87000, Train Loss=25.8363, LR=0.000061]"
          ]
        },
        {
          "output_type": "stream",
          "name": "stdout",
          "text": [
            "2025-04-26 16:35:46: Iteration: 87000, Train Loss: 25.8363\n"
          ]
        },
        {
          "output_type": "stream",
          "name": "stderr",
          "text": [
            "Training:  44%|████▍     | 88005/200001 [48:49<1:01:25, 30.39iter/s, Iteration=88000, Train Loss=22.1752, LR=0.000060]"
          ]
        },
        {
          "output_type": "stream",
          "name": "stdout",
          "text": [
            "2025-04-26 16:36:20: Iteration: 88000, Train Loss: 22.1752\n"
          ]
        },
        {
          "output_type": "stream",
          "name": "stderr",
          "text": [
            "Training:  45%|████▍     | 89005/200001 [49:22<1:03:28, 29.14iter/s, Iteration=89000, Train Loss=16.3017, LR=0.000059]"
          ]
        },
        {
          "output_type": "stream",
          "name": "stdout",
          "text": [
            "2025-04-26 16:36:53: Iteration: 89000, Train Loss: 16.3017\n"
          ]
        },
        {
          "output_type": "stream",
          "name": "stderr",
          "text": [
            "Training:  45%|████▌     | 90003/200001 [49:56<1:06:56, 27.39iter/s, Iteration=9e+4, Train Loss=7.9734, LR=0.000058]"
          ]
        },
        {
          "output_type": "stream",
          "name": "stdout",
          "text": [
            "2025-04-26 16:37:26: Iteration: 90000, Train Loss: 7.9734\n",
            "2025-04-26 16:37:26: Iteration: 90000, Test Loss: 7.9734\n",
            "True Polygon:  Polygon(n=4, vertices=[(7.78, 6.14), (7.64, 6.43), (4.3, 2.08), (7.09, 2.84)], lengths=[0.32202484376209267, 5.484350462908073, 2.891660422663768, 3.371364708838247], angles=[142.42078941863295, 63.286961774872964, 37.24462530162678, 117.04762350486732])\n",
            "Predicted Polygon Vertices:  Polygon(n=4, vertices=[(7.78, 6.14), (7.64, 6.43), (4.3, 2.08), (7.09, 2.84)], lengths=[0.32202484376209267, 5.484350462908073, 2.891660422663768, 3.371364708838247], angles=[69.18944549560547, 104.82527923583984, 103.47134399414062, 69.7628402709961])\n"
          ]
        },
        {
          "output_type": "stream",
          "name": "stderr",
          "text": [
            "Training:  46%|████▌     | 91006/200001 [50:29<1:01:02, 29.76iter/s, Iteration=91000, Train Loss=25.9703, LR=0.000057]"
          ]
        },
        {
          "output_type": "stream",
          "name": "stdout",
          "text": [
            "2025-04-26 16:37:59: Iteration: 91000, Train Loss: 25.9703\n"
          ]
        },
        {
          "output_type": "stream",
          "name": "stderr",
          "text": [
            "Training:  46%|████▌     | 92006/200001 [51:02<59:10, 30.42iter/s, Iteration=92000, Train Loss=18.5089, LR=0.000057]  "
          ]
        },
        {
          "output_type": "stream",
          "name": "stdout",
          "text": [
            "2025-04-26 16:38:33: Iteration: 92000, Train Loss: 18.5089\n"
          ]
        },
        {
          "output_type": "stream",
          "name": "stderr",
          "text": [
            "Training:  47%|████▋     | 93006/200001 [51:35<57:38, 30.94iter/s, Iteration=93000, Train Loss=4.6659, LR=0.000056]"
          ]
        },
        {
          "output_type": "stream",
          "name": "stdout",
          "text": [
            "2025-04-26 16:39:06: Iteration: 93000, Train Loss: 4.6659\n"
          ]
        },
        {
          "output_type": "stream",
          "name": "stderr",
          "text": [
            "Training:  47%|████▋     | 94005/200001 [52:09<1:02:37, 28.21iter/s, Iteration=94000, Train Loss=11.7682, LR=0.000055]"
          ]
        },
        {
          "output_type": "stream",
          "name": "stdout",
          "text": [
            "2025-04-26 16:39:39: Iteration: 94000, Train Loss: 11.7682\n"
          ]
        },
        {
          "output_type": "stream",
          "name": "stderr",
          "text": [
            "Training:  48%|████▊     | 95004/200001 [52:42<56:50, 30.79iter/s, Iteration=95000, Train Loss=8.1710, LR=0.000054]"
          ]
        },
        {
          "output_type": "stream",
          "name": "stdout",
          "text": [
            "2025-04-26 16:40:13: Iteration: 95000, Train Loss: 8.1710\n"
          ]
        },
        {
          "output_type": "stream",
          "name": "stderr",
          "text": [
            "Training:  48%|████▊     | 96007/200001 [53:16<56:04, 30.91iter/s, Iteration=96000, Train Loss=17.2844, LR=0.000054]"
          ]
        },
        {
          "output_type": "stream",
          "name": "stdout",
          "text": [
            "2025-04-26 16:40:46: Iteration: 96000, Train Loss: 17.2844\n"
          ]
        },
        {
          "output_type": "stream",
          "name": "stderr",
          "text": [
            "Training:  49%|████▊     | 97005/200001 [53:49<55:42, 30.81iter/s, Iteration=97000, Train Loss=20.1614, LR=0.000053]"
          ]
        },
        {
          "output_type": "stream",
          "name": "stdout",
          "text": [
            "2025-04-26 16:41:19: Iteration: 97000, Train Loss: 20.1614\n"
          ]
        },
        {
          "output_type": "stream",
          "name": "stderr",
          "text": [
            "Training:  49%|████▉     | 98004/200001 [54:22<59:02, 28.79iter/s, Iteration=98000, Train Loss=38.3993, LR=0.000052]"
          ]
        },
        {
          "output_type": "stream",
          "name": "stdout",
          "text": [
            "2025-04-26 16:41:53: Iteration: 98000, Train Loss: 38.3993\n"
          ]
        },
        {
          "output_type": "stream",
          "name": "stderr",
          "text": [
            "Training:  50%|████▉     | 99006/200001 [54:55<56:15, 29.92iter/s, Iteration=99000, Train Loss=29.6295, LR=0.000051]"
          ]
        },
        {
          "output_type": "stream",
          "name": "stdout",
          "text": [
            "2025-04-26 16:42:26: Iteration: 99000, Train Loss: 29.6295\n"
          ]
        },
        {
          "output_type": "stream",
          "name": "stderr",
          "text": [
            "Training:  50%|█████     | 100005/200001 [55:29<57:08, 29.16iter/s, Iteration=1e+5, Train Loss=-3.2161, LR=0.000050]  "
          ]
        },
        {
          "output_type": "stream",
          "name": "stdout",
          "text": [
            "2025-04-26 16:42:59: Iteration: 100000, Train Loss: -3.2161\n",
            "2025-04-26 16:42:59: Iteration: 100000, Test Loss: -3.2161\n",
            "True Polygon:  Polygon(n=4, vertices=[(7.81, 6.04), (4.76, 7.99), (4.08, 2.15), (7.65, 3.59)], lengths=[3.6200828719795903, 5.879455757125824, 3.8494804844290353, 2.455218931174978], angles=[118.85612211442098, 64.04893766541228, 61.39123745517557, 115.70370276499116])\n",
            "Predicted Polygon Vertices:  Polygon(n=4, vertices=[(7.81, 6.04), (4.76, 7.99), (4.08, 2.15), (7.65, 3.59)], lengths=[3.6200828719795903, 5.879455757125824, 3.8494804844290353, 2.455218931174978], angles=[70.4302978515625, 107.15904235839844, 106.86865234375, 71.43235778808594])\n"
          ]
        },
        {
          "output_type": "stream",
          "name": "stderr",
          "text": [
            "Training:  51%|█████     | 101006/200001 [56:02<54:37, 30.21iter/s, Iteration=101000, Train Loss=3.2375, LR=0.000050]"
          ]
        },
        {
          "output_type": "stream",
          "name": "stdout",
          "text": [
            "2025-04-26 16:43:32: Iteration: 101000, Train Loss: 3.2375\n"
          ]
        },
        {
          "output_type": "stream",
          "name": "stderr",
          "text": [
            "Training:  51%|█████     | 102005/200001 [56:35<53:11, 30.70iter/s, Iteration=102000, Train Loss=10.2668, LR=0.000049]"
          ]
        },
        {
          "output_type": "stream",
          "name": "stdout",
          "text": [
            "2025-04-26 16:44:06: Iteration: 102000, Train Loss: 10.2668\n"
          ]
        },
        {
          "output_type": "stream",
          "name": "stderr",
          "text": [
            "Training:  52%|█████▏    | 103004/200001 [57:08<54:37, 29.59iter/s, Iteration=103000, Train Loss=14.9982, LR=0.000048]"
          ]
        },
        {
          "output_type": "stream",
          "name": "stdout",
          "text": [
            "2025-04-26 16:44:39: Iteration: 103000, Train Loss: 14.9982\n"
          ]
        },
        {
          "output_type": "stream",
          "name": "stderr",
          "text": [
            "Training:  52%|█████▏    | 104004/200001 [57:42<54:34, 29.31iter/s, Iteration=104000, Train Loss=1.8141, LR=0.000047]"
          ]
        },
        {
          "output_type": "stream",
          "name": "stdout",
          "text": [
            "2025-04-26 16:45:12: Iteration: 104000, Train Loss: 1.8141\n"
          ]
        },
        {
          "output_type": "stream",
          "name": "stderr",
          "text": [
            "Training:  53%|█████▎    | 105004/200001 [58:15<50:06, 31.60iter/s, Iteration=105000, Train Loss=12.7389, LR=0.000047]"
          ]
        },
        {
          "output_type": "stream",
          "name": "stdout",
          "text": [
            "2025-04-26 16:45:46: Iteration: 105000, Train Loss: 12.7389\n"
          ]
        },
        {
          "output_type": "stream",
          "name": "stderr",
          "text": [
            "Training:  53%|█████▎    | 106004/200001 [58:49<51:29, 30.43iter/s, Iteration=106000, Train Loss=10.4785, LR=0.000046]"
          ]
        },
        {
          "output_type": "stream",
          "name": "stdout",
          "text": [
            "2025-04-26 16:46:19: Iteration: 106000, Train Loss: 10.4785\n"
          ]
        },
        {
          "output_type": "stream",
          "name": "stderr",
          "text": [
            "Training:  54%|█████▎    | 107005/200001 [59:22<53:48, 28.80iter/s, Iteration=107000, Train Loss=-3.9065, LR=0.000045]"
          ]
        },
        {
          "output_type": "stream",
          "name": "stdout",
          "text": [
            "2025-04-26 16:46:52: Iteration: 107000, Train Loss: -3.9065\n"
          ]
        },
        {
          "output_type": "stream",
          "name": "stderr",
          "text": [
            "Training:  54%|█████▍    | 108006/200001 [59:55<50:26, 30.40iter/s, Iteration=108000, Train Loss=13.7403, LR=0.000044]"
          ]
        },
        {
          "output_type": "stream",
          "name": "stdout",
          "text": [
            "2025-04-26 16:47:25: Iteration: 108000, Train Loss: 13.7403\n"
          ]
        },
        {
          "output_type": "stream",
          "name": "stderr",
          "text": [
            "Training:  55%|█████▍    | 109004/200001 [1:00:28<51:40, 29.35iter/s, Iteration=109000, Train Loss=4.8158, LR=0.000044]"
          ]
        },
        {
          "output_type": "stream",
          "name": "stdout",
          "text": [
            "2025-04-26 16:47:59: Iteration: 109000, Train Loss: 4.8158\n"
          ]
        },
        {
          "output_type": "stream",
          "name": "stderr",
          "text": [
            "Training:  55%|█████▌    | 110003/200001 [1:01:01<50:40, 29.60iter/s, Iteration=110000, Train Loss=7.4599, LR=0.000043]"
          ]
        },
        {
          "output_type": "stream",
          "name": "stdout",
          "text": [
            "2025-04-26 16:48:32: Iteration: 110000, Train Loss: 7.4599\n",
            "2025-04-26 16:48:32: Iteration: 110000, Test Loss: 7.4599\n",
            "True Polygon:  Polygon(n=4, vertices=[(7.26, 6.97), (3.36, 7.51), (7.4, 3.2), (7.9, 4.23)], lengths=[3.9372071319655, 5.907427528120849, 1.144945413545991, 2.813751943579959], angles=[111.03038169199924, 38.9688932848159, 69.04161439268239, 140.9591106305025])\n",
            "Predicted Polygon Vertices:  Polygon(n=4, vertices=[(7.26, 6.97), (3.36, 7.51), (7.4, 3.2), (7.9, 4.23)], lengths=[3.9372071319655, 5.907427528120849, 1.144945413545991, 2.813751943579959], angles=[70.37702941894531, 106.79291534423828, 108.17921447753906, 71.98579406738281])\n"
          ]
        },
        {
          "output_type": "stream",
          "name": "stderr",
          "text": [
            "Training:  56%|█████▌    | 111003/200001 [1:01:35<46:04, 32.19iter/s, Iteration=111000, Train Loss=7.3331, LR=0.000042]"
          ]
        },
        {
          "output_type": "stream",
          "name": "stdout",
          "text": [
            "2025-04-26 16:49:05: Iteration: 111000, Train Loss: 7.3331\n"
          ]
        },
        {
          "output_type": "stream",
          "name": "stderr",
          "text": [
            "Training:  56%|█████▌    | 112007/200001 [1:02:09<45:03, 32.55iter/s, Iteration=112000, Train Loss=3.4483, LR=0.000041]"
          ]
        },
        {
          "output_type": "stream",
          "name": "stdout",
          "text": [
            "2025-04-26 16:49:39: Iteration: 112000, Train Loss: 3.4483\n"
          ]
        },
        {
          "output_type": "stream",
          "name": "stderr",
          "text": [
            "Training:  57%|█████▋    | 113004/200001 [1:02:42<50:30, 28.71iter/s, Iteration=113000, Train Loss=13.7357, LR=0.000040]"
          ]
        },
        {
          "output_type": "stream",
          "name": "stdout",
          "text": [
            "2025-04-26 16:50:12: Iteration: 113000, Train Loss: 13.7357\n"
          ]
        },
        {
          "output_type": "stream",
          "name": "stderr",
          "text": [
            "Training:  57%|█████▋    | 114004/200001 [1:03:15<47:52, 29.93iter/s, Iteration=114000, Train Loss=15.4928, LR=0.000040]"
          ]
        },
        {
          "output_type": "stream",
          "name": "stdout",
          "text": [
            "2025-04-26 16:50:46: Iteration: 114000, Train Loss: 15.4928\n"
          ]
        },
        {
          "output_type": "stream",
          "name": "stderr",
          "text": [
            "Training:  58%|█████▊    | 115004/200001 [1:03:49<50:46, 27.90iter/s, Iteration=115000, Train Loss=2.0494, LR=0.000039]"
          ]
        },
        {
          "output_type": "stream",
          "name": "stdout",
          "text": [
            "2025-04-26 16:51:19: Iteration: 115000, Train Loss: 2.0494\n"
          ]
        },
        {
          "output_type": "stream",
          "name": "stderr",
          "text": [
            "Training:  58%|█████▊    | 116004/200001 [1:04:22<46:05, 30.37iter/s, Iteration=116000, Train Loss=1.9874, LR=0.000038]"
          ]
        },
        {
          "output_type": "stream",
          "name": "stdout",
          "text": [
            "2025-04-26 16:51:52: Iteration: 116000, Train Loss: 1.9874\n"
          ]
        },
        {
          "output_type": "stream",
          "name": "stderr",
          "text": [
            "Training:  59%|█████▊    | 117003/200001 [1:04:55<48:06, 28.76iter/s, Iteration=117000, Train Loss=-5.3904, LR=0.000037]"
          ]
        },
        {
          "output_type": "stream",
          "name": "stdout",
          "text": [
            "2025-04-26 16:52:26: Iteration: 117000, Train Loss: -5.3904\n"
          ]
        },
        {
          "output_type": "stream",
          "name": "stderr",
          "text": [
            "Training:  59%|█████▉    | 118006/200001 [1:05:29<46:48, 29.20iter/s, Iteration=118000, Train Loss=21.3110, LR=0.000037]"
          ]
        },
        {
          "output_type": "stream",
          "name": "stdout",
          "text": [
            "2025-04-26 16:52:59: Iteration: 118000, Train Loss: 21.3110\n"
          ]
        },
        {
          "output_type": "stream",
          "name": "stderr",
          "text": [
            "Training:  60%|█████▉    | 119006/200001 [1:06:02<43:43, 30.87iter/s, Iteration=119000, Train Loss=-0.0316, LR=0.000036]"
          ]
        },
        {
          "output_type": "stream",
          "name": "stdout",
          "text": [
            "2025-04-26 16:53:32: Iteration: 119000, Train Loss: -0.0316\n"
          ]
        },
        {
          "output_type": "stream",
          "name": "stderr",
          "text": [
            "Training:  60%|██████    | 120005/200001 [1:06:36<49:53, 26.72iter/s, Iteration=120000, Train Loss=14.5258, LR=0.000035]"
          ]
        },
        {
          "output_type": "stream",
          "name": "stdout",
          "text": [
            "2025-04-26 16:54:06: Iteration: 120000, Train Loss: 14.5258\n",
            "2025-04-26 16:54:06: Iteration: 120000, Test Loss: 14.5258\n",
            "True Polygon:  Polygon(n=4, vertices=[(6.28, 7.71), (2.81, 7.05), (2.01, 4.75), (7.92, 4.32)], lengths=[3.532208940592275, 2.435159132377184, 5.925622330186088, 3.765859795584535], angles=[105.04745188354049, 119.9481302138148, 74.9823876656892, 60.02203023695553])\n",
            "Predicted Polygon Vertices:  Polygon(n=4, vertices=[(6.28, 7.71), (2.81, 7.05), (2.01, 4.75), (7.92, 4.32)], lengths=[3.532208940592275, 2.435159132377184, 5.925622330186088, 3.765859795584535], angles=[70.12248229980469, 105.91000366210938, 104.21952056884766, 69.5872573852539])\n"
          ]
        },
        {
          "output_type": "stream",
          "name": "stderr",
          "text": [
            "Training:  61%|██████    | 121005/200001 [1:07:09<47:52, 27.50iter/s, Iteration=121000, Train Loss=-11.8936, LR=0.000034]"
          ]
        },
        {
          "output_type": "stream",
          "name": "stdout",
          "text": [
            "2025-04-26 16:54:39: Iteration: 121000, Train Loss: -11.8936\n"
          ]
        },
        {
          "output_type": "stream",
          "name": "stderr",
          "text": [
            "Training:  61%|██████    | 122005/200001 [1:07:43<43:01, 30.21iter/s, Iteration=122000, Train Loss=10.4809, LR=0.000034]"
          ]
        },
        {
          "output_type": "stream",
          "name": "stdout",
          "text": [
            "2025-04-26 16:55:13: Iteration: 122000, Train Loss: 10.4809\n"
          ]
        },
        {
          "output_type": "stream",
          "name": "stderr",
          "text": [
            "Training:  62%|██████▏   | 123007/200001 [1:08:16<37:53, 33.86iter/s, Iteration=123000, Train Loss=-2.8967, LR=0.000033]"
          ]
        },
        {
          "output_type": "stream",
          "name": "stdout",
          "text": [
            "2025-04-26 16:55:47: Iteration: 123000, Train Loss: -2.8967\n"
          ]
        },
        {
          "output_type": "stream",
          "name": "stderr",
          "text": [
            "Training:  62%|██████▏   | 124004/200001 [1:08:49<39:15, 32.27iter/s, Iteration=124000, Train Loss=1.1259, LR=0.000032]"
          ]
        },
        {
          "output_type": "stream",
          "name": "stdout",
          "text": [
            "2025-04-26 16:56:20: Iteration: 124000, Train Loss: 1.1259\n"
          ]
        },
        {
          "output_type": "stream",
          "name": "stderr",
          "text": [
            "Training:  63%|██████▎   | 125006/200001 [1:09:23<44:09, 28.31iter/s, Iteration=125000, Train Loss=-4.7029, LR=0.000032]"
          ]
        },
        {
          "output_type": "stream",
          "name": "stdout",
          "text": [
            "2025-04-26 16:56:53: Iteration: 125000, Train Loss: -4.7029\n"
          ]
        },
        {
          "output_type": "stream",
          "name": "stderr",
          "text": [
            "Training:  63%|██████▎   | 126006/200001 [1:09:56<42:01, 29.35iter/s, Iteration=126000, Train Loss=-0.4348, LR=0.000031]"
          ]
        },
        {
          "output_type": "stream",
          "name": "stdout",
          "text": [
            "2025-04-26 16:57:26: Iteration: 126000, Train Loss: -0.4348\n"
          ]
        },
        {
          "output_type": "stream",
          "name": "stderr",
          "text": [
            "Training:  64%|██████▎   | 127005/200001 [1:10:29<41:51, 29.07iter/s, Iteration=127000, Train Loss=-9.5225, LR=0.000030]"
          ]
        },
        {
          "output_type": "stream",
          "name": "stdout",
          "text": [
            "2025-04-26 16:58:00: Iteration: 127000, Train Loss: -9.5225\n"
          ]
        },
        {
          "output_type": "stream",
          "name": "stderr",
          "text": [
            "Training:  64%|██████▍   | 128004/200001 [1:11:03<44:19, 27.07iter/s, Iteration=128000, Train Loss=0.6656, LR=0.000029]"
          ]
        },
        {
          "output_type": "stream",
          "name": "stdout",
          "text": [
            "2025-04-26 16:58:33: Iteration: 128000, Train Loss: 0.6656\n"
          ]
        },
        {
          "output_type": "stream",
          "name": "stderr",
          "text": [
            "Training:  65%|██████▍   | 129005/200001 [1:11:36<39:54, 29.65iter/s, Iteration=129000, Train Loss=-0.4225, LR=0.000029]"
          ]
        },
        {
          "output_type": "stream",
          "name": "stdout",
          "text": [
            "2025-04-26 16:59:07: Iteration: 129000, Train Loss: -0.4225\n"
          ]
        },
        {
          "output_type": "stream",
          "name": "stderr",
          "text": [
            "Training:  65%|██████▌   | 130004/200001 [1:12:09<41:42, 27.97iter/s, Iteration=130000, Train Loss=-0.1104, LR=0.000028]"
          ]
        },
        {
          "output_type": "stream",
          "name": "stdout",
          "text": [
            "2025-04-26 16:59:40: Iteration: 130000, Train Loss: -0.1104\n",
            "2025-04-26 16:59:40: Iteration: 130000, Test Loss: -0.1104\n",
            "True Polygon:  Polygon(n=4, vertices=[(6.86, 7.36), (2.68, 6.9), (4.97, 2.0), (7.85, 4.05)], lengths=[4.20523483291956, 5.408705945048224, 3.535095472543846, 3.454880605751811], angles=[100.3715832965653, 71.23111556117264, 79.60541917847581, 108.79188196378625])\n",
            "Predicted Polygon Vertices:  Polygon(n=4, vertices=[(6.86, 7.36), (2.68, 6.9), (4.97, 2.0), (7.85, 4.05)], lengths=[4.20523483291956, 5.408705945048224, 3.535095472543846, 3.454880605751811], angles=[70.17831420898438, 106.15631866455078, 106.10334014892578, 70.58534240722656])\n"
          ]
        },
        {
          "output_type": "stream",
          "name": "stderr",
          "text": [
            "Training:  66%|██████▌   | 131006/200001 [1:12:42<42:05, 27.31iter/s, Iteration=131000, Train Loss=5.4073, LR=0.000027]"
          ]
        },
        {
          "output_type": "stream",
          "name": "stdout",
          "text": [
            "2025-04-26 17:00:13: Iteration: 131000, Train Loss: 5.4073\n"
          ]
        },
        {
          "output_type": "stream",
          "name": "stderr",
          "text": [
            "Training:  66%|██████▌   | 132007/200001 [1:13:15<34:51, 32.51iter/s, Iteration=132000, Train Loss=1.2066, LR=0.000027]"
          ]
        },
        {
          "output_type": "stream",
          "name": "stdout",
          "text": [
            "2025-04-26 17:00:46: Iteration: 132000, Train Loss: 1.2066\n"
          ]
        },
        {
          "output_type": "stream",
          "name": "stderr",
          "text": [
            "Training:  67%|██████▋   | 133003/200001 [1:13:48<37:19, 29.91iter/s, Iteration=133000, Train Loss=-6.8869, LR=0.000026]"
          ]
        },
        {
          "output_type": "stream",
          "name": "stdout",
          "text": [
            "2025-04-26 17:01:19: Iteration: 133000, Train Loss: -6.8869\n"
          ]
        },
        {
          "output_type": "stream",
          "name": "stderr",
          "text": [
            "Training:  67%|██████▋   | 134006/200001 [1:14:22<37:15, 29.52iter/s, Iteration=134000, Train Loss=-2.4232, LR=0.000025]"
          ]
        },
        {
          "output_type": "stream",
          "name": "stdout",
          "text": [
            "2025-04-26 17:01:52: Iteration: 134000, Train Loss: -2.4232\n"
          ]
        },
        {
          "output_type": "stream",
          "name": "stderr",
          "text": [
            "Training:  68%|██████▊   | 135005/200001 [1:14:55<35:03, 30.90iter/s, Iteration=135000, Train Loss=1.6475, LR=0.000025]"
          ]
        },
        {
          "output_type": "stream",
          "name": "stdout",
          "text": [
            "2025-04-26 17:02:26: Iteration: 135000, Train Loss: 1.6475\n"
          ]
        },
        {
          "output_type": "stream",
          "name": "stderr",
          "text": [
            "Training:  68%|██████▊   | 136005/200001 [1:15:28<35:43, 29.85iter/s, Iteration=136000, Train Loss=-3.1394, LR=0.000024]"
          ]
        },
        {
          "output_type": "stream",
          "name": "stdout",
          "text": [
            "2025-04-26 17:02:59: Iteration: 136000, Train Loss: -3.1394\n"
          ]
        },
        {
          "output_type": "stream",
          "name": "stderr",
          "text": [
            "Training:  69%|██████▊   | 137007/200001 [1:16:02<33:16, 31.55iter/s, Iteration=137000, Train Loss=10.1051, LR=0.000023]"
          ]
        },
        {
          "output_type": "stream",
          "name": "stdout",
          "text": [
            "2025-04-26 17:03:32: Iteration: 137000, Train Loss: 10.1051\n"
          ]
        },
        {
          "output_type": "stream",
          "name": "stderr",
          "text": [
            "Training:  69%|██████▉   | 138005/200001 [1:16:35<34:22, 30.06iter/s, Iteration=138000, Train Loss=4.6593, LR=0.000023]"
          ]
        },
        {
          "output_type": "stream",
          "name": "stdout",
          "text": [
            "2025-04-26 17:04:06: Iteration: 138000, Train Loss: 4.6593\n"
          ]
        },
        {
          "output_type": "stream",
          "name": "stderr",
          "text": [
            "Training:  70%|██████▉   | 139006/200001 [1:17:09<32:21, 31.42iter/s, Iteration=139000, Train Loss=3.2372, LR=0.000022]"
          ]
        },
        {
          "output_type": "stream",
          "name": "stdout",
          "text": [
            "2025-04-26 17:04:39: Iteration: 139000, Train Loss: 3.2372\n"
          ]
        },
        {
          "output_type": "stream",
          "name": "stderr",
          "text": [
            "Training:  70%|███████   | 140004/200001 [1:17:42<37:08, 26.93iter/s, Iteration=140000, Train Loss=-6.6692, LR=0.000021]"
          ]
        },
        {
          "output_type": "stream",
          "name": "stdout",
          "text": [
            "2025-04-26 17:05:12: Iteration: 140000, Train Loss: -6.6692\n",
            "2025-04-26 17:05:12: Iteration: 140000, Test Loss: -6.6692\n",
            "True Polygon:  Polygon(n=4, vertices=[(4.21, 7.89), (3.14, 7.36), (2.3, 3.69), (7.96, 4.54)], lengths=[1.1940686747419509, 3.764903717228371, 5.723469227662537, 5.02841923470985], angles=[111.87406136057135, 129.24241798136651, 68.56737773602609, 50.31614292203606])\n",
            "Predicted Polygon Vertices:  Polygon(n=4, vertices=[(4.21, 7.89), (3.14, 7.36), (2.3, 3.69), (7.96, 4.54)], lengths=[1.1940686747419509, 3.764903717228371, 5.723469227662537, 5.02841923470985], angles=[70.28316497802734, 106.00459289550781, 103.65154266357422, 69.2581558227539])\n"
          ]
        },
        {
          "output_type": "stream",
          "name": "stderr",
          "text": [
            "Training:  71%|███████   | 141007/200001 [1:18:16<30:35, 32.15iter/s, Iteration=141000, Train Loss=-7.2065, LR=0.000021]"
          ]
        },
        {
          "output_type": "stream",
          "name": "stdout",
          "text": [
            "2025-04-26 17:05:46: Iteration: 141000, Train Loss: -7.2065\n"
          ]
        },
        {
          "output_type": "stream",
          "name": "stderr",
          "text": [
            "Training:  71%|███████   | 142004/200001 [1:18:48<33:24, 28.93iter/s, Iteration=142000, Train Loss=-1.8935, LR=0.000020]"
          ]
        },
        {
          "output_type": "stream",
          "name": "stdout",
          "text": [
            "2025-04-26 17:06:19: Iteration: 142000, Train Loss: -1.8935\n"
          ]
        },
        {
          "output_type": "stream",
          "name": "stderr",
          "text": [
            "Training:  72%|███████▏  | 143004/200001 [1:19:21<32:05, 29.60iter/s, Iteration=143000, Train Loss=-0.1324, LR=0.000020]"
          ]
        },
        {
          "output_type": "stream",
          "name": "stdout",
          "text": [
            "2025-04-26 17:06:52: Iteration: 143000, Train Loss: -0.1324\n"
          ]
        },
        {
          "output_type": "stream",
          "name": "stderr",
          "text": [
            "Training:  72%|███████▏  | 144005/200001 [1:19:55<29:14, 31.91iter/s, Iteration=144000, Train Loss=4.6587, LR=0.000019]"
          ]
        },
        {
          "output_type": "stream",
          "name": "stdout",
          "text": [
            "2025-04-26 17:07:25: Iteration: 144000, Train Loss: 4.6587\n"
          ]
        },
        {
          "output_type": "stream",
          "name": "stderr",
          "text": [
            "Training:  73%|███████▎  | 145007/200001 [1:20:28<29:05, 31.51iter/s, Iteration=145000, Train Loss=4.9578, LR=0.000018]"
          ]
        },
        {
          "output_type": "stream",
          "name": "stdout",
          "text": [
            "2025-04-26 17:07:59: Iteration: 145000, Train Loss: 4.9578\n"
          ]
        },
        {
          "output_type": "stream",
          "name": "stderr",
          "text": [
            "Training:  73%|███████▎  | 146006/200001 [1:21:01<27:39, 32.54iter/s, Iteration=146000, Train Loss=1.9414, LR=0.000018]"
          ]
        },
        {
          "output_type": "stream",
          "name": "stdout",
          "text": [
            "2025-04-26 17:08:32: Iteration: 146000, Train Loss: 1.9414\n"
          ]
        },
        {
          "output_type": "stream",
          "name": "stderr",
          "text": [
            "Training:  74%|███████▎  | 147006/200001 [1:21:35<30:32, 28.92iter/s, Iteration=147000, Train Loss=-5.6261, LR=0.000017]"
          ]
        },
        {
          "output_type": "stream",
          "name": "stdout",
          "text": [
            "2025-04-26 17:09:05: Iteration: 147000, Train Loss: -5.6261\n"
          ]
        },
        {
          "output_type": "stream",
          "name": "stderr",
          "text": [
            "Training:  74%|███████▍  | 148006/200001 [1:22:08<27:38, 31.35iter/s, Iteration=148000, Train Loss=-8.3835, LR=0.000017]"
          ]
        },
        {
          "output_type": "stream",
          "name": "stdout",
          "text": [
            "2025-04-26 17:09:38: Iteration: 148000, Train Loss: -8.3835\n"
          ]
        },
        {
          "output_type": "stream",
          "name": "stderr",
          "text": [
            "Training:  75%|███████▍  | 149004/200001 [1:22:42<27:21, 31.06iter/s, Iteration=149000, Train Loss=5.8278, LR=0.000016]"
          ]
        },
        {
          "output_type": "stream",
          "name": "stdout",
          "text": [
            "2025-04-26 17:10:12: Iteration: 149000, Train Loss: 5.8278\n"
          ]
        },
        {
          "output_type": "stream",
          "name": "stderr",
          "text": [
            "Training:  75%|███████▌  | 150004/200001 [1:23:15<30:23, 27.42iter/s, Iteration=150000, Train Loss=-4.6332, LR=0.000015]"
          ]
        },
        {
          "output_type": "stream",
          "name": "stdout",
          "text": [
            "2025-04-26 17:10:45: Iteration: 150000, Train Loss: -4.6332\n",
            "2025-04-26 17:10:45: Iteration: 150000, Test Loss: -4.6332\n",
            "True Polygon:  Polygon(n=4, vertices=[(7.77, 6.16), (7.56, 6.57), (3.38, 2.48), (7.09, 2.85)], lengths=[0.46065171225124096, 5.848119355827136, 3.7284044844946744, 3.3791271062213686], angles=[141.2694853488374, 72.74481206180259, 38.681189311916135, 107.30451327744389])\n",
            "Predicted Polygon Vertices:  Polygon(n=4, vertices=[(7.77, 6.16), (7.56, 6.57), (3.38, 2.48), (7.09, 2.85)], lengths=[0.46065171225124096, 5.848119355827136, 3.7284044844946744, 3.3791271062213686], angles=[72.53548431396484, 110.3006362915039, 108.48316192626953, 72.4935302734375])\n"
          ]
        },
        {
          "output_type": "stream",
          "name": "stderr",
          "text": [
            "Training:  76%|███████▌  | 151004/200001 [1:23:47<28:04, 29.09iter/s, Iteration=151000, Train Loss=1.0264, LR=0.000015]"
          ]
        },
        {
          "output_type": "stream",
          "name": "stdout",
          "text": [
            "2025-04-26 17:11:18: Iteration: 151000, Train Loss: 1.0264\n"
          ]
        },
        {
          "output_type": "stream",
          "name": "stderr",
          "text": [
            "Training:  76%|███████▌  | 152004/200001 [1:24:21<25:12, 31.74iter/s, Iteration=152000, Train Loss=-4.1555, LR=0.000014]"
          ]
        },
        {
          "output_type": "stream",
          "name": "stdout",
          "text": [
            "2025-04-26 17:11:51: Iteration: 152000, Train Loss: -4.1555\n"
          ]
        },
        {
          "output_type": "stream",
          "name": "stderr",
          "text": [
            "Training:  77%|███████▋  | 153006/200001 [1:24:54<23:47, 32.91iter/s, Iteration=153000, Train Loss=3.0865, LR=0.000014]"
          ]
        },
        {
          "output_type": "stream",
          "name": "stdout",
          "text": [
            "2025-04-26 17:12:25: Iteration: 153000, Train Loss: 3.0865\n"
          ]
        },
        {
          "output_type": "stream",
          "name": "stderr",
          "text": [
            "Training:  77%|███████▋  | 154005/200001 [1:25:28<25:14, 30.38iter/s, Iteration=154000, Train Loss=-0.6598, LR=0.000013]"
          ]
        },
        {
          "output_type": "stream",
          "name": "stdout",
          "text": [
            "2025-04-26 17:12:58: Iteration: 154000, Train Loss: -0.6598\n"
          ]
        },
        {
          "output_type": "stream",
          "name": "stderr",
          "text": [
            "Training:  78%|███████▊  | 155005/200001 [1:26:01<25:35, 29.29iter/s, Iteration=155000, Train Loss=-2.8987, LR=0.000013]"
          ]
        },
        {
          "output_type": "stream",
          "name": "stdout",
          "text": [
            "2025-04-26 17:13:31: Iteration: 155000, Train Loss: -2.8987\n"
          ]
        },
        {
          "output_type": "stream",
          "name": "stderr",
          "text": [
            "Training:  78%|███████▊  | 156006/200001 [1:26:35<23:46, 30.84iter/s, Iteration=156000, Train Loss=-1.1892, LR=0.000012]"
          ]
        },
        {
          "output_type": "stream",
          "name": "stdout",
          "text": [
            "2025-04-26 17:14:05: Iteration: 156000, Train Loss: -1.1892\n"
          ]
        },
        {
          "output_type": "stream",
          "name": "stderr",
          "text": [
            "Training:  79%|███████▊  | 157005/200001 [1:27:08<23:48, 30.10iter/s, Iteration=157000, Train Loss=7.5467, LR=0.000012]"
          ]
        },
        {
          "output_type": "stream",
          "name": "stdout",
          "text": [
            "2025-04-26 17:14:38: Iteration: 157000, Train Loss: 7.5467\n"
          ]
        },
        {
          "output_type": "stream",
          "name": "stderr",
          "text": [
            "Training:  79%|███████▉  | 158006/200001 [1:27:41<23:43, 29.50iter/s, Iteration=158000, Train Loss=5.5380, LR=0.000011]"
          ]
        },
        {
          "output_type": "stream",
          "name": "stdout",
          "text": [
            "2025-04-26 17:15:12: Iteration: 158000, Train Loss: 5.5380\n"
          ]
        },
        {
          "output_type": "stream",
          "name": "stderr",
          "text": [
            "Training:  80%|███████▉  | 159006/200001 [1:28:15<23:30, 29.05iter/s, Iteration=159000, Train Loss=-19.2225, LR=0.000011]"
          ]
        },
        {
          "output_type": "stream",
          "name": "stdout",
          "text": [
            "2025-04-26 17:15:45: Iteration: 159000, Train Loss: -19.2225\n"
          ]
        },
        {
          "output_type": "stream",
          "name": "stderr",
          "text": [
            "Training:  80%|████████  | 160005/200001 [1:28:48<22:55, 29.08iter/s, Iteration=160000, Train Loss=-2.6375, LR=0.000010]"
          ]
        },
        {
          "output_type": "stream",
          "name": "stdout",
          "text": [
            "2025-04-26 17:16:18: Iteration: 160000, Train Loss: -2.6375\n",
            "2025-04-26 17:16:18: Iteration: 160000, Test Loss: -2.6375\n",
            "True Polygon:  Polygon(n=4, vertices=[(7.78, 6.13), (6.71, 7.47), (3.41, 2.45), (5.05, 2.0)], lengths=[1.7147886167105262, 6.007528610002619, 1.7006175348972499, 4.950737318824339], angles=[107.92699433368172, 71.92736617139667, 72.0240261963302, 108.12161329859141])\n",
            "Predicted Polygon Vertices:  Polygon(n=4, vertices=[(7.78, 6.13), (6.71, 7.47), (3.41, 2.45), (5.05, 2.0)], lengths=[1.7147886167105262, 6.007528610002619, 1.7006175348972499, 4.950737318824339], angles=[73.42366027832031, 111.52144622802734, 110.30015563964844, 73.81017303466797])\n"
          ]
        },
        {
          "output_type": "stream",
          "name": "stderr",
          "text": [
            "Training:  81%|████████  | 161004/200001 [1:29:22<21:30, 30.22iter/s, Iteration=161000, Train Loss=3.0967, LR=0.000010]"
          ]
        },
        {
          "output_type": "stream",
          "name": "stdout",
          "text": [
            "2025-04-26 17:16:52: Iteration: 161000, Train Loss: 3.0967\n"
          ]
        },
        {
          "output_type": "stream",
          "name": "stderr",
          "text": [
            "Training:  81%|████████  | 162004/200001 [1:29:55<20:26, 30.98iter/s, Iteration=162000, Train Loss=11.1419, LR=0.000010]"
          ]
        },
        {
          "output_type": "stream",
          "name": "stdout",
          "text": [
            "2025-04-26 17:17:25: Iteration: 162000, Train Loss: 11.1419\n"
          ]
        },
        {
          "output_type": "stream",
          "name": "stderr",
          "text": [
            "Training:  82%|████████▏ | 163004/200001 [1:30:28<20:34, 29.98iter/s, Iteration=163000, Train Loss=-21.9258, LR=0.000009]"
          ]
        },
        {
          "output_type": "stream",
          "name": "stdout",
          "text": [
            "2025-04-26 17:17:58: Iteration: 163000, Train Loss: -21.9258\n"
          ]
        },
        {
          "output_type": "stream",
          "name": "stderr",
          "text": [
            "Training:  82%|████████▏ | 164005/200001 [1:31:01<19:47, 30.31iter/s, Iteration=164000, Train Loss=-0.4458, LR=0.000009]"
          ]
        },
        {
          "output_type": "stream",
          "name": "stdout",
          "text": [
            "2025-04-26 17:18:31: Iteration: 164000, Train Loss: -0.4458\n"
          ]
        },
        {
          "output_type": "stream",
          "name": "stderr",
          "text": [
            "Training:  83%|████████▎ | 165005/200001 [1:31:35<19:20, 30.16iter/s, Iteration=165000, Train Loss=-6.7517, LR=0.000008]"
          ]
        },
        {
          "output_type": "stream",
          "name": "stdout",
          "text": [
            "2025-04-26 17:19:05: Iteration: 165000, Train Loss: -6.7517\n"
          ]
        },
        {
          "output_type": "stream",
          "name": "stderr",
          "text": [
            "Training:  83%|████████▎ | 166004/200001 [1:32:08<18:34, 30.51iter/s, Iteration=166000, Train Loss=-6.5703, LR=0.000008]"
          ]
        },
        {
          "output_type": "stream",
          "name": "stdout",
          "text": [
            "2025-04-26 17:19:39: Iteration: 166000, Train Loss: -6.5703\n"
          ]
        },
        {
          "output_type": "stream",
          "name": "stderr",
          "text": [
            "Training:  84%|████████▎ | 167006/200001 [1:32:42<18:39, 29.47iter/s, Iteration=167000, Train Loss=-9.7218, LR=0.000008]"
          ]
        },
        {
          "output_type": "stream",
          "name": "stdout",
          "text": [
            "2025-04-26 17:20:12: Iteration: 167000, Train Loss: -9.7218\n"
          ]
        },
        {
          "output_type": "stream",
          "name": "stderr",
          "text": [
            "Training:  84%|████████▍ | 168006/200001 [1:33:15<17:45, 30.03iter/s, Iteration=168000, Train Loss=-8.1298, LR=0.000007]"
          ]
        },
        {
          "output_type": "stream",
          "name": "stdout",
          "text": [
            "2025-04-26 17:20:46: Iteration: 168000, Train Loss: -8.1298\n"
          ]
        },
        {
          "output_type": "stream",
          "name": "stderr",
          "text": [
            "Training:  85%|████████▍ | 169006/200001 [1:33:49<16:30, 31.30iter/s, Iteration=169000, Train Loss=-11.9016, LR=0.000007]"
          ]
        },
        {
          "output_type": "stream",
          "name": "stdout",
          "text": [
            "2025-04-26 17:21:19: Iteration: 169000, Train Loss: -11.9016\n"
          ]
        },
        {
          "output_type": "stream",
          "name": "stderr",
          "text": [
            "Training:  85%|████████▌ | 170005/200001 [1:34:22<18:28, 27.07iter/s, Iteration=170000, Train Loss=-21.7466, LR=0.000006]"
          ]
        },
        {
          "output_type": "stream",
          "name": "stdout",
          "text": [
            "2025-04-26 17:21:52: Iteration: 170000, Train Loss: -21.7466\n",
            "2025-04-26 17:21:52: Iteration: 170000, Test Loss: -21.7466\n",
            "True Polygon:  Polygon(n=4, vertices=[(2.99, 7.23), (2.28, 6.27), (2.14, 5.92), (7.32, 3.09)], lengths=[1.194026800369239, 0.37696153649941483, 5.902651946371224, 5.990701127580978], angles=[82.77106197359633, 165.31539741610217, 96.8477844757089, 15.065756134592606])\n",
            "Predicted Polygon Vertices:  Polygon(n=4, vertices=[(2.99, 7.23), (2.28, 6.27), (2.14, 5.92), (7.32, 3.09)], lengths=[1.194026800369239, 0.37696153649941483, 5.902651946371224, 5.990701127580978], angles=[70.5867919921875, 106.49040985107422, 103.42912292480469, 68.9698715209961])\n"
          ]
        },
        {
          "output_type": "stream",
          "name": "stderr",
          "text": [
            "Training:  86%|████████▌ | 171004/200001 [1:34:55<15:04, 32.07iter/s, Iteration=171000, Train Loss=12.4376, LR=0.000006]"
          ]
        },
        {
          "output_type": "stream",
          "name": "stdout",
          "text": [
            "2025-04-26 17:22:25: Iteration: 171000, Train Loss: 12.4376\n"
          ]
        },
        {
          "output_type": "stream",
          "name": "stderr",
          "text": [
            "Training:  86%|████████▌ | 172004/200001 [1:35:28<16:05, 29.00iter/s, Iteration=172000, Train Loss=7.5938, LR=0.000006]"
          ]
        },
        {
          "output_type": "stream",
          "name": "stdout",
          "text": [
            "2025-04-26 17:22:58: Iteration: 172000, Train Loss: 7.5938\n"
          ]
        },
        {
          "output_type": "stream",
          "name": "stderr",
          "text": [
            "Training:  87%|████████▋ | 173004/200001 [1:36:01<15:37, 28.80iter/s, Iteration=173000, Train Loss=-17.6552, LR=0.000005]"
          ]
        },
        {
          "output_type": "stream",
          "name": "stdout",
          "text": [
            "2025-04-26 17:23:31: Iteration: 173000, Train Loss: -17.6552\n"
          ]
        },
        {
          "output_type": "stream",
          "name": "stderr",
          "text": [
            "Training:  87%|████████▋ | 174006/200001 [1:36:34<14:37, 29.63iter/s, Iteration=174000, Train Loss=-5.5521, LR=0.000005]"
          ]
        },
        {
          "output_type": "stream",
          "name": "stdout",
          "text": [
            "2025-04-26 17:24:05: Iteration: 174000, Train Loss: -5.5521\n"
          ]
        },
        {
          "output_type": "stream",
          "name": "stderr",
          "text": [
            "Training:  88%|████████▊ | 175006/200001 [1:37:08<13:59, 29.76iter/s, Iteration=175000, Train Loss=-15.5428, LR=0.000005]"
          ]
        },
        {
          "output_type": "stream",
          "name": "stdout",
          "text": [
            "2025-04-26 17:24:38: Iteration: 175000, Train Loss: -15.5428\n"
          ]
        },
        {
          "output_type": "stream",
          "name": "stderr",
          "text": [
            "Training:  88%|████████▊ | 176007/200001 [1:37:41<12:48, 31.21iter/s, Iteration=176000, Train Loss=-5.5988, LR=0.000004]"
          ]
        },
        {
          "output_type": "stream",
          "name": "stdout",
          "text": [
            "2025-04-26 17:25:12: Iteration: 176000, Train Loss: -5.5988\n"
          ]
        },
        {
          "output_type": "stream",
          "name": "stderr",
          "text": [
            "Training:  89%|████████▊ | 177007/200001 [1:38:15<13:05, 29.27iter/s, Iteration=177000, Train Loss=2.0126, LR=0.000004]"
          ]
        },
        {
          "output_type": "stream",
          "name": "stdout",
          "text": [
            "2025-04-26 17:25:45: Iteration: 177000, Train Loss: 2.0126\n"
          ]
        },
        {
          "output_type": "stream",
          "name": "stderr",
          "text": [
            "Training:  89%|████████▉ | 178006/200001 [1:38:48<13:10, 27.83iter/s, Iteration=178000, Train Loss=-10.2510, LR=0.000004]"
          ]
        },
        {
          "output_type": "stream",
          "name": "stdout",
          "text": [
            "2025-04-26 17:26:18: Iteration: 178000, Train Loss: -10.2510\n"
          ]
        },
        {
          "output_type": "stream",
          "name": "stderr",
          "text": [
            "Training:  90%|████████▉ | 179006/200001 [1:39:22<10:39, 32.85iter/s, Iteration=179000, Train Loss=-4.4613, LR=0.000004]"
          ]
        },
        {
          "output_type": "stream",
          "name": "stdout",
          "text": [
            "2025-04-26 17:26:52: Iteration: 179000, Train Loss: -4.4613\n"
          ]
        },
        {
          "output_type": "stream",
          "name": "stderr",
          "text": [
            "Training:  90%|█████████ | 180005/200001 [1:39:56<10:54, 30.54iter/s, Iteration=180000, Train Loss=-15.4574, LR=0.000003]"
          ]
        },
        {
          "output_type": "stream",
          "name": "stdout",
          "text": [
            "2025-04-26 17:27:26: Iteration: 180000, Train Loss: -15.4574\n",
            "2025-04-26 17:27:26: Iteration: 180000, Test Loss: -15.4574\n",
            "True Polygon:  Polygon(n=4, vertices=[(3.62, 7.67), (2.86, 7.1), (2.02, 5.36), (5.66, 2.07)], lengths=[0.9500000000000004, 1.9321490625725535, 4.906495694485017, 5.96], angles=[73.14606195703865, 152.63922527018275, 106.33940277944073, 27.875309993337893])\n",
            "Predicted Polygon Vertices:  Polygon(n=4, vertices=[(3.62, 7.67), (2.86, 7.1), (2.02, 5.36), (5.66, 2.07)], lengths=[0.9500000000000004, 1.9321490625725535, 4.906495694485017, 5.96], angles=[71.44265747070312, 107.77095794677734, 104.76258850097656, 70.15658569335938])\n"
          ]
        },
        {
          "output_type": "stream",
          "name": "stderr",
          "text": [
            "Training:  91%|█████████ | 181006/200001 [1:40:29<11:36, 27.29iter/s, Iteration=181000, Train Loss=-16.7009, LR=0.000003]"
          ]
        },
        {
          "output_type": "stream",
          "name": "stdout",
          "text": [
            "2025-04-26 17:27:59: Iteration: 181000, Train Loss: -16.7009\n"
          ]
        },
        {
          "output_type": "stream",
          "name": "stderr",
          "text": [
            "Training:  91%|█████████ | 182004/200001 [1:41:03<09:25, 31.82iter/s, Iteration=182000, Train Loss=-16.2121, LR=0.000003]"
          ]
        },
        {
          "output_type": "stream",
          "name": "stdout",
          "text": [
            "2025-04-26 17:28:33: Iteration: 182000, Train Loss: -16.2121\n"
          ]
        },
        {
          "output_type": "stream",
          "name": "stderr",
          "text": [
            "Training:  92%|█████████▏| 183004/200001 [1:41:36<08:46, 32.31iter/s, Iteration=183000, Train Loss=4.0478, LR=0.000003]"
          ]
        },
        {
          "output_type": "stream",
          "name": "stdout",
          "text": [
            "2025-04-26 17:29:06: Iteration: 183000, Train Loss: 4.0478\n"
          ]
        },
        {
          "output_type": "stream",
          "name": "stderr",
          "text": [
            "Training:  92%|█████████▏| 184006/200001 [1:42:09<08:48, 30.24iter/s, Iteration=184000, Train Loss=-6.9689, LR=0.000003]"
          ]
        },
        {
          "output_type": "stream",
          "name": "stdout",
          "text": [
            "2025-04-26 17:29:40: Iteration: 184000, Train Loss: -6.9689\n"
          ]
        },
        {
          "output_type": "stream",
          "name": "stderr",
          "text": [
            "Training:  93%|█████████▎| 185006/200001 [1:42:42<08:13, 30.36iter/s, Iteration=185000, Train Loss=-5.2490, LR=0.000002]"
          ]
        },
        {
          "output_type": "stream",
          "name": "stdout",
          "text": [
            "2025-04-26 17:30:13: Iteration: 185000, Train Loss: -5.2490\n"
          ]
        },
        {
          "output_type": "stream",
          "name": "stderr",
          "text": [
            "Training:  93%|█████████▎| 186004/200001 [1:43:15<07:41, 30.31iter/s, Iteration=186000, Train Loss=-15.0717, LR=0.000002]"
          ]
        },
        {
          "output_type": "stream",
          "name": "stdout",
          "text": [
            "2025-04-26 17:30:46: Iteration: 186000, Train Loss: -15.0717\n"
          ]
        },
        {
          "output_type": "stream",
          "name": "stderr",
          "text": [
            "Training:  94%|█████████▎| 187005/200001 [1:43:49<07:19, 29.56iter/s, Iteration=187000, Train Loss=-17.5571, LR=0.000002]"
          ]
        },
        {
          "output_type": "stream",
          "name": "stdout",
          "text": [
            "2025-04-26 17:31:19: Iteration: 187000, Train Loss: -17.5571\n"
          ]
        },
        {
          "output_type": "stream",
          "name": "stderr",
          "text": [
            "Training:  94%|█████████▍| 188006/200001 [1:44:23<06:49, 29.30iter/s, Iteration=188000, Train Loss=-2.9287, LR=0.000002]"
          ]
        },
        {
          "output_type": "stream",
          "name": "stdout",
          "text": [
            "2025-04-26 17:31:53: Iteration: 188000, Train Loss: -2.9287\n"
          ]
        },
        {
          "output_type": "stream",
          "name": "stderr",
          "text": [
            "Training:  95%|█████████▍| 189006/200001 [1:44:57<06:37, 27.63iter/s, Iteration=189000, Train Loss=-10.3440, LR=0.000002]"
          ]
        },
        {
          "output_type": "stream",
          "name": "stdout",
          "text": [
            "2025-04-26 17:32:28: Iteration: 189000, Train Loss: -10.3440\n"
          ]
        },
        {
          "output_type": "stream",
          "name": "stderr",
          "text": [
            "Training:  95%|█████████▌| 190002/200001 [1:45:32<06:19, 26.34iter/s, Iteration=190000, Train Loss=-5.0871, LR=0.000002]"
          ]
        },
        {
          "output_type": "stream",
          "name": "stdout",
          "text": [
            "2025-04-26 17:33:02: Iteration: 190000, Train Loss: -5.0871\n",
            "2025-04-26 17:33:02: Iteration: 190000, Test Loss: -5.0871\n",
            "True Polygon:  Polygon(n=4, vertices=[(3.37, 7.52), (2.68, 6.9), (2.08, 5.7), (6.33, 2.31)], lengths=[0.9276313923105443, 1.341640786499874, 5.436414259417691, 5.992136513798729], angles=[77.66125886687915, 158.50635360298216, 102.0124592601351, 21.819928270003597])\n",
            "Predicted Polygon Vertices:  Polygon(n=4, vertices=[(3.37, 7.52), (2.68, 6.9), (2.08, 5.7), (6.33, 2.31)], lengths=[0.9276313923105443, 1.341640786499874, 5.436414259417691, 5.992136513798729], angles=[71.34119415283203, 107.64154815673828, 104.42552947998047, 69.86309051513672])\n"
          ]
        },
        {
          "output_type": "stream",
          "name": "stderr",
          "text": [
            "Training:  96%|█████████▌| 191004/200001 [1:46:05<05:00, 29.97iter/s, Iteration=191000, Train Loss=-6.9194, LR=0.000001]"
          ]
        },
        {
          "output_type": "stream",
          "name": "stdout",
          "text": [
            "2025-04-26 17:33:36: Iteration: 191000, Train Loss: -6.9194\n"
          ]
        },
        {
          "output_type": "stream",
          "name": "stderr",
          "text": [
            "Training:  96%|█████████▌| 192006/200001 [1:46:39<04:26, 30.05iter/s, Iteration=192000, Train Loss=-0.6412, LR=0.000001]"
          ]
        },
        {
          "output_type": "stream",
          "name": "stdout",
          "text": [
            "2025-04-26 17:34:10: Iteration: 192000, Train Loss: -0.6412\n"
          ]
        },
        {
          "output_type": "stream",
          "name": "stderr",
          "text": [
            "Training:  97%|█████████▋| 193003/200001 [1:47:13<03:55, 29.73iter/s, Iteration=193000, Train Loss=-13.1769, LR=0.000001]"
          ]
        },
        {
          "output_type": "stream",
          "name": "stdout",
          "text": [
            "2025-04-26 17:34:43: Iteration: 193000, Train Loss: -13.1769\n"
          ]
        },
        {
          "output_type": "stream",
          "name": "stderr",
          "text": [
            "Training:  97%|█████████▋| 194007/200001 [1:47:46<02:55, 34.23iter/s, Iteration=194000, Train Loss=-5.0409, LR=0.000001]"
          ]
        },
        {
          "output_type": "stream",
          "name": "stdout",
          "text": [
            "2025-04-26 17:35:17: Iteration: 194000, Train Loss: -5.0409\n"
          ]
        },
        {
          "output_type": "stream",
          "name": "stderr",
          "text": [
            "Training:  98%|█████████▊| 195004/200001 [1:48:20<02:45, 30.27iter/s, Iteration=195000, Train Loss=-1.3307, LR=0.000001]"
          ]
        },
        {
          "output_type": "stream",
          "name": "stdout",
          "text": [
            "2025-04-26 17:35:51: Iteration: 195000, Train Loss: -1.3307\n"
          ]
        },
        {
          "output_type": "stream",
          "name": "stderr",
          "text": [
            "Training:  98%|█████████▊| 196005/200001 [1:48:53<02:25, 27.42iter/s, Iteration=196000, Train Loss=-13.7105, LR=0.000001]"
          ]
        },
        {
          "output_type": "stream",
          "name": "stdout",
          "text": [
            "2025-04-26 17:36:24: Iteration: 196000, Train Loss: -13.7105\n"
          ]
        },
        {
          "output_type": "stream",
          "name": "stderr",
          "text": [
            "Training:  99%|█████████▊| 197005/200001 [1:49:27<01:41, 29.53iter/s, Iteration=197000, Train Loss=-6.1086, LR=0.000001]"
          ]
        },
        {
          "output_type": "stream",
          "name": "stdout",
          "text": [
            "2025-04-26 17:36:58: Iteration: 197000, Train Loss: -6.1086\n"
          ]
        },
        {
          "output_type": "stream",
          "name": "stderr",
          "text": [
            "Training:  99%|█████████▉| 198007/200001 [1:50:01<01:05, 30.51iter/s, Iteration=198000, Train Loss=-7.0020, LR=0.000001]"
          ]
        },
        {
          "output_type": "stream",
          "name": "stdout",
          "text": [
            "2025-04-26 17:37:31: Iteration: 198000, Train Loss: -7.0020\n"
          ]
        },
        {
          "output_type": "stream",
          "name": "stderr",
          "text": [
            "Training: 100%|█████████▉| 199005/200001 [1:50:34<00:31, 31.43iter/s, Iteration=199000, Train Loss=-12.5064, LR=0.000001]"
          ]
        },
        {
          "output_type": "stream",
          "name": "stdout",
          "text": [
            "2025-04-26 17:38:05: Iteration: 199000, Train Loss: -12.5064\n"
          ]
        },
        {
          "output_type": "stream",
          "name": "stderr",
          "text": [
            "Training: 100%|██████████| 200001/200001 [1:51:07<00:00, 29.99iter/s, Iteration=2e+5, Train Loss=-9.8728, LR=0.000001]"
          ]
        },
        {
          "output_type": "stream",
          "name": "stdout",
          "text": [
            "2025-04-26 17:38:38: Iteration: 200000, Train Loss: -9.8728\n",
            "2025-04-26 17:38:38: Iteration: 200000, Test Loss: -9.8728\n",
            "True Polygon:  Polygon(n=4, vertices=[(4.57, 7.97), (2.03, 5.44), (2.17, 4.0), (7.21, 2.97)], lengths=[3.5850383540486703, 1.4467895493125464, 5.144171459039833, 5.654166605256693], angles=[72.9470632210515, 129.33401968646254, 107.10318176857118, 50.61573532391479])\n",
            "Predicted Polygon Vertices:  Polygon(n=4, vertices=[(4.57, 7.97), (2.03, 5.44), (2.17, 4.0), (7.21, 2.97)], lengths=[3.5850383540486703, 1.4467895493125464, 5.144171459039833, 5.654166605256693], angles=[70.17955780029297, 105.91519927978516, 103.60581970214844, 69.02519226074219])\n"
          ]
        },
        {
          "output_type": "stream",
          "name": "stderr",
          "text": [
            "\n"
          ]
        }
      ],
      "source": [
        "model = LNP(x_dim=MAX_SEQ_LEN, y_dim=MAX_SEQ_LEN)\n",
        "optimizer = torch.optim.Adam(model.parameters(), lr=1e-4)\n",
        "scheduler = torch.optim.lr_scheduler.CosineAnnealingLR(\n",
        "    optimizer, T_max=TRAINING_ITERATIONS, eta_min=1e-6\n",
        ")\n",
        "model.to(torch.device(\"cuda\" if torch.cuda.is_available() else \"cpu\"))\n",
        "device = next(model.parameters()).device\n",
        "\n",
        "# ----------------------\n",
        "# Training Loop\n",
        "# ----------------------\n",
        "\n",
        "progress_bar = tqdm(range(TRAINING_ITERATIONS + 1), desc=\"Training\", unit=\"iter\")\n",
        "for it in progress_bar:\n",
        "    # Generate a batch of polygon completion tasks.\n",
        "    (\n",
        "        context_x,\n",
        "        context_y,\n",
        "        target_x,\n",
        "        target_y,\n",
        "        tokens,\n",
        "        true_poly,\n",
        "        max_seq_len,\n",
        "        num_context,\n",
        "        context_masks,\n",
        "    ) = polygon_generator_train.generate_polygon_batch_few_shot_masked_completion_task()\n",
        "\n",
        "    context_x = context_x.to(device)\n",
        "    context_y = context_y.to(device)\n",
        "    target_x = target_x.to(device)\n",
        "    target_y = target_y.to(device)\n",
        "    context_masks = context_masks.to(device)\n",
        "\n",
        "    optimizer.zero_grad()\n",
        "    # Forward pass: the NP model expects context_x, context_y, target_x, target_y.\n",
        "    dist, z, q_zc, q_zct = model(context_x, context_y, target_x, target_y)\n",
        "    loss = criterion(dist, q_zct, q_zc, target_y, mask=context_masks)\n",
        "    loss.backward()\n",
        "\n",
        "    # torch.nn.utils.clip_grad_norm_(model.parameters(), max_norm=1.0)\n",
        "    optimizer.step()\n",
        "    scheduler.step()\n",
        "\n",
        "    if it % 1000 == 0:\n",
        "        now = datetime.datetime.now().strftime(\"%Y-%m-%d %H:%M:%S\")\n",
        "        progress_bar.set_postfix({\"Iteration\": it, \"Train Loss\": f\"{loss.item():.4f}\", \"LR\": f\"{scheduler.get_last_lr()[0]:.6f}\"})\n",
        "        print(f\"{now}: Iteration: {it}, Train Loss: {loss.item():.4f}\")\n",
        "\n",
        "    # ----------------------\n",
        "    # Evaluation and Plotting\n",
        "    # ----------------------\n",
        "    if it % PLOT_AFTER == 0:\n",
        "        # For plotting, we generate a single polygon sample.\n",
        "        (\n",
        "            context_x_eval,\n",
        "            context_y_eval,\n",
        "            target_x_eval,\n",
        "            target_y_eval,\n",
        "            tokens_eval,\n",
        "            true_poly_eval,\n",
        "            max_seq_len_eval,\n",
        "            num_context_eval,\n",
        "            context_masks_eval,\n",
        "        ) = polygon_generator_test.generate_polygon_batch_few_shot_masked_completion_task()\n",
        "\n",
        "        context_x_eval = context_x_eval.to(device)\n",
        "        context_y_eval = context_y_eval.to(device)\n",
        "        target_x_eval = target_x_eval.to(device)\n",
        "        target_y_eval = target_y_eval.to(device)\n",
        "        context_masks_eval = context_masks_eval.to(device)\n",
        "\n",
        "        # Forward pass through the model.\n",
        "        test_dist, test_z, test_q_zc, test_q_zct = model(\n",
        "            context_x_eval, context_y_eval, target_x_eval, target_y_eval\n",
        "        )\n",
        "        loss_eval = criterion(dist, q_zct, q_zc, target_y, mask=context_masks)\n",
        "\n",
        "        # Get NP predictions on target tokens (taking the mean of the predictive distribution).\n",
        "        pred_target = test_dist.mean  # shape: [n_z, batch, n_target, y_dim]\n",
        "\n",
        "        # For simplicity, we average over latent samples and batch dimension.\n",
        "        pred_target_avg = pred_target.mean(0)[0]  # shape: [n_target, y_dim]\n",
        "        # print(\"pred_target_avg shape: \", pred_target_avg.shape)\n",
        "        pred_target_avg = pred_target_avg[0]\n",
        "        true_polygon = true_poly_eval[0]\n",
        "        true_polygon_tokenised = true_polygon.to_tokenised()\n",
        "        pred_target_avg = pred_target_avg[: len(true_polygon_tokenised)].tolist()\n",
        "        # print(\"pred_target_avg shape after squeeze: \", pred_target_avg.shape)\n",
        "\n",
        "        # Squeeze out the batch‐and‐context dims to get a 1D mask\n",
        "        mask_1d = context_masks_eval.squeeze(1)[0].cpu().tolist()\n",
        "        mask_1d = mask_1d[: len(true_polygon_tokenised)]\n",
        "\n",
        "        # Construct predicted tokenised form\n",
        "        predicted_tokens = []\n",
        "        for t_true, t_pred, m in zip(\n",
        "            true_polygon_tokenised, pred_target_avg, mask_1d\n",
        "        ):\n",
        "            # m == 1: masked token\n",
        "            predicted_tokens.append(t_pred if m == 1 else t_true)\n",
        "\n",
        "        # Reconstruct polygons from tokens.\n",
        "        try:\n",
        "            predicted_polygon = Polygon.from_tokenised(predicted_tokens, int(true_polygon_tokenised[0]))\n",
        "        except Exception as e:\n",
        "            print(\"Error reconstructing polygon:\", e)\n",
        "            predicted_polygon = None\n",
        "\n",
        "        now = datetime.datetime.now().strftime(\"%Y-%m-%d %H:%M:%S\")\n",
        "        print(f\"{now}: Iteration: {it}, Test Loss: {loss_eval.item():.4f}\")\n",
        "        print(\"True Polygon: \", true_polygon)\n",
        "        if predicted_polygon is not None:\n",
        "            print(\"Predicted Polygon Vertices: \", predicted_polygon)\n",
        "        else:\n",
        "            print(\"Predicted Polygon could not be reconstructed.\")\n",
        "\n",
        "        # Plot true and predicted polygons.\n",
        "        # plot_polygon(true_polygon.vertices, title=\"True Polygon\")\n",
        "        # if predicted_polygon is not None:\n",
        "        #     try:\n",
        "        #         plot_polygon(predicted_polygon.vertices, title=\"Predicted Polygon\")\n",
        "        #     except Exception as e:\n",
        "        #         print(\"Invalid polygon for plotting:\", e)"
      ]
    }
  ],
  "metadata": {
    "accelerator": "GPU",
    "colab": {
      "gpuType": "L4",
      "provenance": [],
      "toc_visible": true
    },
    "kernelspec": {
      "display_name": "Python 3",
      "name": "python3"
    },
    "language_info": {
      "name": "python"
    }
  },
  "nbformat": 4,
  "nbformat_minor": 0
}