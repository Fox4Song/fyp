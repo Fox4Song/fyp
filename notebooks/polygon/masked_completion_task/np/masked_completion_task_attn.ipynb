{
  "cells": [
    {
      "cell_type": "code",
      "execution_count": 1,
      "metadata": {
        "id": "21ZXg5oftdXb"
      },
      "outputs": [],
      "source": [
        "import os\n",
        "os.chdir(\"drive/MyDrive/fyp/src\")"
      ]
    },
    {
      "cell_type": "code",
      "execution_count": 2,
      "metadata": {
        "id": "Z1pJYNovuUeT"
      },
      "outputs": [],
      "source": [
        "from data import PolygonSentenceReader, Polygon\n",
        "from modules import NLLLoss, ELBOLoss\n",
        "from neural_process.models.np import CNP, LNP\n",
        "from neural_process.models.attnnp import AttnCNP, AttnLNP\n",
        "from utils import plot_polygon\n",
        "\n",
        "import datetime\n",
        "import random\n",
        "from tqdm import tqdm\n",
        "import torch\n",
        "import torch.nn as nn\n",
        "from torch.distributions.kl import kl_divergence"
      ]
    },
    {
      "cell_type": "code",
      "execution_count": 4,
      "metadata": {
        "id": "EpvLDqnPucpc",
        "colab": {
          "base_uri": "https://localhost:8080/"
        },
        "outputId": "1a5a7b1d-de3c-4005-97f1-a77607124e64"
      },
      "outputs": [
        {
          "output_type": "stream",
          "name": "stdout",
          "text": [
            "Total parameters: 477,770\n"
          ]
        }
      ],
      "source": [
        "TRAINING_ITERATIONS = int(2e5)\n",
        "PLOT_AFTER = int(1e4)\n",
        "BATCH_SIZE = 64\n",
        "MAX_CONTEXT_POINTS = 10\n",
        "MAX_SEQ_LEN = 5 + 4 * 8\n",
        "torch.manual_seed(0)\n",
        "\n",
        "criterion = ELBOLoss()\n",
        "\n",
        "# Instantiate a polygon generator.\n",
        "# (For example, polygons with between 3 and 8 sides.)\n",
        "polygon_generator_train = PolygonSentenceReader(\n",
        "    batch_size=BATCH_SIZE,\n",
        "    max_num_context=MAX_CONTEXT_POINTS,\n",
        "    max_seq_len=MAX_SEQ_LEN,\n",
        "    min_num_sides=3,\n",
        "    max_num_sides=8,\n",
        "    center=(5, 5),\n",
        "    radius=3,\n",
        "    testing=False,\n",
        ")\n",
        "\n",
        "polygon_generator_test = PolygonSentenceReader(\n",
        "    batch_size=100,\n",
        "    max_num_context=MAX_CONTEXT_POINTS,\n",
        "    max_seq_len=MAX_SEQ_LEN,\n",
        "    min_num_sides=4,\n",
        "    max_num_sides=4,\n",
        "    center=(5, 5),\n",
        "    radius=3,\n",
        "    testing=True,\n",
        ")\n",
        "\n",
        "model = AttnLNP(x_dim=MAX_SEQ_LEN, y_dim=MAX_SEQ_LEN, attention_type=\"multihead\")\n",
        "optimizer = torch.optim.Adam(model.parameters(), lr=1e-4)\n",
        "scheduler = torch.optim.lr_scheduler.CosineAnnealingLR(\n",
        "    optimizer, T_max=TRAINING_ITERATIONS, eta_min=1e-6\n",
        ")\n",
        "model.to(torch.device(\"cuda\" if torch.cuda.is_available() else \"cpu\"))\n",
        "device = next(model.parameters()).device\n",
        "total_params = sum(p.numel() for p in model.parameters())\n",
        "print(f\"Total parameters: {total_params:,}\")"
      ]
    },
    {
      "cell_type": "code",
      "execution_count": 5,
      "metadata": {
        "colab": {
          "base_uri": "https://localhost:8080/"
        },
        "id": "pV1sgDM6ud2j",
        "outputId": "bc6a7ad1-4852-4268-8a80-b63fea41b322"
      },
      "outputs": [
        {
          "output_type": "stream",
          "name": "stderr",
          "text": [
            "Training:   0%|          | 3/200001 [00:01<19:19:43,  2.87iter/s, Iteration=0, Train Loss=624617984.0000, LR=0.000100]"
          ]
        },
        {
          "output_type": "stream",
          "name": "stdout",
          "text": [
            "2025-04-27 19:37:40: Iteration: 0, Train Loss: 624617984.0000\n",
            "2025-04-27 19:37:40: Iteration: 0, Test Loss: 624617984.0000\n",
            "True Polygon:  Polygon(n=4, vertices=[(6.88, 7.34), (6.86, 7.36), (4.0, 7.83), (7.92, 4.29)], lengths=[0.028284271247461926, 2.89836160614924, 5.281855734493323, 3.222436966024316], angles=[153.82853483662774, 144.33232633462882, 32.75164224063834, 29.08749658810514])\n",
            "Predicted Polygon Vertices:  Polygon(n=4, vertices=[(6.88, 7.34), (6.86, 7.36), (4.0, 7.83), (7.92, 4.29)], lengths=[0.028284271247461926, 2.89836160614924, 5.281855734493323, 3.222436966024316], angles=[-8.852704048156738, -9.074834823608398, 1.0372321605682373, 5.379190921783447])\n"
          ]
        },
        {
          "output_type": "stream",
          "name": "stderr",
          "text": [
            "Training:   1%|          | 1006/200001 [00:44<2:18:31, 23.94iter/s, Iteration=1000, Train Loss=129011.7734, LR=0.000100]"
          ]
        },
        {
          "output_type": "stream",
          "name": "stdout",
          "text": [
            "2025-04-27 19:38:23: Iteration: 1000, Train Loss: 129011.7734\n"
          ]
        },
        {
          "output_type": "stream",
          "name": "stderr",
          "text": [
            "Training:   1%|          | 2006/200001 [01:27<2:13:09, 24.78iter/s, Iteration=2000, Train Loss=86186.3359, LR=0.000100]"
          ]
        },
        {
          "output_type": "stream",
          "name": "stdout",
          "text": [
            "2025-04-27 19:39:05: Iteration: 2000, Train Loss: 86186.3359\n"
          ]
        },
        {
          "output_type": "stream",
          "name": "stderr",
          "text": [
            "Training:   2%|▏         | 3003/200001 [02:09<2:18:53, 23.64iter/s, Iteration=3000, Train Loss=19951.7051, LR=0.000100]"
          ]
        },
        {
          "output_type": "stream",
          "name": "stdout",
          "text": [
            "2025-04-27 19:39:48: Iteration: 3000, Train Loss: 19951.7051\n"
          ]
        },
        {
          "output_type": "stream",
          "name": "stderr",
          "text": [
            "Training:   2%|▏         | 4004/200001 [02:52<2:17:17, 23.79iter/s, Iteration=4000, Train Loss=22493.4004, LR=0.000100]"
          ]
        },
        {
          "output_type": "stream",
          "name": "stdout",
          "text": [
            "2025-04-27 19:40:30: Iteration: 4000, Train Loss: 22493.4004\n"
          ]
        },
        {
          "output_type": "stream",
          "name": "stderr",
          "text": [
            "Training:   3%|▎         | 5004/200001 [03:34<2:15:17, 24.02iter/s, Iteration=5000, Train Loss=9214.2061, LR=0.000100]"
          ]
        },
        {
          "output_type": "stream",
          "name": "stdout",
          "text": [
            "2025-04-27 19:41:13: Iteration: 5000, Train Loss: 9214.2061\n"
          ]
        },
        {
          "output_type": "stream",
          "name": "stderr",
          "text": [
            "Training:   3%|▎         | 6005/200001 [04:17<2:10:55, 24.69iter/s, Iteration=6000, Train Loss=8066.0508, LR=0.000100]"
          ]
        },
        {
          "output_type": "stream",
          "name": "stdout",
          "text": [
            "2025-04-27 19:41:56: Iteration: 6000, Train Loss: 8066.0508\n"
          ]
        },
        {
          "output_type": "stream",
          "name": "stderr",
          "text": [
            "Training:   4%|▎         | 7005/200001 [05:00<2:21:16, 22.77iter/s, Iteration=7000, Train Loss=5678.7119, LR=0.000100]"
          ]
        },
        {
          "output_type": "stream",
          "name": "stdout",
          "text": [
            "2025-04-27 19:42:39: Iteration: 7000, Train Loss: 5678.7119\n"
          ]
        },
        {
          "output_type": "stream",
          "name": "stderr",
          "text": [
            "Training:   4%|▍         | 8004/200001 [05:43<2:25:32, 21.99iter/s, Iteration=8000, Train Loss=4837.6108, LR=0.000100]"
          ]
        },
        {
          "output_type": "stream",
          "name": "stdout",
          "text": [
            "2025-04-27 19:43:22: Iteration: 8000, Train Loss: 4837.6108\n"
          ]
        },
        {
          "output_type": "stream",
          "name": "stderr",
          "text": [
            "Training:   5%|▍         | 9006/200001 [06:25<2:10:41, 24.36iter/s, Iteration=9000, Train Loss=403.7023, LR=0.000100]"
          ]
        },
        {
          "output_type": "stream",
          "name": "stdout",
          "text": [
            "2025-04-27 19:44:04: Iteration: 9000, Train Loss: 403.7023\n"
          ]
        },
        {
          "output_type": "stream",
          "name": "stderr",
          "text": [
            "Training:   5%|▌         | 10003/200001 [07:08<2:32:27, 20.77iter/s, Iteration=1e+4, Train Loss=378.9337, LR=0.000099]"
          ]
        },
        {
          "output_type": "stream",
          "name": "stdout",
          "text": [
            "2025-04-27 19:44:47: Iteration: 10000, Train Loss: 378.9337\n",
            "2025-04-27 19:44:47: Iteration: 10000, Test Loss: 378.9337\n",
            "True Polygon:  Polygon(n=4, vertices=[(7.76, 6.18), (4.24, 7.9), (2.09, 5.75), (7.82, 3.97)], lengths=[3.91775445887054, 3.040559159102155, 6.000108332355342, 2.2108143296079836], angles=[117.59697609996101, 108.95818340510618, 62.257183581956234, 71.18765691297659])\n",
            "Predicted Polygon Vertices:  Polygon(n=4, vertices=[(7.76, 6.18), (4.24, 7.9), (2.09, 5.75), (7.82, 3.97)], lengths=[3.91775445887054, 3.040559159102155, 6.000108332355342, 2.2108143296079836], angles=[11.804084777832031, -6.451288223266602, -13.947224617004395, 59.94298553466797])\n"
          ]
        },
        {
          "output_type": "stream",
          "name": "stderr",
          "text": [
            "Training:   6%|▌         | 11006/200001 [07:51<2:07:21, 24.73iter/s, Iteration=11000, Train Loss=355.7694, LR=0.000099]"
          ]
        },
        {
          "output_type": "stream",
          "name": "stdout",
          "text": [
            "2025-04-27 19:45:30: Iteration: 11000, Train Loss: 355.7694\n"
          ]
        },
        {
          "output_type": "stream",
          "name": "stderr",
          "text": [
            "Training:   6%|▌         | 12005/200001 [08:34<2:21:51, 22.09iter/s, Iteration=12000, Train Loss=360.8477, LR=0.000099]"
          ]
        },
        {
          "output_type": "stream",
          "name": "stdout",
          "text": [
            "2025-04-27 19:46:13: Iteration: 12000, Train Loss: 360.8477\n"
          ]
        },
        {
          "output_type": "stream",
          "name": "stderr",
          "text": [
            "Training:   7%|▋         | 13004/200001 [09:17<2:20:47, 22.14iter/s, Iteration=13000, Train Loss=371.0612, LR=0.000099]"
          ]
        },
        {
          "output_type": "stream",
          "name": "stdout",
          "text": [
            "2025-04-27 19:46:56: Iteration: 13000, Train Loss: 371.0612\n"
          ]
        },
        {
          "output_type": "stream",
          "name": "stderr",
          "text": [
            "Training:   7%|▋         | 14006/200001 [10:00<2:05:39, 24.67iter/s, Iteration=14000, Train Loss=402.9025, LR=0.000099]"
          ]
        },
        {
          "output_type": "stream",
          "name": "stdout",
          "text": [
            "2025-04-27 19:47:39: Iteration: 14000, Train Loss: 402.9025\n"
          ]
        },
        {
          "output_type": "stream",
          "name": "stderr",
          "text": [
            "Training:   8%|▊         | 15005/200001 [10:43<2:16:13, 22.63iter/s, Iteration=15000, Train Loss=418.9528, LR=0.000099]"
          ]
        },
        {
          "output_type": "stream",
          "name": "stdout",
          "text": [
            "2025-04-27 19:48:22: Iteration: 15000, Train Loss: 418.9528\n"
          ]
        },
        {
          "output_type": "stream",
          "name": "stderr",
          "text": [
            "Training:   8%|▊         | 16004/200001 [11:26<2:20:40, 21.80iter/s, Iteration=16000, Train Loss=424.5255, LR=0.000098]"
          ]
        },
        {
          "output_type": "stream",
          "name": "stdout",
          "text": [
            "2025-04-27 19:49:05: Iteration: 16000, Train Loss: 424.5255\n"
          ]
        },
        {
          "output_type": "stream",
          "name": "stderr",
          "text": [
            "Training:   9%|▊         | 17006/200001 [12:09<1:59:41, 25.48iter/s, Iteration=17000, Train Loss=414.6668, LR=0.000098]"
          ]
        },
        {
          "output_type": "stream",
          "name": "stdout",
          "text": [
            "2025-04-27 19:49:48: Iteration: 17000, Train Loss: 414.6668\n"
          ]
        },
        {
          "output_type": "stream",
          "name": "stderr",
          "text": [
            "Training:   9%|▉         | 18003/200001 [12:52<2:05:00, 24.27iter/s, Iteration=18000, Train Loss=399.9950, LR=0.000098]"
          ]
        },
        {
          "output_type": "stream",
          "name": "stdout",
          "text": [
            "2025-04-27 19:50:31: Iteration: 18000, Train Loss: 399.9950\n"
          ]
        },
        {
          "output_type": "stream",
          "name": "stderr",
          "text": [
            "Training:  10%|▉         | 19003/200001 [13:35<2:16:00, 22.18iter/s, Iteration=19000, Train Loss=380.0580, LR=0.000098]"
          ]
        },
        {
          "output_type": "stream",
          "name": "stdout",
          "text": [
            "2025-04-27 19:51:14: Iteration: 19000, Train Loss: 380.0580\n"
          ]
        },
        {
          "output_type": "stream",
          "name": "stderr",
          "text": [
            "Training:  10%|█         | 20003/200001 [14:17<2:12:24, 22.66iter/s, Iteration=2e+4, Train Loss=381.8862, LR=0.000098]"
          ]
        },
        {
          "output_type": "stream",
          "name": "stdout",
          "text": [
            "2025-04-27 19:51:56: Iteration: 20000, Train Loss: 381.8862\n",
            "2025-04-27 19:51:56: Iteration: 20000, Test Loss: 381.8862\n",
            "True Polygon:  Polygon(n=4, vertices=[(7.65, 6.4), (5.32, 7.98), (3.83, 2.24), (7.26, 3.02)], lengths=[2.8151909349100994, 5.930236082990289, 3.517570184090148, 3.4024256053586246], angles=[117.55970587066602, 70.4101238757069, 62.63673980291914, 109.39343045070795])\n",
            "Predicted Polygon Vertices:  Polygon(n=4, vertices=[(7.65, 6.4), (5.32, 7.98), (3.83, 2.24), (7.26, 3.02)], lengths=[2.8151909349100994, 5.930236082990289, 3.517570184090148, 3.4024256053586246], angles=[77.34708404541016, 32.273189544677734, -28.253530502319336, 29.245502471923828])\n"
          ]
        },
        {
          "output_type": "stream",
          "name": "stderr",
          "text": [
            "Training:  11%|█         | 21005/200001 [15:00<2:09:45, 22.99iter/s, Iteration=21000, Train Loss=352.7842, LR=0.000097]"
          ]
        },
        {
          "output_type": "stream",
          "name": "stdout",
          "text": [
            "2025-04-27 19:52:39: Iteration: 21000, Train Loss: 352.7842\n"
          ]
        },
        {
          "output_type": "stream",
          "name": "stderr",
          "text": [
            "Training:  11%|█         | 22005/200001 [15:42<2:08:47, 23.03iter/s, Iteration=22000, Train Loss=352.6407, LR=0.000097]"
          ]
        },
        {
          "output_type": "stream",
          "name": "stdout",
          "text": [
            "2025-04-27 19:53:21: Iteration: 22000, Train Loss: 352.6407\n"
          ]
        },
        {
          "output_type": "stream",
          "name": "stderr",
          "text": [
            "Training:  12%|█▏        | 23005/200001 [16:25<2:04:48, 23.63iter/s, Iteration=23000, Train Loss=319.4772, LR=0.000097]"
          ]
        },
        {
          "output_type": "stream",
          "name": "stdout",
          "text": [
            "2025-04-27 19:54:04: Iteration: 23000, Train Loss: 319.4772\n"
          ]
        },
        {
          "output_type": "stream",
          "name": "stderr",
          "text": [
            "Training:  12%|█▏        | 24005/200001 [17:08<2:02:30, 23.94iter/s, Iteration=24000, Train Loss=380.3565, LR=0.000097]"
          ]
        },
        {
          "output_type": "stream",
          "name": "stdout",
          "text": [
            "2025-04-27 19:54:47: Iteration: 24000, Train Loss: 380.3565\n"
          ]
        },
        {
          "output_type": "stream",
          "name": "stderr",
          "text": [
            "Training:  13%|█▎        | 25004/200001 [17:51<2:05:19, 23.27iter/s, Iteration=25000, Train Loss=434.0703, LR=0.000096]"
          ]
        },
        {
          "output_type": "stream",
          "name": "stdout",
          "text": [
            "2025-04-27 19:55:30: Iteration: 25000, Train Loss: 434.0703\n"
          ]
        },
        {
          "output_type": "stream",
          "name": "stderr",
          "text": [
            "Training:  13%|█▎        | 26003/200001 [18:34<1:59:04, 24.36iter/s, Iteration=26000, Train Loss=400.7517, LR=0.000096]"
          ]
        },
        {
          "output_type": "stream",
          "name": "stdout",
          "text": [
            "2025-04-27 19:56:13: Iteration: 26000, Train Loss: 400.7517\n"
          ]
        },
        {
          "output_type": "stream",
          "name": "stderr",
          "text": [
            "Training:  14%|█▎        | 27005/200001 [19:17<2:08:16, 22.48iter/s, Iteration=27000, Train Loss=372.6057, LR=0.000096]"
          ]
        },
        {
          "output_type": "stream",
          "name": "stdout",
          "text": [
            "2025-04-27 19:56:56: Iteration: 27000, Train Loss: 372.6057\n"
          ]
        },
        {
          "output_type": "stream",
          "name": "stderr",
          "text": [
            "Training:  14%|█▍        | 28003/200001 [20:00<2:12:23, 21.65iter/s, Iteration=28000, Train Loss=349.8979, LR=0.000095]"
          ]
        },
        {
          "output_type": "stream",
          "name": "stdout",
          "text": [
            "2025-04-27 19:57:38: Iteration: 28000, Train Loss: 349.8979\n"
          ]
        },
        {
          "output_type": "stream",
          "name": "stderr",
          "text": [
            "Training:  15%|█▍        | 29005/200001 [20:43<1:57:57, 24.16iter/s, Iteration=29000, Train Loss=346.9727, LR=0.000095]"
          ]
        },
        {
          "output_type": "stream",
          "name": "stdout",
          "text": [
            "2025-04-27 19:58:21: Iteration: 29000, Train Loss: 346.9727\n"
          ]
        },
        {
          "output_type": "stream",
          "name": "stderr",
          "text": [
            "Training:  15%|█▌        | 30004/200001 [21:26<2:06:49, 22.34iter/s, Iteration=3e+4, Train Loss=370.9515, LR=0.000095]"
          ]
        },
        {
          "output_type": "stream",
          "name": "stdout",
          "text": [
            "2025-04-27 19:59:05: Iteration: 30000, Train Loss: 370.9515\n",
            "2025-04-27 19:59:05: Iteration: 30000, Test Loss: 370.9515\n",
            "True Polygon:  Polygon(n=4, vertices=[(6.52, 7.59), (2.02, 5.3), (2.19, 3.96), (4.78, 2.01)], lengths=[5.049168248335561, 1.3507405376311172, 3.2420055521235622, 5.844997861419626], angles=[45.71002406299288, 109.74079486624082, 134.20617800396937, 70.34300306679692])\n",
            "Predicted Polygon Vertices:  Polygon(n=4, vertices=[(6.52, 7.59), (2.02, 5.3), (2.19, 3.96), (4.78, 2.01)], lengths=[5.049168248335561, 1.3507405376311172, 3.2420055521235622, 5.844997861419626], angles=[20.83700180053711, 12.196124076843262, 14.280519485473633, 27.076934814453125])\n"
          ]
        },
        {
          "output_type": "stream",
          "name": "stderr",
          "text": [
            "Training:  16%|█▌        | 31005/200001 [22:09<2:05:21, 22.47iter/s, Iteration=31000, Train Loss=348.2098, LR=0.000094]"
          ]
        },
        {
          "output_type": "stream",
          "name": "stdout",
          "text": [
            "2025-04-27 19:59:48: Iteration: 31000, Train Loss: 348.2098\n"
          ]
        },
        {
          "output_type": "stream",
          "name": "stderr",
          "text": [
            "Training:  16%|█▌        | 32004/200001 [22:52<1:52:06, 24.98iter/s, Iteration=32000, Train Loss=350.2723, LR=0.000094]"
          ]
        },
        {
          "output_type": "stream",
          "name": "stdout",
          "text": [
            "2025-04-27 20:00:31: Iteration: 32000, Train Loss: 350.2723\n"
          ]
        },
        {
          "output_type": "stream",
          "name": "stderr",
          "text": [
            "Training:  17%|█▋        | 33004/200001 [23:35<1:52:19, 24.78iter/s, Iteration=33000, Train Loss=333.3174, LR=0.000093]"
          ]
        },
        {
          "output_type": "stream",
          "name": "stdout",
          "text": [
            "2025-04-27 20:01:14: Iteration: 33000, Train Loss: 333.3174\n"
          ]
        },
        {
          "output_type": "stream",
          "name": "stderr",
          "text": [
            "Training:  17%|█▋        | 34006/200001 [24:18<1:53:19, 24.41iter/s, Iteration=34000, Train Loss=312.9819, LR=0.000093]"
          ]
        },
        {
          "output_type": "stream",
          "name": "stdout",
          "text": [
            "2025-04-27 20:01:57: Iteration: 34000, Train Loss: 312.9819\n"
          ]
        },
        {
          "output_type": "stream",
          "name": "stderr",
          "text": [
            "Training:  18%|█▊        | 35003/200001 [25:01<1:58:24, 23.22iter/s, Iteration=35000, Train Loss=340.3064, LR=0.000093]"
          ]
        },
        {
          "output_type": "stream",
          "name": "stdout",
          "text": [
            "2025-04-27 20:02:40: Iteration: 35000, Train Loss: 340.3064\n"
          ]
        },
        {
          "output_type": "stream",
          "name": "stderr",
          "text": [
            "Training:  18%|█▊        | 36004/200001 [25:44<2:09:59, 21.03iter/s, Iteration=36000, Train Loss=318.6002, LR=0.000092]"
          ]
        },
        {
          "output_type": "stream",
          "name": "stdout",
          "text": [
            "2025-04-27 20:03:23: Iteration: 36000, Train Loss: 318.6002\n"
          ]
        },
        {
          "output_type": "stream",
          "name": "stderr",
          "text": [
            "Training:  19%|█▊        | 37004/200001 [26:27<1:53:48, 23.87iter/s, Iteration=37000, Train Loss=306.9977, LR=0.000092]"
          ]
        },
        {
          "output_type": "stream",
          "name": "stdout",
          "text": [
            "2025-04-27 20:04:06: Iteration: 37000, Train Loss: 306.9977\n"
          ]
        },
        {
          "output_type": "stream",
          "name": "stderr",
          "text": [
            "Training:  19%|█▉        | 38004/200001 [27:10<1:59:13, 22.64iter/s, Iteration=38000, Train Loss=283.9213, LR=0.000091]"
          ]
        },
        {
          "output_type": "stream",
          "name": "stdout",
          "text": [
            "2025-04-27 20:04:49: Iteration: 38000, Train Loss: 283.9213\n"
          ]
        },
        {
          "output_type": "stream",
          "name": "stderr",
          "text": [
            "Training:  20%|█▉        | 39006/200001 [27:53<1:48:59, 24.62iter/s, Iteration=39000, Train Loss=356.4963, LR=0.000091]"
          ]
        },
        {
          "output_type": "stream",
          "name": "stdout",
          "text": [
            "2025-04-27 20:05:32: Iteration: 39000, Train Loss: 356.4963\n"
          ]
        },
        {
          "output_type": "stream",
          "name": "stderr",
          "text": [
            "Training:  20%|██        | 40002/200001 [28:36<2:15:14, 19.72iter/s, Iteration=4e+4, Train Loss=320.4252, LR=0.000091]"
          ]
        },
        {
          "output_type": "stream",
          "name": "stdout",
          "text": [
            "2025-04-27 20:06:14: Iteration: 40000, Train Loss: 320.4252\n",
            "2025-04-27 20:06:14: Iteration: 40000, Test Loss: 320.4252\n",
            "True Polygon:  Polygon(n=4, vertices=[(7.57, 6.55), (2.18, 3.99), (2.42, 3.46), (7.57, 3.46)], lengths=[5.967051198037436, 0.5818075283115544, 5.15, 3.09], angles=[64.59445021452588, 91.04309677016198, 114.36245301531216, 90.0])\n",
            "Predicted Polygon Vertices:  Polygon(n=4, vertices=[(7.57, 6.55), (2.18, 3.99), (2.42, 3.46), (7.57, 3.46)], lengths=[5.967051198037436, 0.5818075283115544, 5.15, 3.09], angles=[21.372451782226562, 19.941650390625, 29.012144088745117, 24.183330535888672])\n"
          ]
        },
        {
          "output_type": "stream",
          "name": "stderr",
          "text": [
            "Training:  21%|██        | 41004/200001 [29:18<1:56:46, 22.69iter/s, Iteration=41000, Train Loss=312.3242, LR=0.000090]"
          ]
        },
        {
          "output_type": "stream",
          "name": "stdout",
          "text": [
            "2025-04-27 20:06:57: Iteration: 41000, Train Loss: 312.3242\n"
          ]
        },
        {
          "output_type": "stream",
          "name": "stderr",
          "text": [
            "Training:  21%|██        | 42003/200001 [30:01<1:48:01, 24.38iter/s, Iteration=42000, Train Loss=323.4667, LR=0.000090]"
          ]
        },
        {
          "output_type": "stream",
          "name": "stdout",
          "text": [
            "2025-04-27 20:07:40: Iteration: 42000, Train Loss: 323.4667\n"
          ]
        },
        {
          "output_type": "stream",
          "name": "stderr",
          "text": [
            "Training:  22%|██▏       | 43006/200001 [30:45<1:45:25, 24.82iter/s, Iteration=43000, Train Loss=344.3461, LR=0.000089]"
          ]
        },
        {
          "output_type": "stream",
          "name": "stdout",
          "text": [
            "2025-04-27 20:08:23: Iteration: 43000, Train Loss: 344.3461\n"
          ]
        },
        {
          "output_type": "stream",
          "name": "stderr",
          "text": [
            "Training:  22%|██▏       | 44005/200001 [31:28<1:56:21, 22.35iter/s, Iteration=44000, Train Loss=282.6464, LR=0.000089]"
          ]
        },
        {
          "output_type": "stream",
          "name": "stdout",
          "text": [
            "2025-04-27 20:09:06: Iteration: 44000, Train Loss: 282.6464\n"
          ]
        },
        {
          "output_type": "stream",
          "name": "stderr",
          "text": [
            "Training:  23%|██▎       | 45004/200001 [32:11<1:44:55, 24.62iter/s, Iteration=45000, Train Loss=275.2363, LR=0.000088]"
          ]
        },
        {
          "output_type": "stream",
          "name": "stdout",
          "text": [
            "2025-04-27 20:09:49: Iteration: 45000, Train Loss: 275.2363\n"
          ]
        },
        {
          "output_type": "stream",
          "name": "stderr",
          "text": [
            "Training:  23%|██▎       | 46003/200001 [32:54<1:49:10, 23.51iter/s, Iteration=46000, Train Loss=255.7429, LR=0.000088]"
          ]
        },
        {
          "output_type": "stream",
          "name": "stdout",
          "text": [
            "2025-04-27 20:10:33: Iteration: 46000, Train Loss: 255.7429\n"
          ]
        },
        {
          "output_type": "stream",
          "name": "stderr",
          "text": [
            "Training:  24%|██▎       | 47004/200001 [33:37<1:51:16, 22.92iter/s, Iteration=47000, Train Loss=233.0375, LR=0.000087]"
          ]
        },
        {
          "output_type": "stream",
          "name": "stdout",
          "text": [
            "2025-04-27 20:11:16: Iteration: 47000, Train Loss: 233.0375\n"
          ]
        },
        {
          "output_type": "stream",
          "name": "stderr",
          "text": [
            "Training:  24%|██▍       | 48004/200001 [34:20<1:54:26, 22.14iter/s, Iteration=48000, Train Loss=188.8748, LR=0.000087]"
          ]
        },
        {
          "output_type": "stream",
          "name": "stdout",
          "text": [
            "2025-04-27 20:11:59: Iteration: 48000, Train Loss: 188.8748\n"
          ]
        },
        {
          "output_type": "stream",
          "name": "stderr",
          "text": [
            "Training:  25%|██▍       | 49006/200001 [35:03<1:49:07, 23.06iter/s, Iteration=49000, Train Loss=239.0925, LR=0.000086]"
          ]
        },
        {
          "output_type": "stream",
          "name": "stdout",
          "text": [
            "2025-04-27 20:12:42: Iteration: 49000, Train Loss: 239.0925\n"
          ]
        },
        {
          "output_type": "stream",
          "name": "stderr",
          "text": [
            "Training:  25%|██▌       | 50002/200001 [35:46<1:56:35, 21.44iter/s, Iteration=5e+4, Train Loss=182.4103, LR=0.000086]"
          ]
        },
        {
          "output_type": "stream",
          "name": "stdout",
          "text": [
            "2025-04-27 20:13:25: Iteration: 50000, Train Loss: 182.4103\n",
            "2025-04-27 20:13:25: Iteration: 50000, Test Loss: 182.4103\n",
            "True Polygon:  Polygon(n=4, vertices=[(6.45, 7.63), (6.13, 7.78), (4.9, 8.0), (2.02, 5.37)], lengths=[0.35341194094144623, 1.249519907804593, 3.9001666631055656, 4.973178058344583], angles=[52.14360077235424, 165.0259582599682, 127.4570521897217, 15.373388777955926])\n",
            "Predicted Polygon Vertices:  Polygon(n=4, vertices=[(6.45, 7.63), (6.13, 7.78), (4.9, 8.0), (2.02, 5.37)], lengths=[0.35341194094144623, 1.249519907804593, 3.9001666631055656, 4.973178058344583], angles=[30.28935432434082, 42.857051849365234, 25.920289993286133, 61.46647644042969])\n"
          ]
        },
        {
          "output_type": "stream",
          "name": "stderr",
          "text": [
            "Training:  26%|██▌       | 51004/200001 [36:29<1:43:38, 23.96iter/s, Iteration=51000, Train Loss=168.5551, LR=0.000085]"
          ]
        },
        {
          "output_type": "stream",
          "name": "stdout",
          "text": [
            "2025-04-27 20:14:08: Iteration: 51000, Train Loss: 168.5551\n"
          ]
        },
        {
          "output_type": "stream",
          "name": "stderr",
          "text": [
            "Training:  26%|██▌       | 52004/200001 [37:12<1:49:43, 22.48iter/s, Iteration=52000, Train Loss=146.4885, LR=0.000084]"
          ]
        },
        {
          "output_type": "stream",
          "name": "stdout",
          "text": [
            "2025-04-27 20:14:51: Iteration: 52000, Train Loss: 146.4885\n"
          ]
        },
        {
          "output_type": "stream",
          "name": "stderr",
          "text": [
            "Training:  27%|██▋       | 53004/200001 [37:55<1:45:55, 23.13iter/s, Iteration=53000, Train Loss=145.1425, LR=0.000084]"
          ]
        },
        {
          "output_type": "stream",
          "name": "stdout",
          "text": [
            "2025-04-27 20:15:33: Iteration: 53000, Train Loss: 145.1425\n"
          ]
        },
        {
          "output_type": "stream",
          "name": "stderr",
          "text": [
            "Training:  27%|██▋       | 54003/200001 [38:37<1:49:46, 22.17iter/s, Iteration=54000, Train Loss=141.4460, LR=0.000083]"
          ]
        },
        {
          "output_type": "stream",
          "name": "stdout",
          "text": [
            "2025-04-27 20:16:16: Iteration: 54000, Train Loss: 141.4460\n"
          ]
        },
        {
          "output_type": "stream",
          "name": "stderr",
          "text": [
            "Training:  28%|██▊       | 55005/200001 [39:20<1:45:31, 22.90iter/s, Iteration=55000, Train Loss=118.6653, LR=0.000083]"
          ]
        },
        {
          "output_type": "stream",
          "name": "stdout",
          "text": [
            "2025-04-27 20:16:59: Iteration: 55000, Train Loss: 118.6653\n"
          ]
        },
        {
          "output_type": "stream",
          "name": "stderr",
          "text": [
            "Training:  28%|██▊       | 56005/200001 [40:03<1:38:52, 24.27iter/s, Iteration=56000, Train Loss=125.0617, LR=0.000082]"
          ]
        },
        {
          "output_type": "stream",
          "name": "stdout",
          "text": [
            "2025-04-27 20:17:42: Iteration: 56000, Train Loss: 125.0617\n"
          ]
        },
        {
          "output_type": "stream",
          "name": "stderr",
          "text": [
            "Training:  29%|██▊       | 57004/200001 [40:45<1:41:55, 23.38iter/s, Iteration=57000, Train Loss=122.5710, LR=0.000081]"
          ]
        },
        {
          "output_type": "stream",
          "name": "stdout",
          "text": [
            "2025-04-27 20:18:24: Iteration: 57000, Train Loss: 122.5710\n"
          ]
        },
        {
          "output_type": "stream",
          "name": "stderr",
          "text": [
            "Training:  29%|██▉       | 58005/200001 [41:29<1:44:33, 22.63iter/s, Iteration=58000, Train Loss=94.8338, LR=0.000081]"
          ]
        },
        {
          "output_type": "stream",
          "name": "stdout",
          "text": [
            "2025-04-27 20:19:07: Iteration: 58000, Train Loss: 94.8338\n"
          ]
        },
        {
          "output_type": "stream",
          "name": "stderr",
          "text": [
            "Training:  30%|██▉       | 59004/200001 [42:11<1:45:22, 22.30iter/s, Iteration=59000, Train Loss=93.4048, LR=0.000080]"
          ]
        },
        {
          "output_type": "stream",
          "name": "stdout",
          "text": [
            "2025-04-27 20:19:50: Iteration: 59000, Train Loss: 93.4048\n"
          ]
        },
        {
          "output_type": "stream",
          "name": "stderr",
          "text": [
            "Training:  30%|███       | 60003/200001 [42:54<1:43:51, 22.47iter/s, Iteration=6e+4, Train Loss=99.0322, LR=0.000080]"
          ]
        },
        {
          "output_type": "stream",
          "name": "stdout",
          "text": [
            "2025-04-27 20:20:33: Iteration: 60000, Train Loss: 99.0322\n",
            "2025-04-27 20:20:33: Iteration: 60000, Test Loss: 99.0322\n",
            "True Polygon:  Polygon(n=4, vertices=[(7.64, 6.43), (3.42, 7.55), (3.14, 7.35), (5.42, 2.03)], lengths=[4.366096654908134, 0.344093010681705, 5.78798756045657, 4.928326287899372], angles=[78.0907711961371, 129.5985305865799, 102.33908727832625, 49.97161093895677])\n",
            "Predicted Polygon Vertices:  Polygon(n=4, vertices=[(7.64, 6.43), (3.42, 7.55), (3.14, 7.35), (5.42, 2.03)], lengths=[4.366096654908134, 0.344093010681705, 5.78798756045657, 4.928326287899372], angles=[48.402706146240234, 70.99217224121094, 28.805543899536133, 74.64388275146484])\n"
          ]
        },
        {
          "output_type": "stream",
          "name": "stderr",
          "text": [
            "Training:  31%|███       | 61005/200001 [43:37<1:44:42, 22.12iter/s, Iteration=61000, Train Loss=97.8437, LR=0.000079]"
          ]
        },
        {
          "output_type": "stream",
          "name": "stdout",
          "text": [
            "2025-04-27 20:21:16: Iteration: 61000, Train Loss: 97.8437\n"
          ]
        },
        {
          "output_type": "stream",
          "name": "stderr",
          "text": [
            "Training:  31%|███       | 62004/200001 [44:20<1:37:56, 23.48iter/s, Iteration=62000, Train Loss=90.3282, LR=0.000078]"
          ]
        },
        {
          "output_type": "stream",
          "name": "stdout",
          "text": [
            "2025-04-27 20:21:59: Iteration: 62000, Train Loss: 90.3282\n"
          ]
        },
        {
          "output_type": "stream",
          "name": "stderr",
          "text": [
            "Training:  32%|███▏      | 63004/200001 [45:02<1:33:34, 24.40iter/s, Iteration=63000, Train Loss=84.7424, LR=0.000078]"
          ]
        },
        {
          "output_type": "stream",
          "name": "stdout",
          "text": [
            "2025-04-27 20:22:41: Iteration: 63000, Train Loss: 84.7424\n"
          ]
        },
        {
          "output_type": "stream",
          "name": "stderr",
          "text": [
            "Training:  32%|███▏      | 64006/200001 [45:46<1:33:30, 24.24iter/s, Iteration=64000, Train Loss=104.4630, LR=0.000077]"
          ]
        },
        {
          "output_type": "stream",
          "name": "stdout",
          "text": [
            "2025-04-27 20:23:24: Iteration: 64000, Train Loss: 104.4630\n"
          ]
        },
        {
          "output_type": "stream",
          "name": "stderr",
          "text": [
            "Training:  33%|███▎      | 65005/200001 [46:28<1:35:10, 23.64iter/s, Iteration=65000, Train Loss=83.5670, LR=0.000076]"
          ]
        },
        {
          "output_type": "stream",
          "name": "stdout",
          "text": [
            "2025-04-27 20:24:07: Iteration: 65000, Train Loss: 83.5670\n"
          ]
        },
        {
          "output_type": "stream",
          "name": "stderr",
          "text": [
            "Training:  33%|███▎      | 66004/200001 [47:12<1:35:55, 23.28iter/s, Iteration=66000, Train Loss=71.4035, LR=0.000076]"
          ]
        },
        {
          "output_type": "stream",
          "name": "stdout",
          "text": [
            "2025-04-27 20:24:50: Iteration: 66000, Train Loss: 71.4035\n"
          ]
        },
        {
          "output_type": "stream",
          "name": "stderr",
          "text": [
            "Training:  34%|███▎      | 67003/200001 [47:54<1:35:47, 23.14iter/s, Iteration=67000, Train Loss=81.4068, LR=0.000075]"
          ]
        },
        {
          "output_type": "stream",
          "name": "stdout",
          "text": [
            "2025-04-27 20:25:33: Iteration: 67000, Train Loss: 81.4068\n"
          ]
        },
        {
          "output_type": "stream",
          "name": "stderr",
          "text": [
            "Training:  34%|███▍      | 68005/200001 [48:38<1:28:20, 24.90iter/s, Iteration=68000, Train Loss=76.5986, LR=0.000074]"
          ]
        },
        {
          "output_type": "stream",
          "name": "stdout",
          "text": [
            "2025-04-27 20:26:16: Iteration: 68000, Train Loss: 76.5986\n"
          ]
        },
        {
          "output_type": "stream",
          "name": "stderr",
          "text": [
            "Training:  35%|███▍      | 69004/200001 [49:20<1:31:05, 23.97iter/s, Iteration=69000, Train Loss=80.0840, LR=0.000074]"
          ]
        },
        {
          "output_type": "stream",
          "name": "stdout",
          "text": [
            "2025-04-27 20:26:59: Iteration: 69000, Train Loss: 80.0840\n"
          ]
        },
        {
          "output_type": "stream",
          "name": "stderr",
          "text": [
            "Training:  35%|███▌      | 70003/200001 [50:04<1:44:29, 20.74iter/s, Iteration=7e+4, Train Loss=65.1116, LR=0.000073]"
          ]
        },
        {
          "output_type": "stream",
          "name": "stdout",
          "text": [
            "2025-04-27 20:27:42: Iteration: 70000, Train Loss: 65.1116\n",
            "2025-04-27 20:27:42: Iteration: 70000, Test Loss: 65.1116\n",
            "True Polygon:  Polygon(n=4, vertices=[(2.2, 6.07), (2.0, 4.96), (2.0, 4.94), (3.28, 2.54)], lengths=[1.1278741064498292, 0.019999999999999574, 2.72, 3.691517303223703], angles=[27.225412201437948, 169.78602701492954, 151.92751306414704, 11.061047719485561])\n",
            "Predicted Polygon Vertices:  Polygon(n=4, vertices=[(2.2, 6.07), (2.0, 4.96), (2.0, 4.94), (3.28, 2.54)], lengths=[1.1278741064498292, 0.019999999999999574, 2.72, 3.691517303223703], angles=[50.182125091552734, 71.62618255615234, 27.574743270874023, 72.51585388183594])\n"
          ]
        },
        {
          "output_type": "stream",
          "name": "stderr",
          "text": [
            "Training:  36%|███▌      | 71005/200001 [50:46<1:36:29, 22.28iter/s, Iteration=71000, Train Loss=82.6536, LR=0.000072]"
          ]
        },
        {
          "output_type": "stream",
          "name": "stdout",
          "text": [
            "2025-04-27 20:28:25: Iteration: 71000, Train Loss: 82.6536\n"
          ]
        },
        {
          "output_type": "stream",
          "name": "stderr",
          "text": [
            "Training:  36%|███▌      | 72004/200001 [51:29<1:29:39, 23.79iter/s, Iteration=72000, Train Loss=57.3333, LR=0.000072]"
          ]
        },
        {
          "output_type": "stream",
          "name": "stdout",
          "text": [
            "2025-04-27 20:29:08: Iteration: 72000, Train Loss: 57.3333\n"
          ]
        },
        {
          "output_type": "stream",
          "name": "stderr",
          "text": [
            "Training:  37%|███▋      | 73004/200001 [52:12<1:25:46, 24.68iter/s, Iteration=73000, Train Loss=84.4386, LR=0.000071]"
          ]
        },
        {
          "output_type": "stream",
          "name": "stdout",
          "text": [
            "2025-04-27 20:29:51: Iteration: 73000, Train Loss: 84.4386\n"
          ]
        },
        {
          "output_type": "stream",
          "name": "stderr",
          "text": [
            "Training:  37%|███▋      | 74004/200001 [52:55<1:32:41, 22.66iter/s, Iteration=74000, Train Loss=58.8351, LR=0.000070]"
          ]
        },
        {
          "output_type": "stream",
          "name": "stdout",
          "text": [
            "2025-04-27 20:30:33: Iteration: 74000, Train Loss: 58.8351\n"
          ]
        },
        {
          "output_type": "stream",
          "name": "stderr",
          "text": [
            "Training:  38%|███▊      | 75003/200001 [53:37<1:27:44, 23.74iter/s, Iteration=75000, Train Loss=63.5752, LR=0.000069]"
          ]
        },
        {
          "output_type": "stream",
          "name": "stdout",
          "text": [
            "2025-04-27 20:31:16: Iteration: 75000, Train Loss: 63.5752\n"
          ]
        },
        {
          "output_type": "stream",
          "name": "stderr",
          "text": [
            "Training:  38%|███▊      | 76005/200001 [54:21<1:31:35, 22.57iter/s, Iteration=76000, Train Loss=67.4230, LR=0.000069]"
          ]
        },
        {
          "output_type": "stream",
          "name": "stdout",
          "text": [
            "2025-04-27 20:32:00: Iteration: 76000, Train Loss: 67.4230\n"
          ]
        },
        {
          "output_type": "stream",
          "name": "stderr",
          "text": [
            "Training:  39%|███▊      | 77004/200001 [55:04<1:30:12, 22.72iter/s, Iteration=77000, Train Loss=59.3804, LR=0.000068]"
          ]
        },
        {
          "output_type": "stream",
          "name": "stdout",
          "text": [
            "2025-04-27 20:32:43: Iteration: 77000, Train Loss: 59.3804\n"
          ]
        },
        {
          "output_type": "stream",
          "name": "stderr",
          "text": [
            "Training:  39%|███▉      | 78003/200001 [55:46<1:28:32, 22.97iter/s, Iteration=78000, Train Loss=91.5586, LR=0.000067]"
          ]
        },
        {
          "output_type": "stream",
          "name": "stdout",
          "text": [
            "2025-04-27 20:33:25: Iteration: 78000, Train Loss: 91.5586\n"
          ]
        },
        {
          "output_type": "stream",
          "name": "stderr",
          "text": [
            "Training:  40%|███▉      | 79004/200001 [56:29<1:25:49, 23.50iter/s, Iteration=79000, Train Loss=78.3431, LR=0.000067]"
          ]
        },
        {
          "output_type": "stream",
          "name": "stdout",
          "text": [
            "2025-04-27 20:34:07: Iteration: 79000, Train Loss: 78.3431\n"
          ]
        },
        {
          "output_type": "stream",
          "name": "stderr",
          "text": [
            "Training:  40%|████      | 80004/200001 [57:12<1:27:37, 22.82iter/s, Iteration=8e+4, Train Loss=79.5990, LR=0.000066]"
          ]
        },
        {
          "output_type": "stream",
          "name": "stdout",
          "text": [
            "2025-04-27 20:34:51: Iteration: 80000, Train Loss: 79.5990\n",
            "2025-04-27 20:34:51: Iteration: 80000, Test Loss: 79.5990\n",
            "True Polygon:  Polygon(n=4, vertices=[(5.76, 7.9), (5.57, 7.95), (4.04, 7.84), (2.11, 4.2)], lengths=[0.1964688270438845, 1.5339491516996255, 4.120012135904456, 5.197355096585185], angles=[60.133324031788796, 161.1442083188108, 122.04564862766031, 16.676819021740076])\n",
            "Predicted Polygon Vertices:  Polygon(n=4, vertices=[(5.76, 7.9), (5.57, 7.95), (4.04, 7.84), (2.11, 4.2)], lengths=[0.1964688270438845, 1.5339491516996255, 4.120012135904456, 5.197355096585185], angles=[48.54505157470703, 69.92239379882812, 25.384531021118164, 72.40931701660156])\n"
          ]
        },
        {
          "output_type": "stream",
          "name": "stderr",
          "text": [
            "Training:  41%|████      | 81003/200001 [57:55<1:26:17, 22.98iter/s, Iteration=81000, Train Loss=51.6774, LR=0.000065]"
          ]
        },
        {
          "output_type": "stream",
          "name": "stdout",
          "text": [
            "2025-04-27 20:35:33: Iteration: 81000, Train Loss: 51.6774\n"
          ]
        },
        {
          "output_type": "stream",
          "name": "stderr",
          "text": [
            "Training:  41%|████      | 82005/200001 [58:38<1:24:16, 23.33iter/s, Iteration=82000, Train Loss=49.0840, LR=0.000064]"
          ]
        },
        {
          "output_type": "stream",
          "name": "stdout",
          "text": [
            "2025-04-27 20:36:16: Iteration: 82000, Train Loss: 49.0840\n"
          ]
        },
        {
          "output_type": "stream",
          "name": "stderr",
          "text": [
            "Training:  42%|████▏     | 83006/200001 [59:20<1:21:35, 23.90iter/s, Iteration=83000, Train Loss=53.2578, LR=0.000064]"
          ]
        },
        {
          "output_type": "stream",
          "name": "stdout",
          "text": [
            "2025-04-27 20:36:59: Iteration: 83000, Train Loss: 53.2578\n"
          ]
        },
        {
          "output_type": "stream",
          "name": "stderr",
          "text": [
            "Training:  42%|████▏     | 84005/200001 [1:00:03<1:23:57, 23.03iter/s, Iteration=84000, Train Loss=63.2793, LR=0.000063]"
          ]
        },
        {
          "output_type": "stream",
          "name": "stdout",
          "text": [
            "2025-04-27 20:37:42: Iteration: 84000, Train Loss: 63.2793\n"
          ]
        },
        {
          "output_type": "stream",
          "name": "stderr",
          "text": [
            "Training:  43%|████▎     | 85004/200001 [1:00:46<1:25:06, 22.52iter/s, Iteration=85000, Train Loss=59.3653, LR=0.000062]"
          ]
        },
        {
          "output_type": "stream",
          "name": "stdout",
          "text": [
            "2025-04-27 20:38:25: Iteration: 85000, Train Loss: 59.3653\n"
          ]
        },
        {
          "output_type": "stream",
          "name": "stderr",
          "text": [
            "Training:  43%|████▎     | 86003/200001 [1:01:30<1:17:01, 24.67iter/s, Iteration=86000, Train Loss=65.1349, LR=0.000061]"
          ]
        },
        {
          "output_type": "stream",
          "name": "stdout",
          "text": [
            "2025-04-27 20:39:08: Iteration: 86000, Train Loss: 65.1349\n"
          ]
        },
        {
          "output_type": "stream",
          "name": "stderr",
          "text": [
            "Training:  44%|████▎     | 87005/200001 [1:02:12<1:19:30, 23.69iter/s, Iteration=87000, Train Loss=57.8745, LR=0.000061]"
          ]
        },
        {
          "output_type": "stream",
          "name": "stdout",
          "text": [
            "2025-04-27 20:39:51: Iteration: 87000, Train Loss: 57.8745\n"
          ]
        },
        {
          "output_type": "stream",
          "name": "stderr",
          "text": [
            "Training:  44%|████▍     | 88004/200001 [1:02:55<1:16:41, 24.34iter/s, Iteration=88000, Train Loss=49.9656, LR=0.000060]"
          ]
        },
        {
          "output_type": "stream",
          "name": "stdout",
          "text": [
            "2025-04-27 20:40:34: Iteration: 88000, Train Loss: 49.9656\n"
          ]
        },
        {
          "output_type": "stream",
          "name": "stderr",
          "text": [
            "Training:  45%|████▍     | 89004/200001 [1:03:39<1:16:37, 24.14iter/s, Iteration=89000, Train Loss=54.4930, LR=0.000059]"
          ]
        },
        {
          "output_type": "stream",
          "name": "stdout",
          "text": [
            "2025-04-27 20:41:17: Iteration: 89000, Train Loss: 54.4930\n"
          ]
        },
        {
          "output_type": "stream",
          "name": "stderr",
          "text": [
            "Training:  45%|████▌     | 90003/200001 [1:04:21<1:22:59, 22.09iter/s, Iteration=9e+4, Train Loss=54.0167, LR=0.000058]"
          ]
        },
        {
          "output_type": "stream",
          "name": "stdout",
          "text": [
            "2025-04-27 20:42:00: Iteration: 90000, Train Loss: 54.0167\n",
            "2025-04-27 20:42:00: Iteration: 90000, Test Loss: 54.0167\n",
            "True Polygon:  Polygon(n=4, vertices=[(5.19, 7.99), (2.24, 6.19), (2.3, 3.7), (6.84, 2.63)], lengths=[3.4557922391254947, 2.4907227866625385, 4.664386347634595, 5.6082171855234], angles=[75.71997211016935, 120.00991403074335, 104.64197481489832, 59.628139044188984])\n",
            "Predicted Polygon Vertices:  Polygon(n=4, vertices=[(5.19, 7.99), (2.24, 6.19), (2.3, 3.7), (6.84, 2.63)], lengths=[3.4557922391254947, 2.4907227866625385, 4.664386347634595, 5.6082171855234], angles=[50.056785583496094, 70.64450073242188, 24.2878475189209, 73.87434387207031])\n"
          ]
        },
        {
          "output_type": "stream",
          "name": "stderr",
          "text": [
            "Training:  46%|████▌     | 91005/200001 [1:05:04<1:16:45, 23.66iter/s, Iteration=91000, Train Loss=59.8064, LR=0.000057]"
          ]
        },
        {
          "output_type": "stream",
          "name": "stdout",
          "text": [
            "2025-04-27 20:42:43: Iteration: 91000, Train Loss: 59.8064\n"
          ]
        },
        {
          "output_type": "stream",
          "name": "stderr",
          "text": [
            "Training:  46%|████▌     | 92005/200001 [1:05:47<1:21:23, 22.11iter/s, Iteration=92000, Train Loss=58.7163, LR=0.000057]"
          ]
        },
        {
          "output_type": "stream",
          "name": "stdout",
          "text": [
            "2025-04-27 20:43:26: Iteration: 92000, Train Loss: 58.7163\n"
          ]
        },
        {
          "output_type": "stream",
          "name": "stderr",
          "text": [
            "Training:  47%|████▋     | 93004/200001 [1:06:30<1:16:54, 23.18iter/s, Iteration=93000, Train Loss=58.4451, LR=0.000056]"
          ]
        },
        {
          "output_type": "stream",
          "name": "stdout",
          "text": [
            "2025-04-27 20:44:09: Iteration: 93000, Train Loss: 58.4451\n"
          ]
        },
        {
          "output_type": "stream",
          "name": "stderr",
          "text": [
            "Training:  47%|████▋     | 94003/200001 [1:07:13<1:22:02, 21.53iter/s, Iteration=94000, Train Loss=55.7699, LR=0.000055]"
          ]
        },
        {
          "output_type": "stream",
          "name": "stdout",
          "text": [
            "2025-04-27 20:44:52: Iteration: 94000, Train Loss: 55.7699\n"
          ]
        },
        {
          "output_type": "stream",
          "name": "stderr",
          "text": [
            "Training:  48%|████▊     | 95005/200001 [1:07:56<1:17:13, 22.66iter/s, Iteration=95000, Train Loss=56.3908, LR=0.000054]"
          ]
        },
        {
          "output_type": "stream",
          "name": "stdout",
          "text": [
            "2025-04-27 20:45:35: Iteration: 95000, Train Loss: 56.3908\n"
          ]
        },
        {
          "output_type": "stream",
          "name": "stderr",
          "text": [
            "Training:  48%|████▊     | 96004/200001 [1:08:39<1:12:11, 24.01iter/s, Iteration=96000, Train Loss=56.7501, LR=0.000054]"
          ]
        },
        {
          "output_type": "stream",
          "name": "stdout",
          "text": [
            "2025-04-27 20:46:18: Iteration: 96000, Train Loss: 56.7501\n"
          ]
        },
        {
          "output_type": "stream",
          "name": "stderr",
          "text": [
            "Training:  49%|████▊     | 97003/200001 [1:09:21<1:15:53, 22.62iter/s, Iteration=97000, Train Loss=55.8186, LR=0.000053]"
          ]
        },
        {
          "output_type": "stream",
          "name": "stdout",
          "text": [
            "2025-04-27 20:47:00: Iteration: 97000, Train Loss: 55.8186\n"
          ]
        },
        {
          "output_type": "stream",
          "name": "stderr",
          "text": [
            "Training:  49%|████▉     | 98005/200001 [1:10:05<1:12:21, 23.49iter/s, Iteration=98000, Train Loss=43.6898, LR=0.000052]"
          ]
        },
        {
          "output_type": "stream",
          "name": "stdout",
          "text": [
            "2025-04-27 20:47:43: Iteration: 98000, Train Loss: 43.6898\n"
          ]
        },
        {
          "output_type": "stream",
          "name": "stderr",
          "text": [
            "Training:  50%|████▉     | 99004/200001 [1:10:48<1:14:08, 22.70iter/s, Iteration=99000, Train Loss=47.2546, LR=0.000051]"
          ]
        },
        {
          "output_type": "stream",
          "name": "stdout",
          "text": [
            "2025-04-27 20:48:26: Iteration: 99000, Train Loss: 47.2546\n"
          ]
        },
        {
          "output_type": "stream",
          "name": "stderr",
          "text": [
            "Training:  50%|█████     | 100004/200001 [1:11:30<1:17:34, 21.48iter/s, Iteration=1e+5, Train Loss=54.3655, LR=0.000050]"
          ]
        },
        {
          "output_type": "stream",
          "name": "stdout",
          "text": [
            "2025-04-27 20:49:09: Iteration: 100000, Train Loss: 54.3655\n",
            "2025-04-27 20:49:09: Iteration: 100000, Test Loss: 54.3655\n",
            "True Polygon:  Polygon(n=4, vertices=[(7.64, 6.42), (2.93, 7.17), (2.03, 4.6), (5.21, 2.01)], lengths=[4.769339576922573, 2.7230313990110364, 4.101280287910106, 5.035176263051771], angles=[70.1919107801842, 100.25240416364495, 109.86164824935084, 79.69403680682004])\n",
            "Predicted Polygon Vertices:  Polygon(n=4, vertices=[(7.64, 6.42), (2.93, 7.17), (2.03, 4.6), (5.21, 2.01)], lengths=[4.769339576922573, 2.7230313990110364, 4.101280287910106, 5.035176263051771], angles=[48.41753387451172, 68.44532012939453, 22.500959396362305, 73.13019561767578])\n"
          ]
        },
        {
          "output_type": "stream",
          "name": "stderr",
          "text": [
            "Training:  51%|█████     | 101003/200001 [1:12:13<1:12:04, 22.89iter/s, Iteration=101000, Train Loss=72.4387, LR=0.000050]"
          ]
        },
        {
          "output_type": "stream",
          "name": "stdout",
          "text": [
            "2025-04-27 20:49:52: Iteration: 101000, Train Loss: 72.4387\n"
          ]
        },
        {
          "output_type": "stream",
          "name": "stderr",
          "text": [
            "Training:  51%|█████     | 102005/200001 [1:12:56<1:09:52, 23.37iter/s, Iteration=102000, Train Loss=33.1121, LR=0.000049]"
          ]
        },
        {
          "output_type": "stream",
          "name": "stdout",
          "text": [
            "2025-04-27 20:50:35: Iteration: 102000, Train Loss: 33.1121\n"
          ]
        },
        {
          "output_type": "stream",
          "name": "stderr",
          "text": [
            "Training:  52%|█████▏    | 103005/200001 [1:13:39<1:06:15, 24.40iter/s, Iteration=103000, Train Loss=41.9434, LR=0.000048]"
          ]
        },
        {
          "output_type": "stream",
          "name": "stdout",
          "text": [
            "2025-04-27 20:51:18: Iteration: 103000, Train Loss: 41.9434\n"
          ]
        },
        {
          "output_type": "stream",
          "name": "stderr",
          "text": [
            "Training:  52%|█████▏    | 104004/200001 [1:14:22<1:10:24, 22.73iter/s, Iteration=104000, Train Loss=60.7623, LR=0.000047]"
          ]
        },
        {
          "output_type": "stream",
          "name": "stdout",
          "text": [
            "2025-04-27 20:52:00: Iteration: 104000, Train Loss: 60.7623\n"
          ]
        },
        {
          "output_type": "stream",
          "name": "stderr",
          "text": [
            "Training:  53%|█████▎    | 105006/200001 [1:15:04<1:07:32, 23.44iter/s, Iteration=105000, Train Loss=62.5869, LR=0.000047]"
          ]
        },
        {
          "output_type": "stream",
          "name": "stdout",
          "text": [
            "2025-04-27 20:52:43: Iteration: 105000, Train Loss: 62.5869\n"
          ]
        },
        {
          "output_type": "stream",
          "name": "stderr",
          "text": [
            "Training:  53%|█████▎    | 106005/200001 [1:15:47<1:07:58, 23.05iter/s, Iteration=106000, Train Loss=47.1813, LR=0.000046]"
          ]
        },
        {
          "output_type": "stream",
          "name": "stdout",
          "text": [
            "2025-04-27 20:53:26: Iteration: 106000, Train Loss: 47.1813\n"
          ]
        },
        {
          "output_type": "stream",
          "name": "stderr",
          "text": [
            "Training:  54%|█████▎    | 107004/200001 [1:16:30<1:06:29, 23.31iter/s, Iteration=107000, Train Loss=35.2346, LR=0.000045]"
          ]
        },
        {
          "output_type": "stream",
          "name": "stdout",
          "text": [
            "2025-04-27 20:54:09: Iteration: 107000, Train Loss: 35.2346\n"
          ]
        },
        {
          "output_type": "stream",
          "name": "stderr",
          "text": [
            "Training:  54%|█████▍    | 108003/200001 [1:17:14<1:05:28, 23.42iter/s, Iteration=108000, Train Loss=38.4661, LR=0.000044]"
          ]
        },
        {
          "output_type": "stream",
          "name": "stdout",
          "text": [
            "2025-04-27 20:54:53: Iteration: 108000, Train Loss: 38.4661\n"
          ]
        },
        {
          "output_type": "stream",
          "name": "stderr",
          "text": [
            "Training:  55%|█████▍    | 109003/200001 [1:17:57<1:03:08, 24.02iter/s, Iteration=109000, Train Loss=46.7125, LR=0.000044]"
          ]
        },
        {
          "output_type": "stream",
          "name": "stdout",
          "text": [
            "2025-04-27 20:55:36: Iteration: 109000, Train Loss: 46.7125\n"
          ]
        },
        {
          "output_type": "stream",
          "name": "stderr",
          "text": [
            "Training:  55%|█████▌    | 110002/200001 [1:18:40<1:14:50, 20.04iter/s, Iteration=110000, Train Loss=33.9044, LR=0.000043]"
          ]
        },
        {
          "output_type": "stream",
          "name": "stdout",
          "text": [
            "2025-04-27 20:56:19: Iteration: 110000, Train Loss: 33.9044\n",
            "2025-04-27 20:56:19: Iteration: 110000, Test Loss: 33.9044\n",
            "True Polygon:  Polygon(n=4, vertices=[(3.31, 7.48), (2.47, 6.62), (2.01, 5.26), (7.16, 2.92)], lengths=[1.2021647141718976, 1.4356879883874494, 5.656686309138947, 5.967922586629287], angles=[84.50030691473016, 154.3613884031957, 95.74822057160561, 25.390084110468518])\n",
            "Predicted Polygon Vertices:  Polygon(n=4, vertices=[(3.31, 7.48), (2.47, 6.62), (2.01, 5.26), (7.16, 2.92)], lengths=[1.2021647141718976, 1.4356879883874494, 5.656686309138947, 5.967922586629287], angles=[47.61259841918945, 66.86846923828125, 21.036277770996094, 72.93902587890625])\n"
          ]
        },
        {
          "output_type": "stream",
          "name": "stderr",
          "text": [
            "Training:  56%|█████▌    | 111004/200001 [1:19:23<1:07:17, 22.04iter/s, Iteration=111000, Train Loss=45.2309, LR=0.000042]"
          ]
        },
        {
          "output_type": "stream",
          "name": "stdout",
          "text": [
            "2025-04-27 20:57:02: Iteration: 111000, Train Loss: 45.2309\n"
          ]
        },
        {
          "output_type": "stream",
          "name": "stderr",
          "text": [
            "Training:  56%|█████▌    | 112003/200001 [1:20:06<1:01:38, 23.80iter/s, Iteration=112000, Train Loss=55.0508, LR=0.000041]"
          ]
        },
        {
          "output_type": "stream",
          "name": "stdout",
          "text": [
            "2025-04-27 20:57:45: Iteration: 112000, Train Loss: 55.0508\n"
          ]
        },
        {
          "output_type": "stream",
          "name": "stderr",
          "text": [
            "Training:  57%|█████▋    | 113005/200001 [1:20:49<1:03:50, 22.71iter/s, Iteration=113000, Train Loss=48.0980, LR=0.000040]"
          ]
        },
        {
          "output_type": "stream",
          "name": "stdout",
          "text": [
            "2025-04-27 20:58:28: Iteration: 113000, Train Loss: 48.0980\n"
          ]
        },
        {
          "output_type": "stream",
          "name": "stderr",
          "text": [
            "Training:  57%|█████▋    | 114005/200001 [1:21:32<1:02:53, 22.79iter/s, Iteration=114000, Train Loss=36.7240, LR=0.000040]"
          ]
        },
        {
          "output_type": "stream",
          "name": "stdout",
          "text": [
            "2025-04-27 20:59:11: Iteration: 114000, Train Loss: 36.7240\n"
          ]
        },
        {
          "output_type": "stream",
          "name": "stderr",
          "text": [
            "Training:  58%|█████▊    | 115004/200001 [1:22:15<57:42, 24.55iter/s, Iteration=115000, Train Loss=47.6916, LR=0.000039]  "
          ]
        },
        {
          "output_type": "stream",
          "name": "stdout",
          "text": [
            "2025-04-27 20:59:54: Iteration: 115000, Train Loss: 47.6916\n"
          ]
        },
        {
          "output_type": "stream",
          "name": "stderr",
          "text": [
            "Training:  58%|█████▊    | 116003/200001 [1:22:58<1:02:30, 22.40iter/s, Iteration=116000, Train Loss=44.4709, LR=0.000038]"
          ]
        },
        {
          "output_type": "stream",
          "name": "stdout",
          "text": [
            "2025-04-27 21:00:37: Iteration: 116000, Train Loss: 44.4709\n"
          ]
        },
        {
          "output_type": "stream",
          "name": "stderr",
          "text": [
            "Training:  59%|█████▊    | 117005/200001 [1:23:41<58:21, 23.70iter/s, Iteration=117000, Train Loss=47.8717, LR=0.000037]"
          ]
        },
        {
          "output_type": "stream",
          "name": "stdout",
          "text": [
            "2025-04-27 21:01:20: Iteration: 117000, Train Loss: 47.8717\n"
          ]
        },
        {
          "output_type": "stream",
          "name": "stderr",
          "text": [
            "Training:  59%|█████▉    | 118005/200001 [1:24:24<53:12, 25.68iter/s, Iteration=118000, Train Loss=44.7254, LR=0.000037]"
          ]
        },
        {
          "output_type": "stream",
          "name": "stdout",
          "text": [
            "2025-04-27 21:02:02: Iteration: 118000, Train Loss: 44.7254\n"
          ]
        },
        {
          "output_type": "stream",
          "name": "stderr",
          "text": [
            "Training:  60%|█████▉    | 119005/200001 [1:25:06<55:24, 24.36iter/s, Iteration=119000, Train Loss=35.0766, LR=0.000036]"
          ]
        },
        {
          "output_type": "stream",
          "name": "stdout",
          "text": [
            "2025-04-27 21:02:45: Iteration: 119000, Train Loss: 35.0766\n"
          ]
        },
        {
          "output_type": "stream",
          "name": "stderr",
          "text": [
            "Training:  60%|██████    | 120004/200001 [1:25:49<1:00:55, 21.89iter/s, Iteration=120000, Train Loss=31.8333, LR=0.000035]"
          ]
        },
        {
          "output_type": "stream",
          "name": "stdout",
          "text": [
            "2025-04-27 21:03:28: Iteration: 120000, Train Loss: 31.8333\n",
            "2025-04-27 21:03:28: Iteration: 120000, Test Loss: 31.8333\n",
            "True Polygon:  Polygon(n=4, vertices=[(2.61, 6.81), (2.24, 3.83), (3.03, 2.73), (5.84, 2.12)], lengths=[3.0028819490616008, 1.354289481610191, 2.8754477912144396, 5.694646608877498], angles=[41.63284371409993, 137.23709571970375, 137.93306259717082, 43.19699796902549])\n",
            "Predicted Polygon Vertices:  Polygon(n=4, vertices=[(2.61, 6.81), (2.24, 3.83), (3.03, 2.73), (5.84, 2.12)], lengths=[3.0028819490616008, 1.354289481610191, 2.8754477912144396, 5.694646608877498], angles=[47.660003662109375, 66.44447326660156, 20.41179847717285, 72.91768646240234])\n"
          ]
        },
        {
          "output_type": "stream",
          "name": "stderr",
          "text": [
            "Training:  61%|██████    | 121004/200001 [1:26:32<57:11, 23.02iter/s, Iteration=121000, Train Loss=28.0728, LR=0.000034]"
          ]
        },
        {
          "output_type": "stream",
          "name": "stdout",
          "text": [
            "2025-04-27 21:04:11: Iteration: 121000, Train Loss: 28.0728\n"
          ]
        },
        {
          "output_type": "stream",
          "name": "stderr",
          "text": [
            "Training:  61%|██████    | 122003/200001 [1:27:15<57:16, 22.70iter/s, Iteration=122000, Train Loss=43.7655, LR=0.000034]"
          ]
        },
        {
          "output_type": "stream",
          "name": "stdout",
          "text": [
            "2025-04-27 21:04:54: Iteration: 122000, Train Loss: 43.7655\n"
          ]
        },
        {
          "output_type": "stream",
          "name": "stderr",
          "text": [
            "Training:  62%|██████▏   | 123004/200001 [1:27:59<57:06, 22.47iter/s, Iteration=123000, Train Loss=48.4351, LR=0.000033]"
          ]
        },
        {
          "output_type": "stream",
          "name": "stdout",
          "text": [
            "2025-04-27 21:05:37: Iteration: 123000, Train Loss: 48.4351\n"
          ]
        },
        {
          "output_type": "stream",
          "name": "stderr",
          "text": [
            "Training:  62%|██████▏   | 124003/200001 [1:28:42<55:36, 22.78iter/s, Iteration=124000, Train Loss=58.6726, LR=0.000032]"
          ]
        },
        {
          "output_type": "stream",
          "name": "stdout",
          "text": [
            "2025-04-27 21:06:20: Iteration: 124000, Train Loss: 58.6726\n"
          ]
        },
        {
          "output_type": "stream",
          "name": "stderr",
          "text": [
            "Training:  63%|██████▎   | 125003/200001 [1:29:25<56:04, 22.29iter/s, Iteration=125000, Train Loss=37.0698, LR=0.000032]"
          ]
        },
        {
          "output_type": "stream",
          "name": "stdout",
          "text": [
            "2025-04-27 21:07:03: Iteration: 125000, Train Loss: 37.0698\n"
          ]
        },
        {
          "output_type": "stream",
          "name": "stderr",
          "text": [
            "Training:  63%|██████▎   | 126003/200001 [1:30:07<50:18, 24.52iter/s, Iteration=126000, Train Loss=23.2256, LR=0.000031]"
          ]
        },
        {
          "output_type": "stream",
          "name": "stdout",
          "text": [
            "2025-04-27 21:07:46: Iteration: 126000, Train Loss: 23.2256\n"
          ]
        },
        {
          "output_type": "stream",
          "name": "stderr",
          "text": [
            "Training:  64%|██████▎   | 127004/200001 [1:30:51<55:20, 21.99iter/s, Iteration=127000, Train Loss=51.5732, LR=0.000030]"
          ]
        },
        {
          "output_type": "stream",
          "name": "stdout",
          "text": [
            "2025-04-27 21:08:29: Iteration: 127000, Train Loss: 51.5732\n"
          ]
        },
        {
          "output_type": "stream",
          "name": "stderr",
          "text": [
            "Training:  64%|██████▍   | 128003/200001 [1:31:34<54:53, 21.86iter/s, Iteration=128000, Train Loss=39.9955, LR=0.000029]"
          ]
        },
        {
          "output_type": "stream",
          "name": "stdout",
          "text": [
            "2025-04-27 21:09:13: Iteration: 128000, Train Loss: 39.9955\n"
          ]
        },
        {
          "output_type": "stream",
          "name": "stderr",
          "text": [
            "Training:  65%|██████▍   | 129004/200001 [1:32:17<54:11, 21.84iter/s, Iteration=129000, Train Loss=41.9924, LR=0.000029]"
          ]
        },
        {
          "output_type": "stream",
          "name": "stdout",
          "text": [
            "2025-04-27 21:09:56: Iteration: 129000, Train Loss: 41.9924\n"
          ]
        },
        {
          "output_type": "stream",
          "name": "stderr",
          "text": [
            "Training:  65%|██████▌   | 130003/200001 [1:33:00<54:27, 21.42iter/s, Iteration=130000, Train Loss=55.8739, LR=0.000028]"
          ]
        },
        {
          "output_type": "stream",
          "name": "stdout",
          "text": [
            "2025-04-27 21:10:39: Iteration: 130000, Train Loss: 55.8739\n",
            "2025-04-27 21:10:39: Iteration: 130000, Test Loss: 55.8739\n",
            "True Polygon:  Polygon(n=4, vertices=[(2.96, 7.2), (2.1, 5.77), (2.27, 3.76), (7.94, 4.42)], lengths=[1.6686821147240722, 2.0171762441591463, 5.708283454769918, 5.703402493249096], angles=[91.85094880082322, 144.14295148916594, 88.1949357873696, 35.81116392264124])\n",
            "Predicted Polygon Vertices:  Polygon(n=4, vertices=[(2.96, 7.2), (2.1, 5.77), (2.27, 3.76), (7.94, 4.42)], lengths=[1.6686821147240722, 2.0171762441591463, 5.708283454769918, 5.703402493249096], angles=[48.07857131958008, 67.2621841430664, 19.941274642944336, 73.6300048828125])\n"
          ]
        },
        {
          "output_type": "stream",
          "name": "stderr",
          "text": [
            "Training:  66%|██████▌   | 131003/200001 [1:33:43<55:45, 20.63iter/s, Iteration=131000, Train Loss=33.8070, LR=0.000027]"
          ]
        },
        {
          "output_type": "stream",
          "name": "stdout",
          "text": [
            "2025-04-27 21:11:22: Iteration: 131000, Train Loss: 33.8070\n"
          ]
        },
        {
          "output_type": "stream",
          "name": "stderr",
          "text": [
            "Training:  66%|██████▌   | 132005/200001 [1:34:26<50:50, 22.29iter/s, Iteration=132000, Train Loss=36.4945, LR=0.000027]"
          ]
        },
        {
          "output_type": "stream",
          "name": "stdout",
          "text": [
            "2025-04-27 21:12:05: Iteration: 132000, Train Loss: 36.4945\n"
          ]
        },
        {
          "output_type": "stream",
          "name": "stderr",
          "text": [
            "Training:  67%|██████▋   | 133004/200001 [1:35:09<43:46, 25.51iter/s, Iteration=133000, Train Loss=17.8134, LR=0.000026]"
          ]
        },
        {
          "output_type": "stream",
          "name": "stdout",
          "text": [
            "2025-04-27 21:12:47: Iteration: 133000, Train Loss: 17.8134\n"
          ]
        },
        {
          "output_type": "stream",
          "name": "stderr",
          "text": [
            "Training:  67%|██████▋   | 134003/200001 [1:35:51<47:19, 23.25iter/s, Iteration=134000, Train Loss=39.8324, LR=0.000025]"
          ]
        },
        {
          "output_type": "stream",
          "name": "stdout",
          "text": [
            "2025-04-27 21:13:30: Iteration: 134000, Train Loss: 39.8324\n"
          ]
        },
        {
          "output_type": "stream",
          "name": "stderr",
          "text": [
            "Training:  68%|██████▊   | 135006/200001 [1:36:34<45:01, 24.06iter/s, Iteration=135000, Train Loss=42.2882, LR=0.000025]"
          ]
        },
        {
          "output_type": "stream",
          "name": "stdout",
          "text": [
            "2025-04-27 21:14:13: Iteration: 135000, Train Loss: 42.2882\n"
          ]
        },
        {
          "output_type": "stream",
          "name": "stderr",
          "text": [
            "Training:  68%|██████▊   | 136006/200001 [1:37:18<42:04, 25.35iter/s, Iteration=136000, Train Loss=56.5745, LR=0.000024]"
          ]
        },
        {
          "output_type": "stream",
          "name": "stdout",
          "text": [
            "2025-04-27 21:14:56: Iteration: 136000, Train Loss: 56.5745\n"
          ]
        },
        {
          "output_type": "stream",
          "name": "stderr",
          "text": [
            "Training:  69%|██████▊   | 137006/200001 [1:38:01<41:18, 25.42iter/s, Iteration=137000, Train Loss=34.4259, LR=0.000023]"
          ]
        },
        {
          "output_type": "stream",
          "name": "stdout",
          "text": [
            "2025-04-27 21:15:39: Iteration: 137000, Train Loss: 34.4259\n"
          ]
        },
        {
          "output_type": "stream",
          "name": "stderr",
          "text": [
            "Training:  69%|██████▉   | 138003/200001 [1:38:43<44:12, 23.37iter/s, Iteration=138000, Train Loss=29.0371, LR=0.000023]"
          ]
        },
        {
          "output_type": "stream",
          "name": "stdout",
          "text": [
            "2025-04-27 21:16:22: Iteration: 138000, Train Loss: 29.0371\n"
          ]
        },
        {
          "output_type": "stream",
          "name": "stderr",
          "text": [
            "Training:  70%|██████▉   | 139005/200001 [1:39:26<44:07, 23.04iter/s, Iteration=139000, Train Loss=61.8899, LR=0.000022]"
          ]
        },
        {
          "output_type": "stream",
          "name": "stdout",
          "text": [
            "2025-04-27 21:17:05: Iteration: 139000, Train Loss: 61.8899\n"
          ]
        },
        {
          "output_type": "stream",
          "name": "stderr",
          "text": [
            "Training:  70%|███████   | 140004/200001 [1:40:09<43:06, 23.19iter/s, Iteration=140000, Train Loss=16.2531, LR=0.000021]"
          ]
        },
        {
          "output_type": "stream",
          "name": "stdout",
          "text": [
            "2025-04-27 21:17:48: Iteration: 140000, Train Loss: 16.2531\n",
            "2025-04-27 21:17:48: Iteration: 140000, Test Loss: 16.2531\n",
            "True Polygon:  Polygon(n=4, vertices=[(6.42, 7.64), (3.83, 7.76), (2.16, 5.98), (2.1, 4.23)], lengths=[2.5927784324928345, 2.440758078958256, 1.7510282693320516, 5.503680586661984], angles=[40.93859630121458, 130.52106308676426, 138.78986082196062, 49.75047979006057])\n",
            "Predicted Polygon Vertices:  Polygon(n=4, vertices=[(6.42, 7.64), (3.83, 7.76), (2.16, 5.98), (2.1, 4.23)], lengths=[2.5927784324928345, 2.440758078958256, 1.7510282693320516, 5.503680586661984], angles=[48.531246185302734, 68.80081939697266, 20.007320404052734, 74.63224029541016])\n"
          ]
        },
        {
          "output_type": "stream",
          "name": "stderr",
          "text": [
            "Training:  71%|███████   | 141005/200001 [1:40:52<43:45, 22.47iter/s, Iteration=141000, Train Loss=38.0855, LR=0.000021]"
          ]
        },
        {
          "output_type": "stream",
          "name": "stdout",
          "text": [
            "2025-04-27 21:18:31: Iteration: 141000, Train Loss: 38.0855\n"
          ]
        },
        {
          "output_type": "stream",
          "name": "stderr",
          "text": [
            "Training:  71%|███████   | 142005/200001 [1:41:35<41:44, 23.16iter/s, Iteration=142000, Train Loss=27.0726, LR=0.000020]"
          ]
        },
        {
          "output_type": "stream",
          "name": "stdout",
          "text": [
            "2025-04-27 21:19:13: Iteration: 142000, Train Loss: 27.0726\n"
          ]
        },
        {
          "output_type": "stream",
          "name": "stderr",
          "text": [
            "Training:  72%|███████▏  | 143004/200001 [1:42:17<40:21, 23.54iter/s, Iteration=143000, Train Loss=12.6335, LR=0.000020]"
          ]
        },
        {
          "output_type": "stream",
          "name": "stdout",
          "text": [
            "2025-04-27 21:19:56: Iteration: 143000, Train Loss: 12.6335\n"
          ]
        },
        {
          "output_type": "stream",
          "name": "stderr",
          "text": [
            "Training:  72%|███████▏  | 144005/200001 [1:43:00<42:10, 22.13iter/s, Iteration=144000, Train Loss=23.6622, LR=0.000019]"
          ]
        },
        {
          "output_type": "stream",
          "name": "stdout",
          "text": [
            "2025-04-27 21:20:39: Iteration: 144000, Train Loss: 23.6622\n"
          ]
        },
        {
          "output_type": "stream",
          "name": "stderr",
          "text": [
            "Training:  73%|███████▎  | 145005/200001 [1:43:43<41:03, 22.32iter/s, Iteration=145000, Train Loss=58.6477, LR=0.000018]"
          ]
        },
        {
          "output_type": "stream",
          "name": "stdout",
          "text": [
            "2025-04-27 21:21:22: Iteration: 145000, Train Loss: 58.6477\n"
          ]
        },
        {
          "output_type": "stream",
          "name": "stderr",
          "text": [
            "Training:  73%|███████▎  | 146004/200001 [1:44:26<38:47, 23.20iter/s, Iteration=146000, Train Loss=28.4889, LR=0.000018]"
          ]
        },
        {
          "output_type": "stream",
          "name": "stdout",
          "text": [
            "2025-04-27 21:22:05: Iteration: 146000, Train Loss: 28.4889\n"
          ]
        },
        {
          "output_type": "stream",
          "name": "stderr",
          "text": [
            "Training:  74%|███████▎  | 147003/200001 [1:45:09<37:54, 23.30iter/s, Iteration=147000, Train Loss=33.2230, LR=0.000017]"
          ]
        },
        {
          "output_type": "stream",
          "name": "stdout",
          "text": [
            "2025-04-27 21:22:48: Iteration: 147000, Train Loss: 33.2230\n"
          ]
        },
        {
          "output_type": "stream",
          "name": "stderr",
          "text": [
            "Training:  74%|███████▍  | 148003/200001 [1:45:53<37:00, 23.42iter/s, Iteration=148000, Train Loss=46.9274, LR=0.000017]"
          ]
        },
        {
          "output_type": "stream",
          "name": "stdout",
          "text": [
            "2025-04-27 21:23:31: Iteration: 148000, Train Loss: 46.9274\n"
          ]
        },
        {
          "output_type": "stream",
          "name": "stderr",
          "text": [
            "Training:  75%|███████▍  | 149004/200001 [1:46:36<35:40, 23.83iter/s, Iteration=149000, Train Loss=23.7622, LR=0.000016]"
          ]
        },
        {
          "output_type": "stream",
          "name": "stdout",
          "text": [
            "2025-04-27 21:24:15: Iteration: 149000, Train Loss: 23.7622\n"
          ]
        },
        {
          "output_type": "stream",
          "name": "stderr",
          "text": [
            "Training:  75%|███████▌  | 150003/200001 [1:47:19<38:58, 21.38iter/s, Iteration=150000, Train Loss=1.2425, LR=0.000015]"
          ]
        },
        {
          "output_type": "stream",
          "name": "stdout",
          "text": [
            "2025-04-27 21:24:58: Iteration: 150000, Train Loss: 1.2425\n",
            "2025-04-27 21:24:58: Iteration: 150000, Test Loss: 1.2425\n",
            "True Polygon:  Polygon(n=4, vertices=[(4.6, 2.03), (4.87, 2.0), (6.69, 2.52), (8.0, 4.93)], lengths=[0.27166155414412296, 1.8928285712129351, 2.7430275244699964, 4.468780594300866], angles=[46.80241923800321, 157.71441235316726, 134.47250418618626, 21.010664222643268])\n",
            "Predicted Polygon Vertices:  Polygon(n=4, vertices=[(4.6, 2.03), (4.87, 2.0), (6.69, 2.52), (8.0, 4.93)], lengths=[0.27166155414412296, 1.8928285712129351, 2.7430275244699964, 4.468780594300866], angles=[49.68257141113281, 70.27128601074219, 20.60423469543457, 75.09959411621094])\n"
          ]
        },
        {
          "output_type": "stream",
          "name": "stderr",
          "text": [
            "Training:  76%|███████▌  | 151005/200001 [1:48:02<34:57, 23.35iter/s, Iteration=151000, Train Loss=11.6556, LR=0.000015]"
          ]
        },
        {
          "output_type": "stream",
          "name": "stdout",
          "text": [
            "2025-04-27 21:25:41: Iteration: 151000, Train Loss: 11.6556\n"
          ]
        },
        {
          "output_type": "stream",
          "name": "stderr",
          "text": [
            "Training:  76%|███████▌  | 152004/200001 [1:48:45<36:20, 22.01iter/s, Iteration=152000, Train Loss=73.7530, LR=0.000014]"
          ]
        },
        {
          "output_type": "stream",
          "name": "stdout",
          "text": [
            "2025-04-27 21:26:24: Iteration: 152000, Train Loss: 73.7530\n"
          ]
        },
        {
          "output_type": "stream",
          "name": "stderr",
          "text": [
            "Training:  77%|███████▋  | 153006/200001 [1:49:28<31:04, 25.21iter/s, Iteration=153000, Train Loss=14.3382, LR=0.000014]"
          ]
        },
        {
          "output_type": "stream",
          "name": "stdout",
          "text": [
            "2025-04-27 21:27:06: Iteration: 153000, Train Loss: 14.3382\n"
          ]
        },
        {
          "output_type": "stream",
          "name": "stderr",
          "text": [
            "Training:  77%|███████▋  | 154005/200001 [1:50:11<31:01, 24.71iter/s, Iteration=154000, Train Loss=29.2840, LR=0.000013]"
          ]
        },
        {
          "output_type": "stream",
          "name": "stdout",
          "text": [
            "2025-04-27 21:27:49: Iteration: 154000, Train Loss: 29.2840\n"
          ]
        },
        {
          "output_type": "stream",
          "name": "stderr",
          "text": [
            "Training:  78%|███████▊  | 155004/200001 [1:50:54<32:15, 23.25iter/s, Iteration=155000, Train Loss=5.8449, LR=0.000013]"
          ]
        },
        {
          "output_type": "stream",
          "name": "stdout",
          "text": [
            "2025-04-27 21:28:32: Iteration: 155000, Train Loss: 5.8449\n"
          ]
        },
        {
          "output_type": "stream",
          "name": "stderr",
          "text": [
            "Training:  78%|███████▊  | 156006/200001 [1:51:37<30:29, 24.05iter/s, Iteration=156000, Train Loss=27.5495, LR=0.000012]"
          ]
        },
        {
          "output_type": "stream",
          "name": "stdout",
          "text": [
            "2025-04-27 21:29:16: Iteration: 156000, Train Loss: 27.5495\n"
          ]
        },
        {
          "output_type": "stream",
          "name": "stderr",
          "text": [
            "Training:  79%|███████▊  | 157003/200001 [1:52:19<30:19, 23.63iter/s, Iteration=157000, Train Loss=26.4403, LR=0.000012]"
          ]
        },
        {
          "output_type": "stream",
          "name": "stdout",
          "text": [
            "2025-04-27 21:29:58: Iteration: 157000, Train Loss: 26.4403\n"
          ]
        },
        {
          "output_type": "stream",
          "name": "stderr",
          "text": [
            "Training:  79%|███████▉  | 158005/200001 [1:53:03<30:56, 22.62iter/s, Iteration=158000, Train Loss=24.1514, LR=0.000011]"
          ]
        },
        {
          "output_type": "stream",
          "name": "stdout",
          "text": [
            "2025-04-27 21:30:41: Iteration: 158000, Train Loss: 24.1514\n"
          ]
        },
        {
          "output_type": "stream",
          "name": "stderr",
          "text": [
            "Training:  80%|███████▉  | 159004/200001 [1:53:46<29:34, 23.11iter/s, Iteration=159000, Train Loss=28.4105, LR=0.000011]"
          ]
        },
        {
          "output_type": "stream",
          "name": "stdout",
          "text": [
            "2025-04-27 21:31:24: Iteration: 159000, Train Loss: 28.4105\n"
          ]
        },
        {
          "output_type": "stream",
          "name": "stderr",
          "text": [
            "Training:  80%|████████  | 160003/200001 [1:54:29<31:19, 21.28iter/s, Iteration=160000, Train Loss=26.5489, LR=0.000010]"
          ]
        },
        {
          "output_type": "stream",
          "name": "stdout",
          "text": [
            "2025-04-27 21:32:07: Iteration: 160000, Train Loss: 26.5489\n",
            "2025-04-27 21:32:08: Iteration: 160000, Test Loss: 26.5489\n",
            "True Polygon:  Polygon(n=4, vertices=[(3.71, 7.71), (2.54, 6.71), (2.44, 6.56), (6.72, 2.54)], lengths=[1.5391231269784753, 0.1802775637731998, 5.871865121066729, 5.982390826417144], angles=[79.68763984163431, 164.21060707362946, 99.51571164389763, 16.58604144083858])\n",
            "Predicted Polygon Vertices:  Polygon(n=4, vertices=[(3.71, 7.71), (2.54, 6.71), (2.44, 6.56), (6.72, 2.54)], lengths=[1.5391231269784753, 0.1802775637731998, 5.871865121066729, 5.982390826417144], angles=[51.94199752807617, 73.4117431640625, 20.737524032592773, 77.08641815185547])\n"
          ]
        },
        {
          "output_type": "stream",
          "name": "stderr",
          "text": [
            "Training:  81%|████████  | 161005/200001 [1:55:12<28:31, 22.78iter/s, Iteration=161000, Train Loss=36.2296, LR=0.000010]"
          ]
        },
        {
          "output_type": "stream",
          "name": "stdout",
          "text": [
            "2025-04-27 21:32:50: Iteration: 161000, Train Loss: 36.2296\n"
          ]
        },
        {
          "output_type": "stream",
          "name": "stderr",
          "text": [
            "Training:  81%|████████  | 162004/200001 [1:55:55<26:37, 23.78iter/s, Iteration=162000, Train Loss=35.2888, LR=0.000010]"
          ]
        },
        {
          "output_type": "stream",
          "name": "stdout",
          "text": [
            "2025-04-27 21:33:34: Iteration: 162000, Train Loss: 35.2888\n"
          ]
        },
        {
          "output_type": "stream",
          "name": "stderr",
          "text": [
            "Training:  82%|████████▏ | 163006/200001 [1:56:38<24:28, 25.20iter/s, Iteration=163000, Train Loss=28.1137, LR=0.000009]"
          ]
        },
        {
          "output_type": "stream",
          "name": "stdout",
          "text": [
            "2025-04-27 21:34:16: Iteration: 163000, Train Loss: 28.1137\n"
          ]
        },
        {
          "output_type": "stream",
          "name": "stderr",
          "text": [
            "Training:  82%|████████▏ | 164005/200001 [1:57:21<26:48, 22.38iter/s, Iteration=164000, Train Loss=41.1331, LR=0.000009]"
          ]
        },
        {
          "output_type": "stream",
          "name": "stdout",
          "text": [
            "2025-04-27 21:35:00: Iteration: 164000, Train Loss: 41.1331\n"
          ]
        },
        {
          "output_type": "stream",
          "name": "stderr",
          "text": [
            "Training:  83%|████████▎ | 165004/200001 [1:58:04<24:52, 23.45iter/s, Iteration=165000, Train Loss=20.8980, LR=0.000008]"
          ]
        },
        {
          "output_type": "stream",
          "name": "stdout",
          "text": [
            "2025-04-27 21:35:43: Iteration: 165000, Train Loss: 20.8980\n"
          ]
        },
        {
          "output_type": "stream",
          "name": "stderr",
          "text": [
            "Training:  83%|████████▎ | 166004/200001 [1:58:47<24:47, 22.86iter/s, Iteration=166000, Train Loss=44.7348, LR=0.000008]"
          ]
        },
        {
          "output_type": "stream",
          "name": "stdout",
          "text": [
            "2025-04-27 21:36:26: Iteration: 166000, Train Loss: 44.7348\n"
          ]
        },
        {
          "output_type": "stream",
          "name": "stderr",
          "text": [
            "Training:  84%|████████▎ | 167003/200001 [1:59:30<23:17, 23.61iter/s, Iteration=167000, Train Loss=25.4788, LR=0.000008]"
          ]
        },
        {
          "output_type": "stream",
          "name": "stdout",
          "text": [
            "2025-04-27 21:37:09: Iteration: 167000, Train Loss: 25.4788\n"
          ]
        },
        {
          "output_type": "stream",
          "name": "stderr",
          "text": [
            "Training:  84%|████████▍ | 168005/200001 [2:00:14<22:35, 23.61iter/s, Iteration=168000, Train Loss=-2.5148, LR=0.000007]"
          ]
        },
        {
          "output_type": "stream",
          "name": "stdout",
          "text": [
            "2025-04-27 21:37:53: Iteration: 168000, Train Loss: -2.5148\n"
          ]
        },
        {
          "output_type": "stream",
          "name": "stderr",
          "text": [
            "Training:  85%|████████▍ | 169004/200001 [2:00:57<22:15, 23.22iter/s, Iteration=169000, Train Loss=24.7765, LR=0.000007]"
          ]
        },
        {
          "output_type": "stream",
          "name": "stdout",
          "text": [
            "2025-04-27 21:38:36: Iteration: 169000, Train Loss: 24.7765\n"
          ]
        },
        {
          "output_type": "stream",
          "name": "stderr",
          "text": [
            "Training:  85%|████████▌ | 170003/200001 [2:01:40<24:25, 20.47iter/s, Iteration=170000, Train Loss=38.0136, LR=0.000006]"
          ]
        },
        {
          "output_type": "stream",
          "name": "stdout",
          "text": [
            "2025-04-27 21:39:19: Iteration: 170000, Train Loss: 38.0136\n",
            "2025-04-27 21:39:19: Iteration: 170000, Test Loss: 38.0136\n",
            "True Polygon:  Polygon(n=4, vertices=[(6.91, 7.32), (5.84, 7.88), (5.67, 7.92), (4.08, 7.86)], lengths=[1.207683733433551, 0.17464249196572976, 1.5911316727411342, 2.8810588331375673], angles=[16.823059454236784, 165.614557047845, 164.59840059658637, 12.963982901331823])\n",
            "Predicted Polygon Vertices:  Polygon(n=4, vertices=[(6.91, 7.32), (5.84, 7.88), (5.67, 7.92), (4.08, 7.86)], lengths=[1.207683733433551, 0.17464249196572976, 1.5911316727411342, 2.8810588331375673], angles=[51.85469436645508, 74.6930160522461, 21.145164489746094, 77.44804382324219])\n"
          ]
        },
        {
          "output_type": "stream",
          "name": "stderr",
          "text": [
            "Training:  86%|████████▌ | 171005/200001 [2:02:23<20:41, 23.35iter/s, Iteration=171000, Train Loss=21.2811, LR=0.000006]"
          ]
        },
        {
          "output_type": "stream",
          "name": "stdout",
          "text": [
            "2025-04-27 21:40:02: Iteration: 171000, Train Loss: 21.2811\n"
          ]
        },
        {
          "output_type": "stream",
          "name": "stderr",
          "text": [
            "Training:  86%|████████▌ | 172005/200001 [2:03:07<19:28, 23.96iter/s, Iteration=172000, Train Loss=42.9768, LR=0.000006]"
          ]
        },
        {
          "output_type": "stream",
          "name": "stdout",
          "text": [
            "2025-04-27 21:40:45: Iteration: 172000, Train Loss: 42.9768\n"
          ]
        },
        {
          "output_type": "stream",
          "name": "stderr",
          "text": [
            "Training:  87%|████████▋ | 173004/200001 [2:03:50<19:14, 23.39iter/s, Iteration=173000, Train Loss=26.0115, LR=0.000005]"
          ]
        },
        {
          "output_type": "stream",
          "name": "stdout",
          "text": [
            "2025-04-27 21:41:28: Iteration: 173000, Train Loss: 26.0115\n"
          ]
        },
        {
          "output_type": "stream",
          "name": "stderr",
          "text": [
            "Training:  87%|████████▋ | 174004/200001 [2:04:33<18:49, 23.02iter/s, Iteration=174000, Train Loss=22.3930, LR=0.000005]"
          ]
        },
        {
          "output_type": "stream",
          "name": "stdout",
          "text": [
            "2025-04-27 21:42:11: Iteration: 174000, Train Loss: 22.3930\n"
          ]
        },
        {
          "output_type": "stream",
          "name": "stderr",
          "text": [
            "Training:  88%|████████▊ | 175003/200001 [2:05:16<17:31, 23.77iter/s, Iteration=175000, Train Loss=20.0668, LR=0.000005]"
          ]
        },
        {
          "output_type": "stream",
          "name": "stdout",
          "text": [
            "2025-04-27 21:42:54: Iteration: 175000, Train Loss: 20.0668\n"
          ]
        },
        {
          "output_type": "stream",
          "name": "stderr",
          "text": [
            "Training:  88%|████████▊ | 176005/200001 [2:05:58<16:24, 24.38iter/s, Iteration=176000, Train Loss=31.3155, LR=0.000004]"
          ]
        },
        {
          "output_type": "stream",
          "name": "stdout",
          "text": [
            "2025-04-27 21:43:37: Iteration: 176000, Train Loss: 31.3155\n"
          ]
        },
        {
          "output_type": "stream",
          "name": "stderr",
          "text": [
            "Training:  89%|████████▊ | 177005/200001 [2:06:42<16:49, 22.77iter/s, Iteration=177000, Train Loss=40.6518, LR=0.000004]"
          ]
        },
        {
          "output_type": "stream",
          "name": "stdout",
          "text": [
            "2025-04-27 21:44:20: Iteration: 177000, Train Loss: 40.6518\n"
          ]
        },
        {
          "output_type": "stream",
          "name": "stderr",
          "text": [
            "Training:  89%|████████▉ | 178004/200001 [2:07:25<15:08, 24.20iter/s, Iteration=178000, Train Loss=36.8544, LR=0.000004]"
          ]
        },
        {
          "output_type": "stream",
          "name": "stdout",
          "text": [
            "2025-04-27 21:45:03: Iteration: 178000, Train Loss: 36.8544\n"
          ]
        },
        {
          "output_type": "stream",
          "name": "stderr",
          "text": [
            "Training:  90%|████████▉ | 179003/200001 [2:08:08<16:15, 21.51iter/s, Iteration=179000, Train Loss=23.2575, LR=0.000004]"
          ]
        },
        {
          "output_type": "stream",
          "name": "stdout",
          "text": [
            "2025-04-27 21:45:46: Iteration: 179000, Train Loss: 23.2575\n"
          ]
        },
        {
          "output_type": "stream",
          "name": "stderr",
          "text": [
            "Training:  90%|█████████ | 180003/200001 [2:08:51<15:23, 21.65iter/s, Iteration=180000, Train Loss=19.2165, LR=0.000003]"
          ]
        },
        {
          "output_type": "stream",
          "name": "stdout",
          "text": [
            "2025-04-27 21:46:29: Iteration: 180000, Train Loss: 19.2165\n",
            "2025-04-27 21:46:29: Iteration: 180000, Test Loss: 19.2165\n",
            "True Polygon:  Polygon(n=4, vertices=[(7.09, 7.15), (3.33, 7.49), (2.98, 2.78), (4.13, 2.13)], lengths=[3.7753410441971993, 4.7229863434060455, 1.3209844813622906, 5.82769251076273], angles=[64.64158591213139, 89.08288822985527, 115.22605185372272, 91.04947400429063])\n",
            "Predicted Polygon Vertices:  Polygon(n=4, vertices=[(7.09, 7.15), (3.33, 7.49), (2.98, 2.78), (4.13, 2.13)], lengths=[3.7753410441971993, 4.7229863434060455, 1.3209844813622906, 5.82769251076273], angles=[54.52634811401367, 77.51181030273438, 21.80239486694336, 78.20530700683594])\n"
          ]
        },
        {
          "output_type": "stream",
          "name": "stderr",
          "text": [
            "Training:  91%|█████████ | 181003/200001 [2:09:34<14:03, 22.51iter/s, Iteration=181000, Train Loss=32.3215, LR=0.000003]"
          ]
        },
        {
          "output_type": "stream",
          "name": "stdout",
          "text": [
            "2025-04-27 21:47:12: Iteration: 181000, Train Loss: 32.3215\n"
          ]
        },
        {
          "output_type": "stream",
          "name": "stderr",
          "text": [
            "Training:  91%|█████████ | 182003/200001 [2:10:17<13:00, 23.07iter/s, Iteration=182000, Train Loss=18.7602, LR=0.000003]"
          ]
        },
        {
          "output_type": "stream",
          "name": "stdout",
          "text": [
            "2025-04-27 21:47:55: Iteration: 182000, Train Loss: 18.7602\n"
          ]
        },
        {
          "output_type": "stream",
          "name": "stderr",
          "text": [
            "Training:  92%|█████████▏| 183003/200001 [2:11:00<12:36, 22.46iter/s, Iteration=183000, Train Loss=7.4475, LR=0.000003]"
          ]
        },
        {
          "output_type": "stream",
          "name": "stdout",
          "text": [
            "2025-04-27 21:48:39: Iteration: 183000, Train Loss: 7.4475\n"
          ]
        },
        {
          "output_type": "stream",
          "name": "stderr",
          "text": [
            "Training:  92%|█████████▏| 184005/200001 [2:11:43<11:18, 23.58iter/s, Iteration=184000, Train Loss=18.5083, LR=0.000003]"
          ]
        },
        {
          "output_type": "stream",
          "name": "stdout",
          "text": [
            "2025-04-27 21:49:22: Iteration: 184000, Train Loss: 18.5083\n"
          ]
        },
        {
          "output_type": "stream",
          "name": "stderr",
          "text": [
            "Training:  93%|█████████▎| 185004/200001 [2:12:26<11:26, 21.83iter/s, Iteration=185000, Train Loss=33.9974, LR=0.000002]"
          ]
        },
        {
          "output_type": "stream",
          "name": "stdout",
          "text": [
            "2025-04-27 21:50:05: Iteration: 185000, Train Loss: 33.9974\n"
          ]
        },
        {
          "output_type": "stream",
          "name": "stderr",
          "text": [
            "Training:  93%|█████████▎| 186005/200001 [2:13:09<09:12, 25.34iter/s, Iteration=186000, Train Loss=25.5548, LR=0.000002]"
          ]
        },
        {
          "output_type": "stream",
          "name": "stdout",
          "text": [
            "2025-04-27 21:50:47: Iteration: 186000, Train Loss: 25.5548\n"
          ]
        },
        {
          "output_type": "stream",
          "name": "stderr",
          "text": [
            "Training:  94%|█████████▎| 187004/200001 [2:13:52<09:38, 22.47iter/s, Iteration=187000, Train Loss=33.5036, LR=0.000002]"
          ]
        },
        {
          "output_type": "stream",
          "name": "stdout",
          "text": [
            "2025-04-27 21:51:30: Iteration: 187000, Train Loss: 33.5036\n"
          ]
        },
        {
          "output_type": "stream",
          "name": "stderr",
          "text": [
            "Training:  94%|█████████▍| 188004/200001 [2:14:34<08:07, 24.59iter/s, Iteration=188000, Train Loss=6.3651, LR=0.000002]"
          ]
        },
        {
          "output_type": "stream",
          "name": "stdout",
          "text": [
            "2025-04-27 21:52:13: Iteration: 188000, Train Loss: 6.3651\n"
          ]
        },
        {
          "output_type": "stream",
          "name": "stderr",
          "text": [
            "Training:  95%|█████████▍| 189003/200001 [2:15:18<07:46, 23.57iter/s, Iteration=189000, Train Loss=19.1667, LR=0.000002]"
          ]
        },
        {
          "output_type": "stream",
          "name": "stdout",
          "text": [
            "2025-04-27 21:52:56: Iteration: 189000, Train Loss: 19.1667\n"
          ]
        },
        {
          "output_type": "stream",
          "name": "stderr",
          "text": [
            "Training:  95%|█████████▌| 190003/200001 [2:16:01<07:56, 20.97iter/s, Iteration=190000, Train Loss=19.6912, LR=0.000002]"
          ]
        },
        {
          "output_type": "stream",
          "name": "stdout",
          "text": [
            "2025-04-27 21:53:40: Iteration: 190000, Train Loss: 19.6912\n",
            "2025-04-27 21:53:40: Iteration: 190000, Test Loss: 19.6912\n",
            "True Polygon:  Polygon(n=4, vertices=[(7.99, 5.25), (2.27, 6.23), (2.14, 5.9), (5.72, 2.09)], lengths=[5.8033438636703245, 0.35468295701936403, 5.228049349422784, 3.890822535146007], angles=[64.03027366289531, 101.77941631023685, 115.28121476851999, 78.90909525834788])\n",
            "Predicted Polygon Vertices:  Polygon(n=4, vertices=[(7.99, 5.25), (2.27, 6.23), (2.14, 5.9), (5.72, 2.09)], lengths=[5.8033438636703245, 0.35468295701936403, 5.228049349422784, 3.890822535146007], angles=[54.54397201538086, 77.85275268554688, 21.81976318359375, 78.62332916259766])\n"
          ]
        },
        {
          "output_type": "stream",
          "name": "stderr",
          "text": [
            "Training:  96%|█████████▌| 191003/200001 [2:16:44<06:15, 23.97iter/s, Iteration=191000, Train Loss=5.3330, LR=0.000001]"
          ]
        },
        {
          "output_type": "stream",
          "name": "stdout",
          "text": [
            "2025-04-27 21:54:23: Iteration: 191000, Train Loss: 5.3330\n"
          ]
        },
        {
          "output_type": "stream",
          "name": "stderr",
          "text": [
            "Training:  96%|█████████▌| 192005/200001 [2:17:27<05:59, 22.26iter/s, Iteration=192000, Train Loss=30.7724, LR=0.000001]"
          ]
        },
        {
          "output_type": "stream",
          "name": "stdout",
          "text": [
            "2025-04-27 21:55:06: Iteration: 192000, Train Loss: 30.7724\n"
          ]
        },
        {
          "output_type": "stream",
          "name": "stderr",
          "text": [
            "Training:  97%|█████████▋| 193004/200001 [2:18:10<05:17, 22.02iter/s, Iteration=193000, Train Loss=30.8756, LR=0.000001]"
          ]
        },
        {
          "output_type": "stream",
          "name": "stdout",
          "text": [
            "2025-04-27 21:55:49: Iteration: 193000, Train Loss: 30.8756\n"
          ]
        },
        {
          "output_type": "stream",
          "name": "stderr",
          "text": [
            "Training:  97%|█████████▋| 194003/200001 [2:18:53<04:31, 22.06iter/s, Iteration=194000, Train Loss=2.7872, LR=0.000001]"
          ]
        },
        {
          "output_type": "stream",
          "name": "stdout",
          "text": [
            "2025-04-27 21:56:32: Iteration: 194000, Train Loss: 2.7872\n"
          ]
        },
        {
          "output_type": "stream",
          "name": "stderr",
          "text": [
            "Training:  98%|█████████▊| 195003/200001 [2:19:36<03:21, 24.85iter/s, Iteration=195000, Train Loss=47.0351, LR=0.000001]"
          ]
        },
        {
          "output_type": "stream",
          "name": "stdout",
          "text": [
            "2025-04-27 21:57:15: Iteration: 195000, Train Loss: 47.0351\n"
          ]
        },
        {
          "output_type": "stream",
          "name": "stderr",
          "text": [
            "Training:  98%|█████████▊| 196005/200001 [2:20:19<02:50, 23.40iter/s, Iteration=196000, Train Loss=18.6873, LR=0.000001]"
          ]
        },
        {
          "output_type": "stream",
          "name": "stdout",
          "text": [
            "2025-04-27 21:57:58: Iteration: 196000, Train Loss: 18.6873\n"
          ]
        },
        {
          "output_type": "stream",
          "name": "stderr",
          "text": [
            "Training:  99%|█████████▊| 197004/200001 [2:21:02<02:01, 24.63iter/s, Iteration=197000, Train Loss=48.3879, LR=0.000001]"
          ]
        },
        {
          "output_type": "stream",
          "name": "stdout",
          "text": [
            "2025-04-27 21:58:41: Iteration: 197000, Train Loss: 48.3879\n"
          ]
        },
        {
          "output_type": "stream",
          "name": "stderr",
          "text": [
            "Training:  99%|█████████▉| 198006/200001 [2:21:45<01:21, 24.47iter/s, Iteration=198000, Train Loss=14.3013, LR=0.000001]"
          ]
        },
        {
          "output_type": "stream",
          "name": "stdout",
          "text": [
            "2025-04-27 21:59:24: Iteration: 198000, Train Loss: 14.3013\n"
          ]
        },
        {
          "output_type": "stream",
          "name": "stderr",
          "text": [
            "Training: 100%|█████████▉| 199005/200001 [2:22:28<00:39, 25.12iter/s, Iteration=199000, Train Loss=9.5791, LR=0.000001]"
          ]
        },
        {
          "output_type": "stream",
          "name": "stdout",
          "text": [
            "2025-04-27 22:00:07: Iteration: 199000, Train Loss: 9.5791\n"
          ]
        },
        {
          "output_type": "stream",
          "name": "stderr",
          "text": [
            "Training: 100%|██████████| 200001/200001 [2:23:11<00:00, 23.28iter/s, Iteration=2e+5, Train Loss=36.4303, LR=0.000001]"
          ]
        },
        {
          "output_type": "stream",
          "name": "stdout",
          "text": [
            "2025-04-27 22:00:50: Iteration: 200000, Train Loss: 36.4303\n",
            "2025-04-27 22:00:50: Iteration: 200000, Test Loss: 36.4303\n",
            "True Polygon:  Polygon(n=4, vertices=[(2.95, 7.19), (2.06, 4.42), (6.93, 2.7), (7.14, 2.9)], lengths=[2.9094673051952316, 5.164813646202542, 0.2899999999999998, 5.9966824161364425], angles=[62.13656667525377, 91.64014880848067, 116.94483908310006, 89.27844543316552])\n",
            "Predicted Polygon Vertices:  Polygon(n=4, vertices=[(2.95, 7.19), (2.06, 4.42), (6.93, 2.7), (7.14, 2.9)], lengths=[2.9094673051952316, 5.164813646202542, 0.2899999999999998, 5.9966824161364425], angles=[55.889442443847656, 78.99274444580078, 22.425039291381836, 79.06021118164062])\n"
          ]
        },
        {
          "output_type": "stream",
          "name": "stderr",
          "text": [
            "\n"
          ]
        }
      ],
      "source": [
        "# ----------------------\n",
        "# Training Loop\n",
        "# ----------------------\n",
        "\n",
        "progress_bar = tqdm(range(TRAINING_ITERATIONS + 1), desc=\"Training\", unit=\"iter\")\n",
        "for it in progress_bar:\n",
        "    # Generate a batch of polygon completion tasks.\n",
        "    (\n",
        "        context_x,\n",
        "        context_y,\n",
        "        target_x,\n",
        "        target_y,\n",
        "        tokens,\n",
        "        true_poly,\n",
        "        max_seq_len,\n",
        "        num_context,\n",
        "        context_masks,\n",
        "    ) = polygon_generator_train.generate_polygon_batch_few_shot_masked_completion_task()\n",
        "\n",
        "    context_x = context_x.to(device)\n",
        "    context_y = context_y.to(device)\n",
        "    target_x = target_x.to(device)\n",
        "    target_y = target_y.to(device)\n",
        "    context_masks = context_masks.to(device)\n",
        "\n",
        "    optimizer.zero_grad()\n",
        "    # Forward pass: the NP model expects context_x, context_y, target_x, target_y.\n",
        "    dist, z, q_zc, q_zct = model(context_x, context_y, target_x, target_y)\n",
        "    loss = criterion(dist, q_zct, q_zc, target_y, mask=context_masks)\n",
        "    loss.backward()\n",
        "\n",
        "    # torch.nn.utils.clip_grad_norm_(model.parameters(), max_norm=1.0)\n",
        "    optimizer.step()\n",
        "    scheduler.step()\n",
        "\n",
        "    if it % 1000 == 0:\n",
        "        now = datetime.datetime.now().strftime(\"%Y-%m-%d %H:%M:%S\")\n",
        "        progress_bar.set_postfix({\"Iteration\": it, \"Train Loss\": f\"{loss.item():.4f}\", \"LR\": f\"{scheduler.get_last_lr()[0]:.6f}\"})\n",
        "        print(f\"{now}: Iteration: {it}, Train Loss: {loss.item():.4f}\")\n",
        "\n",
        "    # ----------------------\n",
        "    # Evaluation and Plotting\n",
        "    # ----------------------\n",
        "    if it % PLOT_AFTER == 0:\n",
        "        # For plotting, we generate a single polygon sample.\n",
        "        (\n",
        "            context_x_eval,\n",
        "            context_y_eval,\n",
        "            target_x_eval,\n",
        "            target_y_eval,\n",
        "            tokens_eval,\n",
        "            true_poly_eval,\n",
        "            max_seq_len_eval,\n",
        "            num_context_eval,\n",
        "            context_masks_eval,\n",
        "        ) = polygon_generator_test.generate_polygon_batch_few_shot_masked_completion_task()\n",
        "\n",
        "        context_x_eval = context_x_eval.to(device)\n",
        "        context_y_eval = context_y_eval.to(device)\n",
        "        target_x_eval = target_x_eval.to(device)\n",
        "        target_y_eval = target_y_eval.to(device)\n",
        "        context_masks_eval = context_masks_eval.to(device)\n",
        "\n",
        "        # Forward pass through the model.\n",
        "        test_dist, test_z, test_q_zc, test_q_zct = model(\n",
        "            context_x_eval, context_y_eval, target_x_eval, target_y_eval\n",
        "        )\n",
        "        loss_eval = criterion(dist, q_zct, q_zc, target_y, mask=context_masks)\n",
        "\n",
        "        # Get NP predictions on target tokens (taking the mean of the predictive distribution).\n",
        "        pred_target = test_dist.mean  # shape: [n_z, batch, n_target, y_dim]\n",
        "\n",
        "        # For simplicity, we average over latent samples and batch dimension.\n",
        "        pred_target_avg = pred_target.mean(0)[0]  # shape: [n_target, y_dim]\n",
        "        # print(\"pred_target_avg shape: \", pred_target_avg.shape)\n",
        "        pred_target_avg = pred_target_avg[0]\n",
        "        true_polygon = true_poly_eval[0]\n",
        "        true_polygon_tokenised = true_polygon.to_tokenised()\n",
        "        pred_target_avg = pred_target_avg[: len(true_polygon_tokenised)].tolist()\n",
        "        # print(\"pred_target_avg shape after squeeze: \", pred_target_avg.shape)\n",
        "\n",
        "        # Squeeze out the batch‐and‐context dims to get a 1D mask\n",
        "        mask_1d = context_masks_eval.squeeze(1)[0].cpu().tolist()\n",
        "        mask_1d = mask_1d[: len(true_polygon_tokenised)]\n",
        "\n",
        "        # Construct predicted tokenised form\n",
        "        predicted_tokens = []\n",
        "        for t_true, t_pred, m in zip(\n",
        "            true_polygon_tokenised, pred_target_avg, mask_1d\n",
        "        ):\n",
        "            # m == 1: masked token\n",
        "            predicted_tokens.append(t_pred if m == 1 else t_true)\n",
        "\n",
        "        # Reconstruct polygons from tokens.\n",
        "        try:\n",
        "            predicted_polygon = Polygon.from_tokenised(predicted_tokens, int(true_polygon_tokenised[0]))\n",
        "        except Exception as e:\n",
        "            print(\"Error reconstructing polygon:\", e)\n",
        "            predicted_polygon = None\n",
        "\n",
        "        now = datetime.datetime.now().strftime(\"%Y-%m-%d %H:%M:%S\")\n",
        "        print(f\"{now}: Iteration: {it}, Test Loss: {loss_eval.item():.4f}\")\n",
        "        print(\"True Polygon: \", true_polygon)\n",
        "        if predicted_polygon is not None:\n",
        "            print(\"Predicted Polygon Vertices: \", predicted_polygon)\n",
        "        else:\n",
        "            print(\"Predicted Polygon could not be reconstructed.\")\n",
        "\n",
        "        # Plot true and predicted polygons.\n",
        "        # plot_polygon(true_polygon.vertices, title=\"True Polygon\")\n",
        "        # if predicted_polygon is not None:\n",
        "        #     try:\n",
        "        #         plot_polygon(predicted_polygon.vertices, title=\"Predicted Polygon\")\n",
        "        #     except Exception as e:\n",
        "        #         print(\"Invalid polygon for plotting:\", e)"
      ]
    }
  ],
  "metadata": {
    "accelerator": "GPU",
    "colab": {
      "gpuType": "L4",
      "provenance": [],
      "toc_visible": true
    },
    "kernelspec": {
      "display_name": "Python 3",
      "name": "python3"
    },
    "language_info": {
      "name": "python"
    }
  },
  "nbformat": 4,
  "nbformat_minor": 0
}