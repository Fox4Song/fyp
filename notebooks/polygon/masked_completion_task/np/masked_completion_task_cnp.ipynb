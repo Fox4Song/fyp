{
  "cells": [
    {
      "cell_type": "code",
      "execution_count": null,
      "metadata": {
        "id": "21ZXg5oftdXb"
      },
      "outputs": [],
      "source": [
        "%load_ext autoreload\n",
        "%autoreload 2\n",
        "import os\n",
        "os.chdir(\"drive/MyDrive/fyp/src\")"
      ]
    },
    {
      "cell_type": "code",
      "execution_count": 2,
      "metadata": {
        "id": "Z1pJYNovuUeT"
      },
      "outputs": [],
      "source": [
        "from data import PolygonSentenceReader, Polygon\n",
        "from modules import NLLLoss, ELBOLoss, MLP\n",
        "from neural_process.models.np import CNP, LNP\n",
        "from neural_process.models.attnnp import AttnCNP, AttnLNP\n",
        "from utils import plot_polygon\n",
        "\n",
        "import datetime\n",
        "from functools import partial\n",
        "import matplotlib.pyplot as plt\n",
        "import random\n",
        "from tqdm import tqdm\n",
        "import torch\n",
        "import torch.nn as nn\n",
        "from torch.distributions.kl import kl_divergence"
      ]
    },
    {
      "cell_type": "code",
      "execution_count": 5,
      "metadata": {
        "colab": {
          "base_uri": "https://localhost:8080/"
        },
        "id": "EpvLDqnPucpc",
        "outputId": "d84cfe9f-c19e-48b4-aea6-d25d290134be"
      },
      "outputs": [
        {
          "name": "stdout",
          "output_type": "stream",
          "text": [
            "Total parameters: 1,600,394\n"
          ]
        }
      ],
      "source": [
        "TRAINING_ITERATIONS = int(3e5)\n",
        "PLOT_AFTER = int(2e4)\n",
        "BATCH_SIZE = 128\n",
        "MAX_CONTEXT_POINTS = 20\n",
        "MIN_SIDES = 3\n",
        "MAX_SIDES = 8\n",
        "x_size = 5 + 4 * MAX_SIDES\n",
        "y_size = x_size\n",
        "r_size = 320\n",
        "torch.manual_seed(0)\n",
        "\n",
        "criterion = NLLLoss()\n",
        "\n",
        "# Instantiate a polygon generator.\n",
        "# (For example, polygons with between 3 and 8 sides.)\n",
        "polygon_generator_train = PolygonSentenceReader(\n",
        "    batch_size=BATCH_SIZE,\n",
        "    max_num_context=MAX_CONTEXT_POINTS,\n",
        "    max_seq_len=x_size,\n",
        "    min_num_sides=MIN_SIDES,\n",
        "    max_num_sides=MAX_SIDES,\n",
        "    center=(5, 5),\n",
        "    radius=3,\n",
        "    testing=False,\n",
        ")\n",
        "\n",
        "polygon_generator_test = PolygonSentenceReader(\n",
        "    batch_size=100,\n",
        "    max_num_context=MAX_CONTEXT_POINTS,\n",
        "    max_seq_len=x_size,\n",
        "    min_num_sides=MIN_SIDES+1,\n",
        "    max_num_sides=MIN_SIDES+1,\n",
        "    center=(5, 5),\n",
        "    radius=3,\n",
        "    testing=True,\n",
        ")\n",
        "\n",
        "Decoder = partial(\n",
        "    MLP,\n",
        "    n_hidden_layers=8,\n",
        "    hidden_size=r_size,\n",
        "    dropout=0.1,\n",
        "    is_res=True,\n",
        ")\n",
        "\n",
        "Encoder = partial(\n",
        "    MLP,\n",
        "    n_hidden_layers=7,\n",
        "    hidden_size=r_size,\n",
        "    dropout=0.1,\n",
        "    is_res=True,\n",
        ")\n",
        "\n",
        "model = CNP(x_dim=x_size, y_dim=y_size, r_dim=r_size, Decoder=Decoder, Encoder=Encoder)\n",
        "optimizer = torch.optim.Adam(model.parameters(), lr=1e-4)\n",
        "scheduler = torch.optim.lr_scheduler.CosineAnnealingLR(\n",
        "    optimizer, T_max=TRAINING_ITERATIONS, eta_min=1e-6\n",
        ")\n",
        "model.to(torch.device(\"cuda\" if torch.cuda.is_available() else \"cpu\"))\n",
        "device = next(model.parameters()).device\n",
        "total_params = sum(p.numel() for p in model.parameters())\n",
        "print(f\"Total parameters: {total_params:,}\")"
      ]
    },
    {
      "cell_type": "markdown",
      "metadata": {
        "id": "-bWGNwRcqpTu"
      },
      "source": [
        "# Training"
      ]
    },
    {
      "cell_type": "markdown",
      "metadata": {
        "id": "YQGdGRZrUf0f"
      },
      "source": [
        "## Masked Completion"
      ]
    },
    {
      "cell_type": "code",
      "execution_count": 7,
      "metadata": {
        "colab": {
          "base_uri": "https://localhost:8080/"
        },
        "id": "z3r16XDBT4eK",
        "outputId": "e47cf73e-3567-4be3-ed62-eaeb37999bf5"
      },
      "outputs": [
        {
          "name": "stdout",
          "output_type": "stream",
          "text": [
            "Loaded checkpoint from: ../models/polygon/np/CNP_checkpoint.pt\n"
          ]
        },
        {
          "name": "stderr",
          "output_type": "stream",
          "text": [
            "Training:  20%|██        | 20001/100000 [36:48<2:46:04,  8.03iter/s, Iteration=220000, Train Loss=3.5288, LR=0.000003]"
          ]
        },
        {
          "name": "stdout",
          "output_type": "stream",
          "text": [
            "2025-05-12 09:52:05: Iteration: 220000, Test Loss: 5.8878\n",
            "True Polygon:  Polygon(n=4, vertices=[(5.76, 7.9), (2.76, 6.99), (5.52, 2.05), (7.45, 3.26)], lengths=[3.1349800637324634, 5.6587277722117015, 2.277937663765188, 4.93818792676018], angles=[93.13854527439167, 77.68201274666336, 87.10691883436044, 102.07252314458454])\n",
            "Predicted Polygon Vertices:  Polygon(n=4, vertices=[(5.76, 7.9), (2.76, 6.99), (5.52, 2.05), (7.45, 3.26)], lengths=[3.1349800637324634, 5.6587277722117015, 2.277937663765188, 4.93818792676018], angles=[13.383500099182129, 30.229732513427734, 27.929813385009766, 40.67094421386719])\n"
          ]
        },
        {
          "name": "stderr",
          "output_type": "stream",
          "text": [
            "Training:  40%|████      | 40001/100000 [1:13:45<2:09:39,  7.71iter/s, Iteration=240000, Train Loss=3.5966, LR=0.000010]"
          ]
        },
        {
          "name": "stdout",
          "output_type": "stream",
          "text": [
            "2025-05-12 10:29:02: Iteration: 240000, Test Loss: 5.8532\n",
            "True Polygon:  Polygon(n=4, vertices=[(2.05, 4.43), (5.25, 2.01), (6.86, 2.65), (7.72, 3.74)], lengths=[4.012031904160285, 1.732541485794785, 1.3884163640637486, 5.7118298293979315], angles=[30.1600082543213, 121.22301680072813, 149.95170509061302, 58.66526985433758])\n",
            "Predicted Polygon Vertices:  Polygon(n=4, vertices=[(2.05, 4.43), (5.25, 2.01), (6.86, 2.65), (7.72, 3.74)], lengths=[4.012031904160285, 1.732541485794785, 1.3884163640637486, 5.7118298293979315], angles=[13.24195384979248, 27.453718185424805, 24.96253204345703, 36.07094955444336])\n"
          ]
        },
        {
          "name": "stderr",
          "output_type": "stream",
          "text": [
            "Training:  60%|██████    | 60002/100000 [1:50:49<1:12:51,  9.15iter/s, Iteration=260000, Train Loss=3.5592, LR=0.000021]"
          ]
        },
        {
          "name": "stdout",
          "output_type": "stream",
          "text": [
            "2025-05-12 11:06:06: Iteration: 260000, Test Loss: 5.8228\n",
            "True Polygon:  Polygon(n=4, vertices=[(8.0, 5.07), (6.68, 7.49), (3.05, 7.28), (2.52, 6.69)], lengths=[2.756592098951167, 3.6360693062701652, 0.7930952023559338, 5.7144378551175095], angles=[44.92078408037929, 115.29951815135378, 135.24445601348555, 64.5352417547814])\n",
            "Predicted Polygon Vertices:  Polygon(n=4, vertices=[(8.0, 5.07), (6.68, 7.49), (3.05, 7.28), (2.52, 6.69)], lengths=[2.756592098951167, 3.6360693062701652, 0.7930952023559338, 5.7144378551175095], angles=[12.886173248291016, 27.434982299804688, 25.23400115966797, 35.46674346923828])\n"
          ]
        },
        {
          "name": "stderr",
          "output_type": "stream",
          "text": [
            "Training:  80%|████████  | 80001/100000 [2:27:48<37:30,  8.89iter/s, Iteration=280000, Train Loss=3.4129, LR=0.000035]"
          ]
        },
        {
          "name": "stdout",
          "output_type": "stream",
          "text": [
            "2025-05-12 11:43:05: Iteration: 280000, Test Loss: 5.7945\n",
            "True Polygon:  Polygon(n=4, vertices=[(5.57, 7.94), (2.07, 5.63), (4.46, 2.05), (7.52, 3.38)], lengths=[4.193578424210045, 4.304474416232486, 3.336540124140574, 4.959445533524892], angles=[79.72827038150974, 89.69782627802603, 100.23526623857315, 90.33863710189111])\n",
            "Predicted Polygon Vertices:  Polygon(n=4, vertices=[(5.57, 7.94), (2.07, 5.63), (4.46, 2.05), (7.52, 3.38)], lengths=[4.193578424210045, 4.304474416232486, 3.336540124140574, 4.959445533524892], angles=[15.060979843139648, 30.467235565185547, 28.587188720703125, 40.31111526489258])\n"
          ]
        },
        {
          "name": "stderr",
          "output_type": "stream",
          "text": [
            "Training: 100%|██████████| 100000/100000 [3:04:53<00:00,  9.01iter/s, Iteration=3e+5, Train Loss=3.3818, LR=0.000051]"
          ]
        },
        {
          "name": "stdout",
          "output_type": "stream",
          "text": [
            "2025-05-12 12:20:11: Iteration: 300000, Test Loss: 5.7959\n",
            "True Polygon:  Polygon(n=4, vertices=[(7.05, 7.19), (6.56, 7.57), (4.94, 8.0), (2.16, 5.98)], lengths=[0.6200806399170999, 1.6760966559241137, 3.4363934582640563, 5.037479528494384], angles=[51.6922575574588, 157.07141450912303, 129.13178591332536, 22.104542020092858])\n",
            "Predicted Polygon Vertices:  Polygon(n=4, vertices=[(7.05, 7.19), (6.56, 7.57), (4.94, 8.0), (2.16, 5.98)], lengths=[0.6200806399170999, 1.6760966559241137, 3.4363934582640563, 5.037479528494384], angles=[14.055347442626953, 27.862642288208008, 26.188949584960938, 36.8004264831543])\n"
          ]
        },
        {
          "name": "stderr",
          "output_type": "stream",
          "text": [
            "\n"
          ]
        }
      ],
      "source": [
        "train_losses = []\n",
        "test_losses  = []\n",
        "iters_list = []\n",
        "\n",
        "checkpoint = True\n",
        "\n",
        "if checkpoint:\n",
        "    ckpt = torch.load(model.__class__.__name__ + \"_masked_completion_task_checkpoint.pt\",\n",
        "                        map_location=device)\n",
        "\n",
        "    model.load_state_dict(ckpt['model_state_dict'])\n",
        "    optimizer.load_state_dict(ckpt['optimizer_state_dict'])\n",
        "    scheduler.load_state_dict(ckpt['scheduler_state_dict'])\n",
        "    start_iter = ckpt['iteration'] + 1\n",
        "    model.to(device)\n",
        "    print(\"Loaded checkpoint from: \" + \"../models/polygon/np/\" + model.__class__.__name__ + \"_checkpoint.pt\")\n",
        "else:\n",
        "    start_iter = 1\n",
        "\n",
        "# ----------------------\n",
        "# Training Loop\n",
        "# ----------------------\n",
        "\n",
        "progress_bar = tqdm(range(start_iter, TRAINING_ITERATIONS + 1), desc=\"Training\", unit=\"iter\")\n",
        "for it in progress_bar:\n",
        "    # Generate a batch of polygon completion tasks.\n",
        "    (\n",
        "        context_x,\n",
        "        context_y,\n",
        "        target_x,\n",
        "        target_y,\n",
        "        tokens,\n",
        "        true_poly,\n",
        "        max_seq_len,\n",
        "        num_context,\n",
        "        context_masks,\n",
        "    ) = polygon_generator_train.generate_polygon_batch_few_shot_masked_completion_task()\n",
        "\n",
        "    context_x = context_x.to(device)\n",
        "    context_y = context_y.to(device)\n",
        "    target_x = target_x.to(device)\n",
        "    target_y = target_y.to(device)\n",
        "    context_masks = context_masks.to(device)\n",
        "\n",
        "    optimizer.zero_grad()\n",
        "    # Forward pass: the NP model expects context_x, context_y, target_x, target_y.\n",
        "    dist, z, q_zc, q_zct = model(context_x, context_y, target_x, target_y)\n",
        "    loss = criterion(dist, target_y, mask=context_masks)\n",
        "    loss.backward()\n",
        "\n",
        "    # torch.nn.utils.clip_grad_norm_(model.parameters(), max_norm=1.0)\n",
        "    optimizer.step()\n",
        "    scheduler.step()\n",
        "\n",
        "    train_losses.append(loss.item())\n",
        "\n",
        "    if it % 1000 == 0:\n",
        "        now = datetime.datetime.now().strftime(\"%Y-%m-%d %H:%M:%S\")\n",
        "        progress_bar.set_postfix({\"Iteration\": it, \"Train Loss\": f\"{loss.item():.4f}\", \"LR\": f\"{scheduler.get_last_lr()[0]:.6f}\"})\n",
        "\n",
        "    # ----------------------\n",
        "    # Evaluation and Plotting\n",
        "    # ----------------------\n",
        "    if it % PLOT_AFTER == 0:\n",
        "        # For plotting, we generate a single polygon sample.\n",
        "        (\n",
        "            context_x_eval,\n",
        "            context_y_eval,\n",
        "            target_x_eval,\n",
        "            target_y_eval,\n",
        "            tokens_eval,\n",
        "            true_poly_eval,\n",
        "            max_seq_len_eval,\n",
        "            num_context_eval,\n",
        "            context_masks_eval,\n",
        "        ) = polygon_generator_test.generate_polygon_batch_few_shot_masked_completion_task()\n",
        "\n",
        "        context_x_eval = context_x_eval.to(device)\n",
        "        context_y_eval = context_y_eval.to(device)\n",
        "        target_x_eval = target_x_eval.to(device)\n",
        "        target_y_eval = target_y_eval.to(device)\n",
        "        context_masks_eval = context_masks_eval.to(device)\n",
        "\n",
        "        # Forward pass through the model.\n",
        "        test_dist, test_z, test_q_zc, test_q_zct = model(\n",
        "            context_x_eval, context_y_eval, target_x_eval, target_y_eval\n",
        "        )\n",
        "        loss_eval = criterion(test_dist, target_y_eval, mask=context_masks_eval)\n",
        "        test_losses.append(loss_eval.item())\n",
        "        iters_list.append(it)\n",
        "\n",
        "        # Get NP predictions on target tokens (taking the mean of the predictive distribution).\n",
        "        pred_target = test_dist.mean  # shape: [n_z, batch, n_target, y_dim]\n",
        "\n",
        "        # For simplicity, we average over latent samples and batch dimension.\n",
        "        pred_target_avg = pred_target.mean(0)[0, -1, :]  # shape: [batch, n_target, y_dim]\n",
        "        true_polygon = true_poly_eval[0]\n",
        "        true_polygon_tokenised = true_polygon.to_tokenised()\n",
        "        pred_target_avg = pred_target_avg[: len(true_polygon_tokenised)].tolist()\n",
        "        # print(\"pred_target_avg shape after squeeze: \", pred_target_avg.shape)\n",
        "\n",
        "        # Squeeze out the batch‐and‐context dims to get a 1D mask\n",
        "        mask_1d = context_masks_eval.squeeze(1)[0].cpu().tolist()\n",
        "        mask_1d = mask_1d[: len(true_polygon_tokenised)]\n",
        "\n",
        "        # Construct predicted tokenised form\n",
        "        predicted_tokens = []\n",
        "        for t_true, t_pred, m in zip(\n",
        "            true_polygon_tokenised, pred_target_avg, mask_1d\n",
        "        ):\n",
        "            # m == 1: masked token\n",
        "            predicted_tokens.append(t_pred if m == 1 else t_true)\n",
        "\n",
        "        # Reconstruct polygons from tokens.\n",
        "        try:\n",
        "            predicted_polygon = Polygon.from_tokenised(predicted_tokens, int(true_polygon_tokenised[0]))\n",
        "        except Exception as e:\n",
        "            print(\"Error reconstructing polygon:\", e)\n",
        "            predicted_polygon = None\n",
        "\n",
        "        now = datetime.datetime.now().strftime(\"%Y-%m-%d %H:%M:%S\")\n",
        "        print(f\"{now}: Iteration: {it}, Test Loss: {loss_eval.item():.4f}\")\n",
        "        print(\"True Polygon: \", true_polygon)\n",
        "        if predicted_polygon is not None:\n",
        "            print(\"Predicted Polygon Vertices: \", predicted_polygon)\n",
        "        else:\n",
        "            print(\"Predicted Polygon could not be reconstructed.\")\n",
        "\n",
        "        # Plot true and predicted polygons.\n",
        "        # plot_polygon(true_polygon.vertices, title=\"True Polygon\")\n",
        "        # if predicted_polygon is not None:\n",
        "        #     try:\n",
        "        #         plot_polygon(predicted_polygon.vertices, title=\"Predicted Polygon\")\n",
        "        #     except Exception as e:\n",
        "        #         print(\"Invalid polygon for plotting:\", e)"
      ]
    },
    {
      "cell_type": "code",
      "execution_count": 8,
      "metadata": {
        "colab": {
          "base_uri": "https://localhost:8080/"
        },
        "id": "is3ny3rbUtGZ",
        "outputId": "10a571d8-5696-4b46-ca57-89d02e48cf21"
      },
      "outputs": [
        {
          "name": "stdout",
          "output_type": "stream",
          "text": [
            "Saved final checkpoint at iteration 300000 → CNP_masked_completion_task_checkpoint_300k.pt\n"
          ]
        }
      ],
      "source": [
        "checkpoint = {\n",
        "    'iteration': it,\n",
        "    'model_state_dict': model.state_dict(),\n",
        "    'optimizer_state_dict': optimizer.state_dict(),\n",
        "    'scheduler_state_dict': scheduler.state_dict(),\n",
        "}\n",
        "\n",
        "torch.save(model.state_dict(), model.__class__.__name__ + \"_masked_completion_task_ 300k.pt\")\n",
        "torch.save(checkpoint, model.__class__.__name__ + \"_masked_completion_task_checkpoint_300k.pt\")\n",
        "print(f\"Saved final checkpoint at iteration {it} → \" + model.__class__.__name__ + \"_masked_completion_task_checkpoint_300k.pt\")"
      ]
    },
    {
      "cell_type": "code",
      "execution_count": 6,
      "metadata": {
        "colab": {
          "base_uri": "https://localhost:8080/",
          "height": 507
        },
        "id": "edXxzDMiUs-T",
        "outputId": "cdbbc164-8068-47c3-cbde-41721bdda26f"
      },
      "outputs": [
        {
          "data": {
            "image/png": "[encoded data removed]",
            "text/plain": [
              "<Figure size 800x500 with 1 Axes>"
            ]
          },
          "metadata": {},
          "output_type": "display_data"
        }
      ],
      "source": [
        "plt.figure(figsize=(8, 5))\n",
        "plt.plot(train_losses, label=\"Train Loss\")\n",
        "plt.plot(iters_list, test_losses, marker='o', label=\"Test Loss\")\n",
        "plt.xlabel(\"Iteration\")\n",
        "plt.ylabel(\"Loss\")\n",
        "plt.title(\"Train & Test Loss\")\n",
        "plt.xticks(list(range(0, len(train_losses)+1, max(1, len(train_losses)//10))))  # optional: sparser x-ticks\n",
        "plt.legend()\n",
        "plt.grid(True)\n",
        "plt.tight_layout()\n",
        "plt.show()"
      ]
    }
  ],
  "metadata": {
    "accelerator": "GPU",
    "colab": {
      "collapsed_sections": [
        "IWOuoGRwUlRh",
        "O7jgg--4AOm0",
        "5Y8q-kbRVINx",
        "eOToRNt4aWOn"
      ],
      "gpuType": "L4",
      "provenance": []
    },
    "kernelspec": {
      "display_name": "Python 3",
      "name": "python3"
    },
    "language_info": {
      "name": "python"
    }
  },
  "nbformat": 4,
  "nbformat_minor": 0
}
