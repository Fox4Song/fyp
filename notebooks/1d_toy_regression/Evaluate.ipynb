{
 "cells": [
  {
   "cell_type": "code",
   "execution_count": 1,
   "metadata": {},
   "outputs": [],
   "source": [
    "import os\n",
    "os.chdir('../../src')\n",
    "# print(os.getcwd())\n",
    "\n",
    "import datetime\n",
    "import torch\n",
    "import torch.nn as nn\n",
    "\n",
    "from transformer.models import Transformer\n",
    "from neural_process.models import LNP\n",
    "from data import GPCurvesReader\n",
    "from utils import plot_model_comparisons"
   ]
  },
  {
   "cell_type": "code",
   "execution_count": 2,
   "metadata": {},
   "outputs": [
    {
     "data": {
      "text/plain": [
       "LNP(\n",
       "  (decoder): MLP(\n",
       "    (activation): ReLU()\n",
       "    (dropout): Dropout(p=0, inplace=False)\n",
       "    (to_hidden): Linear(in_features=129, out_features=128, bias=True)\n",
       "    (linears): ModuleList(\n",
       "      (0): Linear(in_features=128, out_features=128, bias=True)\n",
       "    )\n",
       "    (out): Linear(in_features=128, out_features=2, bias=True)\n",
       "  )\n",
       "  (encoder): MLP(\n",
       "    (activation): ReLU()\n",
       "    (dropout): Dropout(p=0, inplace=False)\n",
       "    (to_hidden): Linear(in_features=2, out_features=128, bias=True)\n",
       "    (linears): ModuleList(\n",
       "      (0-1): 2 x Linear(in_features=128, out_features=128, bias=True)\n",
       "    )\n",
       "    (out): Linear(in_features=128, out_features=128, bias=True)\n",
       "  )\n",
       "  (latent_encoder): MLP(\n",
       "    (activation): ReLU()\n",
       "    (dropout): Dropout(p=0, inplace=False)\n",
       "    (to_hidden): Linear(in_features=128, out_features=128, bias=True)\n",
       "    (linears): ModuleList(\n",
       "      (0): Linear(in_features=128, out_features=128, bias=True)\n",
       "    )\n",
       "    (out): Linear(in_features=128, out_features=256, bias=True)\n",
       "  )\n",
       "  (reshape_r_z): Linear(in_features=256, out_features=128, bias=True)\n",
       ")"
      ]
     },
     "execution_count": 2,
     "metadata": {},
     "output_type": "execute_result"
    }
   ],
   "source": [
    "tf_model = Transformer(x_dim=1, y_dim=1)\n",
    "tf_model.load_state_dict(torch.load('../models/1d_toy_regression/Transformer.pt', weights_only=True))\n",
    "tf_model.eval()\n",
    "\n",
    "np_model = LNP(x_dim=1, y_dim=1)\n",
    "np_model.load_state_dict(torch.load('../models/1d_toy_regression/LNP.pt', weights_only=True))\n",
    "np_model.eval()"
   ]
  },
  {
   "cell_type": "code",
   "execution_count": 3,
   "metadata": {},
   "outputs": [
    {
     "name": "stdout",
     "output_type": "stream",
     "text": [
      "cuda:0\n"
     ]
    }
   ],
   "source": [
    "MAX_CONTEXT_POINTS = 50\n",
    "\n",
    "# Test dataset\n",
    "dataset_test = GPCurvesReader(\n",
    "    batch_size=100, max_num_context=MAX_CONTEXT_POINTS, testing=True\n",
    ")\n",
    "\n",
    "device = torch.device(\"cuda:0\" if torch.cuda.is_available() else \"cpu\")\n",
    "print(device)"
   ]
  },
  {
   "cell_type": "code",
   "execution_count": 4,
   "metadata": {},
   "outputs": [
    {
     "ename": "TypeError",
     "evalue": "'int' object is not callable",
     "output_type": "error",
     "traceback": [
      "\u001b[0;31m---------------------------------------------------------------------------\u001b[0m",
      "\u001b[0;31mTypeError\u001b[0m                                 Traceback (most recent call last)",
      "Cell \u001b[0;32mIn[4], line 29\u001b[0m\n\u001b[1;32m     26\u001b[0m tf_pred_y \u001b[39m=\u001b[39m torch\u001b[39m.\u001b[39mcat(tf_preds, dim\u001b[39m=\u001b[39m\u001b[39m1\u001b[39m)\n\u001b[1;32m     28\u001b[0m \u001b[39m# Plot Functions\u001b[39;00m\n\u001b[0;32m---> 29\u001b[0m plot_model_comparisons(\n\u001b[1;32m     30\u001b[0m     target_x\u001b[39m.\u001b[39;49mdetach()\u001b[39m.\u001b[39;49mcpu()\u001b[39m.\u001b[39;49mnumpy(),\n\u001b[1;32m     31\u001b[0m     target_y\u001b[39m.\u001b[39;49mdetach()\u001b[39m.\u001b[39;49mcpu()\u001b[39m.\u001b[39;49mnumpy(),\n\u001b[1;32m     32\u001b[0m     context_x\u001b[39m.\u001b[39;49mdetach()\u001b[39m.\u001b[39;49mcpu()\u001b[39m.\u001b[39;49mnumpy(),\n\u001b[1;32m     33\u001b[0m     context_y\u001b[39m.\u001b[39;49mdetach()\u001b[39m.\u001b[39;49mcpu()\u001b[39m.\u001b[39;49mnumpy(),\n\u001b[1;32m     34\u001b[0m     np_pred_y_mean\u001b[39m.\u001b[39;49mdetach()\u001b[39m.\u001b[39;49mcpu()\u001b[39m.\u001b[39;49mnumpy(),\n\u001b[1;32m     35\u001b[0m     np_pred_y_std\u001b[39m.\u001b[39;49mdetach()\u001b[39m.\u001b[39;49mcpu()\u001b[39m.\u001b[39;49mnumpy(),\n\u001b[1;32m     36\u001b[0m     tf_pred_y\u001b[39m.\u001b[39;49mdetach()\u001b[39m.\u001b[39;49mcpu()\u001b[39m.\u001b[39;49mnumpy(),\n\u001b[1;32m     37\u001b[0m     save_fig\u001b[39m=\u001b[39;49m\u001b[39mNone\u001b[39;49;00m,\n\u001b[1;32m     38\u001b[0m )\n\u001b[1;32m     39\u001b[0m \u001b[39m# save_fig=f\"../images/1d_toy_regression/np_vs_tf_{num_context}_context.png\",\u001b[39;00m\n",
      "File \u001b[0;32m/vol/bitbucket/ls1221/fyp/src/utils/visualise.py:101\u001b[0m, in \u001b[0;36mplot_model_comparisons\u001b[0;34m(target_x, target_y, context_x, context_y, np_pred_mean, np_pred_std, tf_pred_y, save_fig)\u001b[0m\n\u001b[1;32m     61\u001b[0m \u001b[39mdef\u001b[39;00m\u001b[39m \u001b[39m\u001b[39mplot_model_comparisons\u001b[39m(\n\u001b[1;32m     62\u001b[0m     target_x,\n\u001b[1;32m     63\u001b[0m     target_y,\n\u001b[0;32m   (...)\u001b[0m\n\u001b[1;32m     69\u001b[0m     save_fig\u001b[39m=\u001b[39m\u001b[39mNone\u001b[39;00m,\n\u001b[1;32m     70\u001b[0m ):\n\u001b[1;32m     71\u001b[0m \u001b[39m    \u001b[39m\u001b[39m\"\"\"\u001b[39;00m\n\u001b[1;32m     72\u001b[0m \u001b[39m    Plots the Neural Process predictions (mean and uncertainty),\u001b[39;00m\n\u001b[1;32m     73\u001b[0m \u001b[39m    Transformer predictions, and the context points.\u001b[39;00m\n\u001b[0;32m   (...)\u001b[0m\n\u001b[1;32m     99\u001b[0m \u001b[39m        The file path to save the figure. If None, the figure is not saved.\u001b[39;00m\n\u001b[1;32m    100\u001b[0m \u001b[39m    \"\"\"\u001b[39;00m\n\u001b[0;32m--> 101\u001b[0m     num_context \u001b[39m=\u001b[39m context_x\u001b[39m.\u001b[39;49msize(\u001b[39m1\u001b[39;49m)\n\u001b[1;32m    103\u001b[0m     \u001b[39m# Context and target points\u001b[39;00m\n\u001b[1;32m    104\u001b[0m     plt\u001b[39m.\u001b[39mplot(target_x[\u001b[39m0\u001b[39m], target_y[\u001b[39m0\u001b[39m], \u001b[39m\"\u001b[39m\u001b[39mk:\u001b[39m\u001b[39m\"\u001b[39m, linewidth\u001b[39m=\u001b[39m\u001b[39m2\u001b[39m)\n",
      "\u001b[0;31mTypeError\u001b[0m: 'int' object is not callable"
     ]
    }
   ],
   "source": [
    "np_model.to(device)\n",
    "tf_model.to(device)\n",
    "\n",
    "with torch.no_grad():\n",
    "\n",
    "    for num_context in [1, 3, 5, 10, 15, 25, 50]:\n",
    "\n",
    "        data_test = dataset_test.generate_curves(num_context=num_context)\n",
    "        context_x, context_y, target_x, target_y, _, _ = data_test\n",
    "        context_x = context_x.to(device)\n",
    "        context_y = context_y.to(device)\n",
    "        target_x = target_x.to(device)\n",
    "        target_y = target_y.to(device)\n",
    "\n",
    "        # Neural Process\n",
    "        np_pred_y, _, _, _ = np_model(context_x, context_y, target_x)\n",
    "        np_pred_y_mean = np_pred_y.mean.mean(0)\n",
    "        np_pred_y_std = np_pred_y.stddev.mean(0)\n",
    "\n",
    "        # Transformer\n",
    "        tf_preds = []\n",
    "        for i in range(target_x.size(1)):\n",
    "            x_t = target_x[:, i:i+1, :]\n",
    "            pred = tf_model(context_x, context_y, x_t)\n",
    "            tf_preds.append(pred)\n",
    "        tf_pred_y = torch.cat(tf_preds, dim=1)\n",
    "\n",
    "        # Plot Functions\n",
    "        plot_model_comparisons(\n",
    "            target_x.detach().cpu().numpy(),\n",
    "            target_y.detach().cpu().numpy(),\n",
    "            context_x.detach().cpu().numpy(),\n",
    "            context_y.detach().cpu().numpy(),\n",
    "            np_pred_y_mean.detach().cpu().numpy(),\n",
    "            np_pred_y_std.detach().cpu().numpy(),\n",
    "            tf_pred_y.detach().cpu().numpy(),\n",
    "            num_context,\n",
    "            save_fig=None,\n",
    "        )\n",
    "        # save_fig=f\"../images/1d_toy_regression/np_vs_tf_{num_context}_context.png\","
   ]
  },
  {
   "cell_type": "code",
   "execution_count": null,
   "metadata": {},
   "outputs": [],
   "source": []
  }
 ],
 "metadata": {
  "kernelspec": {
   "display_name": "fypenv",
   "language": "python",
   "name": "python3"
  },
  "language_info": {
   "codemirror_mode": {
    "name": "ipython",
    "version": 3
   },
   "file_extension": ".py",
   "mimetype": "text/x-python",
   "name": "python",
   "nbconvert_exporter": "python",
   "pygments_lexer": "ipython3",
   "version": "3.12.3"
  },
  "orig_nbformat": 4,
  "vscode": {
   "interpreter": {
    "hash": "a59794da4bd164cffc16e490c7f9f8828d4f70ec33dff470198ad08953d93a31"
   }
  }
 },
 "nbformat": 4,
 "nbformat_minor": 2
}
