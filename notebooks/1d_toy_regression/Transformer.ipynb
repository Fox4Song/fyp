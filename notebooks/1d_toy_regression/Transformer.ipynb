{
 "cells": [
  {
   "cell_type": "code",
   "execution_count": 1,
   "metadata": {},
   "outputs": [],
   "source": [
    "import os\n",
    "os.chdir('../../src')\n",
    "\n",
    "import datetime\n",
    "import torch\n",
    "import torch.nn as nn\n",
    "\n",
    "from transformer.models import Transformer\n",
    "from data import GPCurvesReader\n",
    "from utils import plot_functions"
   ]
  },
  {
   "cell_type": "code",
   "execution_count": 2,
   "metadata": {},
   "outputs": [
    {
     "name": "stdout",
     "output_type": "stream",
     "text": [
      "cuda:0\n"
     ]
    }
   ],
   "source": [
    "TRAINING_ITERATIONS = int(2e5)\n",
    "PLOT_AFTER = int(2e4)\n",
    "MAX_CONTEXT_POINTS = 10\n",
    "torch.manual_seed(0)\n",
    "\n",
    "# Train dataset\n",
    "dataset_train = GPCurvesReader(batch_size=64, max_num_context=MAX_CONTEXT_POINTS)\n",
    "# Test dataset\n",
    "dataset_test = GPCurvesReader(\n",
    "    batch_size=100, max_num_context=MAX_CONTEXT_POINTS, testing=True\n",
    ")\n",
    "\n",
    "device = torch.device(\"cuda:0\" if torch.cuda.is_available() else \"cpu\")\n",
    "print(device)"
   ]
  },
  {
   "cell_type": "code",
   "execution_count": 4,
   "metadata": {},
   "outputs": [
    {
     "name": "stdout",
     "output_type": "stream",
     "text": [
      "Iteration: 0, train loss: 1.263702154159546\n",
      "2025-01-29 16:49:52, Iteration: 0, Test Loss: 1.1763923168182373\n"
     ]
    },
    {
     "data": {
      "image/png": "[encoded data removed]",
      "text/plain": [
       "<Figure size 640x480 with 1 Axes>"
      ]
     },
     "metadata": {},
     "output_type": "display_data"
    }
   ],
   "source": [
    "# Model\n",
    "model = Transformer(x_dim=1, y_dim=1)\n",
    "model.to(device)\n",
    "\n",
    "optimizer = torch.optim.Adam(model.parameters(), lr=1e-4)\n",
    "criterion = nn.MSELoss()\n",
    "\n",
    "# Training loop\n",
    "for it in range(TRAINING_ITERATIONS + 1):\n",
    "    # Sample a batch from the training dataset\n",
    "    data_train = dataset_train.generate_curves()\n",
    "    context_x, context_y, target_x, target_y, _, _ = data_train\n",
    "\n",
    "    context_x = context_x.to(device)\n",
    "    context_y = context_y.to(device)\n",
    "    target_x = target_x.to(device)\n",
    "    target_y = target_y.to(device)\n",
    "    optimizer.zero_grad()\n",
    "\n",
    "    preds = []\n",
    "\n",
    "    for i in range(target_x.size(1)):\n",
    "        x_t = target_x[:, i:i+1, :]\n",
    "        pred = model(context_x, context_y, x_t)\n",
    "        preds.append(pred)\n",
    "\n",
    "    pred_y = torch.cat(preds, dim=1)\n",
    "    loss = criterion(pred_y, target_y)\n",
    "\n",
    "    loss.backward()\n",
    "    optimizer.step()\n",
    "\n",
    "    if it % 1000 == 0:\n",
    "        print(\"Iteration: {}, train loss: {}\".format(it, loss.item()))\n",
    "\n",
    "    # Plot and print the loss every PLOT_AFTER iterations\n",
    "    if it % PLOT_AFTER == 0:\n",
    "        model.eval()\n",
    "        with torch.no_grad():\n",
    "            data_test = dataset_test.generate_curves()\n",
    "            context_x, context_y, target_x, target_y, _, _ = data_test\n",
    "\n",
    "            context_x = context_x.to(device)\n",
    "            context_y = context_y.to(device)\n",
    "            target_x = target_x.to(device)\n",
    "            target_y = target_y.to(device)\n",
    "\n",
    "            preds = []\n",
    "\n",
    "            for i in range(target_x.size(1)):\n",
    "                x_t = target_x[:, i:i+1, :]\n",
    "                pred = model(context_x, context_y, x_t)\n",
    "                preds.append(pred)\n",
    "\n",
    "            pred_y = torch.cat(preds, dim=1)\n",
    "            test_loss = criterion(pred_y, target_y)\n",
    "\n",
    "            print(\n",
    "                \"{}, Iteration: {}, Test Loss: {}\".format(\n",
    "                    datetime.datetime.now().strftime(\"%Y-%m-%d %H:%M:%S\"), it, test_loss.item()\n",
    "                )\n",
    "            )\n",
    "            \n",
    "            fig_dir = None\n",
    "            if it in [160000, 180000, 200000]:\n",
    "                fig_dir = '../images/1d_toy_regression/' + model.__class__.__name__ + '-' + str(it) + '.png'\n",
    "\n",
    "            plot_functions(\n",
    "                target_x.detach().cpu().numpy(),\n",
    "                target_y.detach().cpu().numpy(),\n",
    "                context_x.detach().cpu().numpy(),\n",
    "                context_y.detach().cpu().numpy(),\n",
    "                pred_y.detach().cpu().numpy(),\n",
    "                save_fig=fig_dir,\n",
    "            )\n",
    "\n",
    "torch.save(model.state_dict(), '../models/1d_toy_regression/' + model.__class__.__name__ + '.pt')"
   ]
  }
 ],
 "metadata": {
  "kernelspec": {
   "display_name": "fypenv",
   "language": "python",
   "name": "python3"
  },
  "language_info": {
   "codemirror_mode": {
    "name": "ipython",
    "version": 3
   },
   "file_extension": ".py",
   "mimetype": "text/x-python",
   "name": "python",
   "nbconvert_exporter": "python",
   "pygments_lexer": "ipython3",
   "version": "3.12.3"
  },
  "orig_nbformat": 4,
  "vscode": {
   "interpreter": {
    "hash": "a59794da4bd164cffc16e490c7f9f8828d4f70ec33dff470198ad08953d93a31"
   }
  }
 },
 "nbformat": 4,
 "nbformat_minor": 2
}
